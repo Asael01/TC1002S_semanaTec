{
 "cells": [
  {
   "cell_type": "code",
   "execution_count": null,
   "metadata": {
    "id": "pL1VDz9mLqzm"
   },
   "outputs": [],
   "source": [
    "# Estadística básica"
   ]
  },
  {
   "cell_type": "markdown",
   "metadata": {},
   "source": [
    "# ¿Qué es Pandas?\n",
    "* Pandas es una muy popular librería de código abierto dentro de los desarrolladores de Python, y sobre todo dentro del ámbito de Data Science y Machine Learning, ya que ofrece unas estructuras muy poderosas y flexibles que facilitan la manipulación y tratamiento de datos.\n",
    "\n",
    "* Pandas surgió como necesidad de aunar en una única librería todo lo necesario para que un analista de datos pudiese tener en una misma herramienta todas las funcionalidades que necesitaba en su día a día, como son: cargar datos, modelar, analizar, manipular y prepararlos."
   ]
  },
  {
   "cell_type": "markdown",
   "metadata": {},
   "source": [
    "## Analizar datos con Pandas\n",
    "* A día de hoy, aunque no seamos todavía del todo conscientes, vivimos en un mundo en el que podemos sacar información muy valiosa de los datos, aunque a priori no la conozcamos. El principal problema que nos encontramos es que, a simple vista, no somos capaces de obtener ese conocimiento, por eso necesitamos de herramientas como Pandas que nos ayuden en este proceso.\n",
    "\n",
    "* mA continuación se enumeran funciones muy valiosas de Pandas que pueden ayudarnos para hacer un análisis en profundidad de los datos con los que se esté trabajando:\n",
    "\n",
    "* head(n): Esta función devuelve las primeras n filas de nuestro DataFrame.\n",
    "* tail(n): Devuelve las n últimas filas de nuestro DataFrame.\n",
    "* describe(): Esta función da estadísticas descriptivas incluyendo aquellas que resumen la tendencia central, dispersión y la forma de la distribución de los datos."
   ]
  },
  {
   "cell_type": "code",
   "execution_count": null,
   "metadata": {
    "id": "0WoX18-00yNy"
   },
   "outputs": [],
   "source": [
    "* Empezemos cargando `pandas`."
   ]
  },
  {
   "cell_type": "code",
   "execution_count": 63,
   "metadata": {
    "executionInfo": {
     "elapsed": 703,
     "status": "ok",
     "timestamp": 1646665745081,
     "user": {
      "displayName": "Pedro Oscar Pérez Murueta",
      "photoUrl": "https://lh3.googleusercontent.com/a-/AOh14GjAp4grs-Dbvo16yvVecmZ6TtiIdA4j7shQwFHpqA=s64",
      "userId": "06271884207723677071"
     },
     "user_tz": 360
    },
    "id": "KgkZ8n1302f4"
   },
   "outputs": [],
   "source": [
    "import pandas as pd\n",
    "#import numpy as np\n",
    "from matplotlib import pyplot as plt\n",
    "#import random"
   ]
  },
  {
   "cell_type": "markdown",
   "metadata": {
    "id": "28-ooM9iLzE-"
   },
   "source": [
    "## Preparando los datos"
   ]
  },
  {
   "cell_type": "markdown",
   "metadata": {
    "id": "d8renUIHL2pM"
   },
   "source": [
    "* Vamos a cargar el archivo de datos `peso_estatura_genero`. Lo usaremos a lo largo esta actividad y lo puedes encontrar en el repositorio del curso.*"
   ]
  },
  {
   "cell_type": "code",
   "execution_count": 40,
   "metadata": {
    "colab": {
     "base_uri": "https://localhost:8080/",
     "height": 90,
     "resources": {
      "http://localhost:8080/nbextensions/google.colab/files.js": {
       "data": "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",
       "headers": [
        [
         "content-type",
         "application/javascript"
        ]
       ],
       "ok": true,
       "status": 200,
       "status_text": ""
      }
     }
    },
    "executionInfo": {
     "elapsed": 6735,
     "status": "ok",
     "timestamp": 1646665751813,
     "user": {
      "displayName": "Pedro Oscar Pérez Murueta",
      "photoUrl": "https://lh3.googleusercontent.com/a-/AOh14GjAp4grs-Dbvo16yvVecmZ6TtiIdA4j7shQwFHpqA=s64",
      "userId": "06271884207723677071"
     },
     "user_tz": 360
    },
    "id": "0g_sRaxrLCjE",
    "outputId": "cd9392ce-6117-4ee1-cad1-466bf5b52c38"
   },
   "outputs": [],
   "source": [
    "df = pd.read_csv(\"peso_estatura_genero.csv\")"
   ]
  },
  {
   "cell_type": "markdown",
   "metadata": {
    "id": "kvE0HY9Q0mif"
   },
   "source": [
    "* A continuación, vamos a leer el archivo y a revisar su contenido, haremos cambio de unidades."
   ]
  },
  {
   "cell_type": "code",
   "execution_count": 41,
   "metadata": {
    "colab": {
     "base_uri": "https://localhost:8080/",
     "height": 112
    },
    "executionInfo": {
     "elapsed": 319,
     "status": "ok",
     "timestamp": 1646665757714,
     "user": {
      "displayName": "Pedro Oscar Pérez Murueta",
      "photoUrl": "https://lh3.googleusercontent.com/a-/AOh14GjAp4grs-Dbvo16yvVecmZ6TtiIdA4j7shQwFHpqA=s64",
      "userId": "06271884207723677071"
     },
     "user_tz": 360
    },
    "id": "wN1SIIL-0toI",
    "outputId": "8dd32f19-512f-481f-977e-eda1cdd02ae3"
   },
   "outputs": [
    {
     "data": {
      "text/html": [
       "<div>\n",
       "<style scoped>\n",
       "    .dataframe tbody tr th:only-of-type {\n",
       "        vertical-align: middle;\n",
       "    }\n",
       "\n",
       "    .dataframe tbody tr th {\n",
       "        vertical-align: top;\n",
       "    }\n",
       "\n",
       "    .dataframe thead th {\n",
       "        text-align: right;\n",
       "    }\n",
       "</style>\n",
       "<table border=\"1\" class=\"dataframe\">\n",
       "  <thead>\n",
       "    <tr style=\"text-align: right;\">\n",
       "      <th></th>\n",
       "      <th>Genero</th>\n",
       "      <th>Estatura</th>\n",
       "      <th>Peso</th>\n",
       "    </tr>\n",
       "  </thead>\n",
       "  <tbody>\n",
       "    <tr>\n",
       "      <th>0</th>\n",
       "      <td>Male</td>\n",
       "      <td>187.571423</td>\n",
       "      <td>109.951620</td>\n",
       "    </tr>\n",
       "    <tr>\n",
       "      <th>1</th>\n",
       "      <td>Male</td>\n",
       "      <td>174.706036</td>\n",
       "      <td>73.777487</td>\n",
       "    </tr>\n",
       "    <tr>\n",
       "      <th>2</th>\n",
       "      <td>Male</td>\n",
       "      <td>188.239668</td>\n",
       "      <td>96.700389</td>\n",
       "    </tr>\n",
       "    <tr>\n",
       "      <th>3</th>\n",
       "      <td>Male</td>\n",
       "      <td>182.196685</td>\n",
       "      <td>100.019305</td>\n",
       "    </tr>\n",
       "    <tr>\n",
       "      <th>4</th>\n",
       "      <td>Male</td>\n",
       "      <td>177.499761</td>\n",
       "      <td>93.795364</td>\n",
       "    </tr>\n",
       "    <tr>\n",
       "      <th>...</th>\n",
       "      <td>...</td>\n",
       "      <td>...</td>\n",
       "      <td>...</td>\n",
       "    </tr>\n",
       "    <tr>\n",
       "      <th>9995</th>\n",
       "      <td>Female</td>\n",
       "      <td>168.078536</td>\n",
       "      <td>62.171570</td>\n",
       "    </tr>\n",
       "    <tr>\n",
       "      <th>9996</th>\n",
       "      <td>Female</td>\n",
       "      <td>170.350573</td>\n",
       "      <td>77.667230</td>\n",
       "    </tr>\n",
       "    <tr>\n",
       "      <th>9997</th>\n",
       "      <td>Female</td>\n",
       "      <td>162.224700</td>\n",
       "      <td>58.397872</td>\n",
       "    </tr>\n",
       "    <tr>\n",
       "      <th>9998</th>\n",
       "      <td>Female</td>\n",
       "      <td>175.346978</td>\n",
       "      <td>74.478391</td>\n",
       "    </tr>\n",
       "    <tr>\n",
       "      <th>9999</th>\n",
       "      <td>Female</td>\n",
       "      <td>157.338385</td>\n",
       "      <td>51.658683</td>\n",
       "    </tr>\n",
       "  </tbody>\n",
       "</table>\n",
       "<p>10000 rows × 3 columns</p>\n",
       "</div>"
      ],
      "text/plain": [
       "      Genero    Estatura        Peso\n",
       "0       Male  187.571423  109.951620\n",
       "1       Male  174.706036   73.777487\n",
       "2       Male  188.239668   96.700389\n",
       "3       Male  182.196685  100.019305\n",
       "4       Male  177.499761   93.795364\n",
       "...      ...         ...         ...\n",
       "9995  Female  168.078536   62.171570\n",
       "9996  Female  170.350573   77.667230\n",
       "9997  Female  162.224700   58.397872\n",
       "9998  Female  175.346978   74.478391\n",
       "9999  Female  157.338385   51.658683\n",
       "\n",
       "[10000 rows x 3 columns]"
      ]
     },
     "execution_count": 41,
     "metadata": {},
     "output_type": "execute_result"
    }
   ],
   "source": [
    "#Cambio de libras a kg y pulgadas a cms\n",
    "df.Estatura = df.Estatura*2.54\n",
    "df.Peso = df.Peso/2.2\n",
    "df"
   ]
  },
  {
   "cell_type": "markdown",
   "metadata": {
    "id": "6iYQl7lF1hte"
   },
   "source": [
    "* Para este ejercicio, las variables que vamos a considerar son las siguientes:\n",
    "  * **Genero**: Male/Female.\n",
    "  * **Estatura**: Estatura de la persona(cms).\n",
    "  * **Peso**: Peso de la persona(kg).\n"
   ]
  },
  {
   "cell_type": "markdown",
   "metadata": {
    "id": "qZe-aL3g2Eza"
   },
   "source": [
    "### Revisando el conjunto de datos"
   ]
  },
  {
   "cell_type": "markdown",
   "metadata": {
    "id": "-QGN1Znk2OaS"
   },
   "source": [
    "* `shape`nos permite conocer las dimensiones del `DataFrame` (renglones y columnas)."
   ]
  },
  {
   "cell_type": "code",
   "execution_count": 42,
   "metadata": {
    "colab": {
     "base_uri": "https://localhost:8080/"
    },
    "executionInfo": {
     "elapsed": 423,
     "status": "ok",
     "timestamp": 1646412793690,
     "user": {
      "displayName": "Pedro Oscar Pérez Murueta",
      "photoUrl": "https://lh3.googleusercontent.com/a-/AOh14GjAp4grs-Dbvo16yvVecmZ6TtiIdA4j7shQwFHpqA=s64",
      "userId": "06271884207723677071"
     },
     "user_tz": 360
    },
    "id": "XhhXYOSc2W26",
    "outputId": "bf1db8a5-d240-4f5c-94d7-2d111d4cb7f6"
   },
   "outputs": [
    {
     "data": {
      "text/plain": [
       "(10000, 3)"
      ]
     },
     "execution_count": 42,
     "metadata": {},
     "output_type": "execute_result"
    }
   ],
   "source": [
    "df.shape"
   ]
  },
  {
   "cell_type": "markdown",
   "metadata": {
    "id": "ZfYZEupQ2p0O"
   },
   "source": [
    "* `info` nos permite conocer el tipo de dato de cada columna. También nos indica cuantos reglones, por columna, tiene algún valor nulo (o faltante)."
   ]
  },
  {
   "cell_type": "code",
   "execution_count": 43,
   "metadata": {
    "colab": {
     "base_uri": "https://localhost:8080/"
    },
    "executionInfo": {
     "elapsed": 2,
     "status": "ok",
     "timestamp": 1646412881605,
     "user": {
      "displayName": "Pedro Oscar Pérez Murueta",
      "photoUrl": "https://lh3.googleusercontent.com/a-/AOh14GjAp4grs-Dbvo16yvVecmZ6TtiIdA4j7shQwFHpqA=s64",
      "userId": "06271884207723677071"
     },
     "user_tz": 360
    },
    "id": "HQ2xzktO2sv-",
    "outputId": "d79fa1e3-e266-498b-867c-d6fa9257de51"
   },
   "outputs": [
    {
     "name": "stdout",
     "output_type": "stream",
     "text": [
      "<class 'pandas.core.frame.DataFrame'>\n",
      "RangeIndex: 10000 entries, 0 to 9999\n",
      "Data columns (total 3 columns):\n",
      " #   Column    Non-Null Count  Dtype  \n",
      "---  ------    --------------  -----  \n",
      " 0   Genero    10000 non-null  object \n",
      " 1   Estatura  10000 non-null  float64\n",
      " 2   Peso      10000 non-null  float64\n",
      "dtypes: float64(2), object(1)\n",
      "memory usage: 234.5+ KB\n"
     ]
    }
   ],
   "source": [
    "df.info()"
   ]
  },
  {
   "cell_type": "markdown",
   "metadata": {
    "id": "fZIqd9gV2bY8"
   },
   "source": [
    "* `colums`nos muestra los índices de las columnas."
   ]
  },
  {
   "cell_type": "code",
   "execution_count": 44,
   "metadata": {
    "colab": {
     "base_uri": "https://localhost:8080/"
    },
    "executionInfo": {
     "elapsed": 315,
     "status": "ok",
     "timestamp": 1646412829201,
     "user": {
      "displayName": "Pedro Oscar Pérez Murueta",
      "photoUrl": "https://lh3.googleusercontent.com/a-/AOh14GjAp4grs-Dbvo16yvVecmZ6TtiIdA4j7shQwFHpqA=s64",
      "userId": "06271884207723677071"
     },
     "user_tz": 360
    },
    "id": "Ndf9Q9d52fJt",
    "outputId": "6e99105f-e239-4154-905f-475f7360a02d"
   },
   "outputs": [
    {
     "data": {
      "text/plain": [
       "Index(['Genero', 'Estatura', 'Peso'], dtype='object')"
      ]
     },
     "execution_count": 44,
     "metadata": {},
     "output_type": "execute_result"
    }
   ],
   "source": [
    "df.columns"
   ]
  },
  {
   "cell_type": "markdown",
   "metadata": {
    "id": "VIJ0DUfy3ItX"
   },
   "source": [
    "* Para mostrar los primeros elementos de la estructura, ejecutamos el método head:"
   ]
  },
  {
   "cell_type": "code",
   "execution_count": 45,
   "metadata": {
    "colab": {
     "base_uri": "https://localhost:8080/",
     "height": 112
    },
    "executionInfo": {
     "elapsed": 292,
     "status": "ok",
     "timestamp": 1646668145686,
     "user": {
      "displayName": "Pedro Oscar Pérez Murueta",
      "photoUrl": "https://lh3.googleusercontent.com/a-/AOh14GjAp4grs-Dbvo16yvVecmZ6TtiIdA4j7shQwFHpqA=s64",
      "userId": "06271884207723677071"
     },
     "user_tz": 360
    },
    "id": "cYT6QvKe3cOQ",
    "outputId": "41ff52db-5bef-4c76-8846-e04bd749ecda"
   },
   "outputs": [
    {
     "data": {
      "text/html": [
       "<div>\n",
       "<style scoped>\n",
       "    .dataframe tbody tr th:only-of-type {\n",
       "        vertical-align: middle;\n",
       "    }\n",
       "\n",
       "    .dataframe tbody tr th {\n",
       "        vertical-align: top;\n",
       "    }\n",
       "\n",
       "    .dataframe thead th {\n",
       "        text-align: right;\n",
       "    }\n",
       "</style>\n",
       "<table border=\"1\" class=\"dataframe\">\n",
       "  <thead>\n",
       "    <tr style=\"text-align: right;\">\n",
       "      <th></th>\n",
       "      <th>Genero</th>\n",
       "      <th>Estatura</th>\n",
       "      <th>Peso</th>\n",
       "    </tr>\n",
       "  </thead>\n",
       "  <tbody>\n",
       "    <tr>\n",
       "      <th>0</th>\n",
       "      <td>Male</td>\n",
       "      <td>187.571423</td>\n",
       "      <td>109.951620</td>\n",
       "    </tr>\n",
       "    <tr>\n",
       "      <th>1</th>\n",
       "      <td>Male</td>\n",
       "      <td>174.706036</td>\n",
       "      <td>73.777487</td>\n",
       "    </tr>\n",
       "    <tr>\n",
       "      <th>2</th>\n",
       "      <td>Male</td>\n",
       "      <td>188.239668</td>\n",
       "      <td>96.700389</td>\n",
       "    </tr>\n",
       "    <tr>\n",
       "      <th>3</th>\n",
       "      <td>Male</td>\n",
       "      <td>182.196685</td>\n",
       "      <td>100.019305</td>\n",
       "    </tr>\n",
       "    <tr>\n",
       "      <th>4</th>\n",
       "      <td>Male</td>\n",
       "      <td>177.499761</td>\n",
       "      <td>93.795364</td>\n",
       "    </tr>\n",
       "  </tbody>\n",
       "</table>\n",
       "</div>"
      ],
      "text/plain": [
       "  Genero    Estatura        Peso\n",
       "0   Male  187.571423  109.951620\n",
       "1   Male  174.706036   73.777487\n",
       "2   Male  188.239668   96.700389\n",
       "3   Male  182.196685  100.019305\n",
       "4   Male  177.499761   93.795364"
      ]
     },
     "execution_count": 45,
     "metadata": {},
     "output_type": "execute_result"
    }
   ],
   "source": [
    "#df = df.drop('Unnamed: 0', axis=1)\n",
    "df.head()"
   ]
  },
  {
   "cell_type": "markdown",
   "metadata": {},
   "source": [
    "* Para generar estadísticas descriptivas, ejecutamos el comando describe."
   ]
  },
  {
   "cell_type": "code",
   "execution_count": 46,
   "metadata": {
    "colab": {
     "base_uri": "https://localhost:8080/",
     "height": 300
    },
    "executionInfo": {
     "elapsed": 2,
     "status": "ok",
     "timestamp": 1646668148136,
     "user": {
      "displayName": "Pedro Oscar Pérez Murueta",
      "photoUrl": "https://lh3.googleusercontent.com/a-/AOh14GjAp4grs-Dbvo16yvVecmZ6TtiIdA4j7shQwFHpqA=s64",
      "userId": "06271884207723677071"
     },
     "user_tz": 360
    },
    "id": "mLSWVeEgD2Xg",
    "outputId": "6019117c-10fb-435c-deb6-066988c56580"
   },
   "outputs": [
    {
     "data": {
      "text/html": [
       "<div>\n",
       "<style scoped>\n",
       "    .dataframe tbody tr th:only-of-type {\n",
       "        vertical-align: middle;\n",
       "    }\n",
       "\n",
       "    .dataframe tbody tr th {\n",
       "        vertical-align: top;\n",
       "    }\n",
       "\n",
       "    .dataframe thead th {\n",
       "        text-align: right;\n",
       "    }\n",
       "</style>\n",
       "<table border=\"1\" class=\"dataframe\">\n",
       "  <thead>\n",
       "    <tr style=\"text-align: right;\">\n",
       "      <th></th>\n",
       "      <th>Estatura</th>\n",
       "      <th>Peso</th>\n",
       "    </tr>\n",
       "  </thead>\n",
       "  <tbody>\n",
       "    <tr>\n",
       "      <th>count</th>\n",
       "      <td>10000.000000</td>\n",
       "      <td>10000.000000</td>\n",
       "    </tr>\n",
       "    <tr>\n",
       "      <th>mean</th>\n",
       "      <td>168.573602</td>\n",
       "      <td>73.381980</td>\n",
       "    </tr>\n",
       "    <tr>\n",
       "      <th>std</th>\n",
       "      <td>9.772721</td>\n",
       "      <td>14.594745</td>\n",
       "    </tr>\n",
       "    <tr>\n",
       "      <th>min</th>\n",
       "      <td>137.828359</td>\n",
       "      <td>29.409149</td>\n",
       "    </tr>\n",
       "    <tr>\n",
       "      <th>25%</th>\n",
       "      <td>161.304276</td>\n",
       "      <td>61.735478</td>\n",
       "    </tr>\n",
       "    <tr>\n",
       "      <th>50%</th>\n",
       "      <td>168.447898</td>\n",
       "      <td>73.278604</td>\n",
       "    </tr>\n",
       "    <tr>\n",
       "      <th>75%</th>\n",
       "      <td>175.702625</td>\n",
       "      <td>85.077057</td>\n",
       "    </tr>\n",
       "    <tr>\n",
       "      <th>max</th>\n",
       "      <td>200.656806</td>\n",
       "      <td>122.722590</td>\n",
       "    </tr>\n",
       "  </tbody>\n",
       "</table>\n",
       "</div>"
      ],
      "text/plain": [
       "           Estatura          Peso\n",
       "count  10000.000000  10000.000000\n",
       "mean     168.573602     73.381980\n",
       "std        9.772721     14.594745\n",
       "min      137.828359     29.409149\n",
       "25%      161.304276     61.735478\n",
       "50%      168.447898     73.278604\n",
       "75%      175.702625     85.077057\n",
       "max      200.656806    122.722590"
      ]
     },
     "execution_count": 46,
     "metadata": {},
     "output_type": "execute_result"
    }
   ],
   "source": [
    "df.describe()"
   ]
  },
  {
   "cell_type": "markdown",
   "metadata": {
    "id": "WXYGHkZNBdKR"
   },
   "source": [
    "### Más filtros"
   ]
  },
  {
   "cell_type": "code",
   "execution_count": 47,
   "metadata": {
    "colab": {
     "base_uri": "https://localhost:8080/",
     "height": 219
    },
    "executionInfo": {
     "elapsed": 305,
     "status": "ok",
     "timestamp": 1646415761105,
     "user": {
      "displayName": "Pedro Oscar Pérez Murueta",
      "photoUrl": "https://lh3.googleusercontent.com/a-/AOh14GjAp4grs-Dbvo16yvVecmZ6TtiIdA4j7shQwFHpqA=s64",
      "userId": "06271884207723677071"
     },
     "user_tz": 360
    },
    "id": "4cJLKIqoBf8I",
    "outputId": "2178dce7-0cec-4dcc-fa84-ab892dcca929"
   },
   "outputs": [
    {
     "data": {
      "text/html": [
       "<div>\n",
       "<style scoped>\n",
       "    .dataframe tbody tr th:only-of-type {\n",
       "        vertical-align: middle;\n",
       "    }\n",
       "\n",
       "    .dataframe tbody tr th {\n",
       "        vertical-align: top;\n",
       "    }\n",
       "\n",
       "    .dataframe thead th {\n",
       "        text-align: right;\n",
       "    }\n",
       "</style>\n",
       "<table border=\"1\" class=\"dataframe\">\n",
       "  <thead>\n",
       "    <tr style=\"text-align: right;\">\n",
       "      <th></th>\n",
       "      <th>Genero</th>\n",
       "      <th>Estatura</th>\n",
       "      <th>Peso</th>\n",
       "    </tr>\n",
       "  </thead>\n",
       "  <tbody>\n",
       "    <tr>\n",
       "      <th>23</th>\n",
       "      <td>Male</td>\n",
       "      <td>191.023173</td>\n",
       "      <td>103.982628</td>\n",
       "    </tr>\n",
       "    <tr>\n",
       "      <th>190</th>\n",
       "      <td>Male</td>\n",
       "      <td>194.842981</td>\n",
       "      <td>106.834281</td>\n",
       "    </tr>\n",
       "    <tr>\n",
       "      <th>197</th>\n",
       "      <td>Male</td>\n",
       "      <td>192.898929</td>\n",
       "      <td>105.420340</td>\n",
       "    </tr>\n",
       "    <tr>\n",
       "      <th>202</th>\n",
       "      <td>Male</td>\n",
       "      <td>190.857686</td>\n",
       "      <td>101.874669</td>\n",
       "    </tr>\n",
       "    <tr>\n",
       "      <th>232</th>\n",
       "      <td>Male</td>\n",
       "      <td>193.094223</td>\n",
       "      <td>107.239118</td>\n",
       "    </tr>\n",
       "    <tr>\n",
       "      <th>...</th>\n",
       "      <td>...</td>\n",
       "      <td>...</td>\n",
       "      <td>...</td>\n",
       "    </tr>\n",
       "    <tr>\n",
       "      <th>3909</th>\n",
       "      <td>Male</td>\n",
       "      <td>195.751082</td>\n",
       "      <td>113.231928</td>\n",
       "    </tr>\n",
       "    <tr>\n",
       "      <th>3918</th>\n",
       "      <td>Male</td>\n",
       "      <td>194.404390</td>\n",
       "      <td>110.576135</td>\n",
       "    </tr>\n",
       "    <tr>\n",
       "      <th>4065</th>\n",
       "      <td>Male</td>\n",
       "      <td>191.906023</td>\n",
       "      <td>99.494220</td>\n",
       "    </tr>\n",
       "    <tr>\n",
       "      <th>4077</th>\n",
       "      <td>Male</td>\n",
       "      <td>190.441460</td>\n",
       "      <td>113.113124</td>\n",
       "    </tr>\n",
       "    <tr>\n",
       "      <th>4086</th>\n",
       "      <td>Male</td>\n",
       "      <td>191.971789</td>\n",
       "      <td>108.788109</td>\n",
       "    </tr>\n",
       "  </tbody>\n",
       "</table>\n",
       "<p>80 rows × 3 columns</p>\n",
       "</div>"
      ],
      "text/plain": [
       "     Genero    Estatura        Peso\n",
       "23     Male  191.023173  103.982628\n",
       "190    Male  194.842981  106.834281\n",
       "197    Male  192.898929  105.420340\n",
       "202    Male  190.857686  101.874669\n",
       "232    Male  193.094223  107.239118\n",
       "...     ...         ...         ...\n",
       "3909   Male  195.751082  113.231928\n",
       "3918   Male  194.404390  110.576135\n",
       "4065   Male  191.906023   99.494220\n",
       "4077   Male  190.441460  113.113124\n",
       "4086   Male  191.971789  108.788109\n",
       "\n",
       "[80 rows x 3 columns]"
      ]
     },
     "execution_count": 47,
     "metadata": {},
     "output_type": "execute_result"
    }
   ],
   "source": [
    "more_than_190 = df[df['Estatura'] > 190]\n",
    "more_than_190.head(80)"
   ]
  },
  {
   "cell_type": "code",
   "execution_count": 48,
   "metadata": {
    "colab": {
     "base_uri": "https://localhost:8080/",
     "height": 219
    },
    "executionInfo": {
     "elapsed": 316,
     "status": "ok",
     "timestamp": 1646415933192,
     "user": {
      "displayName": "Pedro Oscar Pérez Murueta",
      "photoUrl": "https://lh3.googleusercontent.com/a-/AOh14GjAp4grs-Dbvo16yvVecmZ6TtiIdA4j7shQwFHpqA=s64",
      "userId": "06271884207723677071"
     },
     "user_tz": 360
    },
    "id": "90MukjE4By2v",
    "outputId": "0077354f-bf22-4825-90ba-200dc67a6dd2"
   },
   "outputs": [
    {
     "data": {
      "text/html": [
       "<div>\n",
       "<style scoped>\n",
       "    .dataframe tbody tr th:only-of-type {\n",
       "        vertical-align: middle;\n",
       "    }\n",
       "\n",
       "    .dataframe tbody tr th {\n",
       "        vertical-align: top;\n",
       "    }\n",
       "\n",
       "    .dataframe thead th {\n",
       "        text-align: right;\n",
       "    }\n",
       "</style>\n",
       "<table border=\"1\" class=\"dataframe\">\n",
       "  <thead>\n",
       "    <tr style=\"text-align: right;\">\n",
       "      <th></th>\n",
       "      <th>Genero</th>\n",
       "      <th>Estatura</th>\n",
       "      <th>Peso</th>\n",
       "    </tr>\n",
       "  </thead>\n",
       "  <tbody>\n",
       "    <tr>\n",
       "      <th>534</th>\n",
       "      <td>Male</td>\n",
       "      <td>190.611747</td>\n",
       "      <td>94.784740</td>\n",
       "    </tr>\n",
       "    <tr>\n",
       "      <th>649</th>\n",
       "      <td>Male</td>\n",
       "      <td>190.651558</td>\n",
       "      <td>99.356222</td>\n",
       "    </tr>\n",
       "    <tr>\n",
       "      <th>673</th>\n",
       "      <td>Male</td>\n",
       "      <td>194.314784</td>\n",
       "      <td>99.037430</td>\n",
       "    </tr>\n",
       "    <tr>\n",
       "      <th>711</th>\n",
       "      <td>Male</td>\n",
       "      <td>191.493882</td>\n",
       "      <td>99.365771</td>\n",
       "    </tr>\n",
       "  </tbody>\n",
       "</table>\n",
       "</div>"
      ],
      "text/plain": [
       "    Genero    Estatura       Peso\n",
       "534   Male  190.611747  94.784740\n",
       "649   Male  190.651558  99.356222\n",
       "673   Male  194.314784  99.037430\n",
       "711   Male  191.493882  99.365771"
      ]
     },
     "execution_count": 48,
     "metadata": {},
     "output_type": "execute_result"
    }
   ],
   "source": [
    "double_filter = df[(df['Estatura'] > 190) & (df['Peso'] < 100)]\n",
    "double_filter.head(4)"
   ]
  },
  {
   "cell_type": "markdown",
   "metadata": {
    "id": "HxIxFsDoCkOG"
   },
   "source": [
    "## Medidas de tendencia central"
   ]
  },
  {
   "cell_type": "markdown",
   "metadata": {
    "id": "aA3owA5JCmZO"
   },
   "source": [
    "A primera vista, resumir los datos puede parecer bastante fácil: calculamos la media de los datos y listo. De hecho, si bien la media es fácil de calcular y conveniente de usar, es posible que no siempre sea la mejor medida para un valor central. Por esta razón, los estadísticos han desarrollado varias estimaciones alternativas a la media."
   ]
  },
  {
   "cell_type": "markdown",
   "metadata": {
    "id": "qI0BT-lNCo9W"
   },
   "source": [
    "### Media"
   ]
  },
  {
   "cell_type": "markdown",
   "metadata": {
    "id": "PvBC8-zqCsBi"
   },
   "source": [
    "La estimación más básica de cómo están conformados los datos es el valor medio, media o promedio. La media es la suma de todos los valores dividida por el número de valores. Considera el siguiente conjunto de números: [3, 3, 1, 2]. La media es (3 + 5 + 1 + 2) / 4 = 11 / 4 = 2.75. El símbolo  $\\bar{x}$ representa la media de la muestra de una población (se pronuncia x-bar). La fórmula para calcula la media de una conjunto de N valores ($x_1$,$x_2$,...,$x_N$) es:"
   ]
  },
  {
   "cell_type": "markdown",
   "metadata": {
    "id": "erm_B7d3Cwp2"
   },
   "source": [
    "Media = $\\bar{x}$ = $\\frac{\\sum_{i=1}^{N}x_i}{N}$"
   ]
  },
  {
   "cell_type": "code",
   "execution_count": 49,
   "metadata": {
    "colab": {
     "base_uri": "https://localhost:8080/"
    },
    "executionInfo": {
     "elapsed": 4,
     "status": "ok",
     "timestamp": 1646416062519,
     "user": {
      "displayName": "Pedro Oscar Pérez Murueta",
      "photoUrl": "https://lh3.googleusercontent.com/a-/AOh14GjAp4grs-Dbvo16yvVecmZ6TtiIdA4j7shQwFHpqA=s64",
      "userId": "06271884207723677071"
     },
     "user_tz": 360
    },
    "id": "L95iCWwxCz5F",
    "outputId": "d8b2a8cf-5692-4e37-a45b-c68dd90cba6f"
   },
   "outputs": [
    {
     "name": "stdout",
     "output_type": "stream",
     "text": [
      "Media:  168.57360177736064\n"
     ]
    }
   ],
   "source": [
    "print('Media: ', df['Estatura'].mean())"
   ]
  },
  {
   "cell_type": "markdown",
   "metadata": {
    "id": "wuhz6J_2C4km"
   },
   "source": [
    "### Media recortada"
   ]
  },
  {
   "cell_type": "markdown",
   "metadata": {
    "id": "uZsYm5CQC6n2"
   },
   "source": [
    "Una variación de la media es la media recortada, la cual es calculada después de eliminar los extremos de un conjunto de valores ordenados y luego calculamos el promedio de los valores restantes. De un conjunto de valores ordenados ($x_1$, $x_2$,...,$x_N$) donde $x_1$ es el valor más pequeño y $x_N$ es el valor más grande, la fórmula para calcular la media recortada con los p valores más pequeños y más grandes omitidos es:"
   ]
  },
  {
   "cell_type": "markdown",
   "metadata": {
    "id": "UrFXM7lfC9Cm"
   },
   "source": [
    "Media recortada = $\\bar{x}$ = $\\frac{\\sum_{i=p + 1}^{N - p}x_i}{N - 2p}$"
   ]
  },
  {
   "cell_type": "markdown",
   "metadata": {
    "id": "C-dp6O5rC_uO"
   },
   "source": [
    "La media recortada elimina la influencia de valores extremos. Por ejemplo, la puntuación de los concursos internacionales de clavados se obtiene eliminando la puntuación máxima y mínima de los jueces y calculando el promedio de las puntuaciones restantes. Esto imposibilita que un solo juez manipule la puntuación, quizás para favorecer al competidor de su país. Las medias recortadas se utilizan ampliamente y, en muchos casos, es preferible utilizarlas en lugar de la media ordinaria."
   ]
  },
  {
   "cell_type": "code",
   "execution_count": 57,
   "metadata": {
    "colab": {
     "base_uri": "https://localhost:8080/"
    },
    "executionInfo": {
     "elapsed": 282,
     "status": "ok",
     "timestamp": 1646416128281,
     "user": {
      "displayName": "Pedro Oscar Pérez Murueta",
      "photoUrl": "https://lh3.googleusercontent.com/a-/AOh14GjAp4grs-Dbvo16yvVecmZ6TtiIdA4j7shQwFHpqA=s64",
      "userId": "06271884207723677071"
     },
     "user_tz": 360
    },
    "id": "BDaQkFxVDDsO",
    "outputId": "151b9972-c266-469e-8680-f64735083c6d"
   },
   "outputs": [
    {
     "data": {
      "text/plain": [
       "9285    137.828359\n",
       "6624    138.726819\n",
       "7294    139.379268\n",
       "7617    140.077336\n",
       "5345    140.554691\n",
       "           ...    \n",
       "994     198.363503\n",
       "1317    199.293614\n",
       "3285    199.461654\n",
       "3757    199.698290\n",
       "2014    200.656806\n",
       "Name: Estatura, Length: 10000, dtype: float64"
      ]
     },
     "execution_count": 57,
     "metadata": {},
     "output_type": "execute_result"
    }
   ],
   "source": [
    "sorted = df['Estatura'].sort_values()\n",
    "sorted"
   ]
  },
  {
   "cell_type": "code",
   "execution_count": 58,
   "metadata": {
    "colab": {
     "base_uri": "https://localhost:8080/"
    },
    "executionInfo": {
     "elapsed": 415,
     "status": "ok",
     "timestamp": 1646416139997,
     "user": {
      "displayName": "Pedro Oscar Pérez Murueta",
      "photoUrl": "https://lh3.googleusercontent.com/a-/AOh14GjAp4grs-Dbvo16yvVecmZ6TtiIdA4j7shQwFHpqA=s64",
      "userId": "06271884207723677071"
     },
     "user_tz": 360
    },
    "id": "D5-iWsPuDIzx",
    "outputId": "2f8b14cc-3f6f-40fd-93b7-f082239384f3"
   },
   "outputs": [
    {
     "data": {
      "text/plain": [
       "0       137.828359\n",
       "1       138.726819\n",
       "2       139.379268\n",
       "3       140.077336\n",
       "4       140.554691\n",
       "           ...    \n",
       "9995    198.363503\n",
       "9996    199.293614\n",
       "9997    199.461654\n",
       "9998    199.698290\n",
       "9999    200.656806\n",
       "Name: Estatura, Length: 10000, dtype: float64"
      ]
     },
     "execution_count": 58,
     "metadata": {},
     "output_type": "execute_result"
    }
   ],
   "source": [
    "sorted = sorted.reset_index(drop = True)\n",
    "sorted"
   ]
  },
  {
   "cell_type": "code",
   "execution_count": 59,
   "metadata": {
    "colab": {
     "base_uri": "https://localhost:8080/"
    },
    "executionInfo": {
     "elapsed": 350,
     "status": "ok",
     "timestamp": 1646416150896,
     "user": {
      "displayName": "Pedro Oscar Pérez Murueta",
      "photoUrl": "https://lh3.googleusercontent.com/a-/AOh14GjAp4grs-Dbvo16yvVecmZ6TtiIdA4j7shQwFHpqA=s64",
      "userId": "06271884207723677071"
     },
     "user_tz": 360
    },
    "id": "XI73_VtCDLRe",
    "outputId": "743822b4-b401-4b24-f35b-8a9eed19def3"
   },
   "outputs": [
    {
     "name": "stdout",
     "output_type": "stream",
     "text": [
      "Media recortada:  168.57277051391057\n"
     ]
    }
   ],
   "source": [
    "p = 5\n",
    "acum = 0\n",
    "for i in range(p, len(sorted) - p):\n",
    "    acum += sorted[i]\n",
    "croppedMean =  acum / (len(sorted) - (2 * p))\n",
    "print('Media recortada: ', croppedMean)"
   ]
  },
  {
   "cell_type": "code",
   "execution_count": 61,
   "metadata": {
    "colab": {
     "base_uri": "https://localhost:8080/"
    },
    "executionInfo": {
     "elapsed": 322,
     "status": "ok",
     "timestamp": 1646416170816,
     "user": {
      "displayName": "Pedro Oscar Pérez Murueta",
      "photoUrl": "https://lh3.googleusercontent.com/a-/AOh14GjAp4grs-Dbvo16yvVecmZ6TtiIdA4j7shQwFHpqA=s64",
      "userId": "06271884207723677071"
     },
     "user_tz": 360
    },
    "id": "XNGmljcxDOSG",
    "outputId": "13b364c3-3991-42fc-92d0-8bc6a6802b0b"
   },
   "outputs": [
    {
     "name": "stdout",
     "output_type": "stream",
     "text": [
      "Media recortada:  168.57277051391057\n"
     ]
    }
   ],
   "source": [
    "p = 5\n",
    "acum = sum(sorted.values.flatten()[p:len(df['Estatura'])-p])\n",
    "croppedMean = acum / (len(sorted) - (2 * p))\n",
    "print('Media recortada: ', croppedMean)"
   ]
  },
  {
   "cell_type": "markdown",
   "metadata": {
    "id": "jIpUkjdADkvf"
   },
   "source": [
    "### Media ponderada"
   ]
  },
  {
   "cell_type": "markdown",
   "metadata": {
    "id": "gf3Oc2_dDnSe"
   },
   "source": [
    "Otro tipo de media es la media ponderada, que se calcula multiplicando cada valor $x_i$ por un peso $w_i$ y dividiendo la suma por la suma de los pesos. La fórmula para una media ponderada es:"
   ]
  },
  {
   "cell_type": "markdown",
   "metadata": {
    "id": "_WUtlJetDqIW"
   },
   "source": [
    "Media ponderada = $\\bar{x_{w}}$ = $\\frac{\\sum_{i=1}^{N}w_{i}x_{i}}{\\sum_{i=1}^{N}w_{i}}$"
   ]
  },
  {
   "cell_type": "markdown",
   "metadata": {
    "id": "t14NB3B1DscP"
   },
   "source": [
    "Hay dos razones principales para usar una media ponderada:\n",
    "* Algunos valores son intrínsecamente más variables que otro, y las observaciones muy variables reciben un peso menor. Por ejemplo, si tomamos el promedio de varios sensores y uno de los sensores es menos preciso, entonces podríamos reducir el peso de ese sensor.\n",
    "*  Los datos recopiladores no representan igualmente a los diferentes grupos que nos interesa medir. Por ejemplo, debido a la forma en que se realizó un experimente en línea, es posible que no tengamos un conjunto de datos que refleje con precisión todos los grupos de usuarios. Para corregir eso, podemos dar un mayor peso a los valores de los grupos que estaban subrepresentados."
   ]
  },
  {
   "cell_type": "code",
   "execution_count": 64,
   "metadata": {
    "colab": {
     "base_uri": "https://localhost:8080/"
    },
    "executionInfo": {
     "elapsed": 492,
     "status": "ok",
     "timestamp": 1646416344058,
     "user": {
      "displayName": "Pedro Oscar Pérez Murueta",
      "photoUrl": "https://lh3.googleusercontent.com/a-/AOh14GjAp4grs-Dbvo16yvVecmZ6TtiIdA4j7shQwFHpqA=s64",
      "userId": "06271884207723677071"
     },
     "user_tz": 360
    },
    "id": "7P7rY2kuDpfu",
    "outputId": "6fc3fdd1-7365-44a0-9d55-311b5c4b6a84"
   },
   "outputs": [
    {
     "name": "stdout",
     "output_type": "stream",
     "text": [
      "[0.8361424042258804, 0.7321155813575402, 0.3507191216943706, 0.2555257159294547, 0.037087957195943044, 0.08528562713704768, 0.4662633483299087, 0.6432346358813805, 0.8404222535216708, 0.32106797450113733, 0.5128118331563694, 0.5745617567424686, 0.43110814183960766, 0.9269017119517199, 0.8505955966161084, 0.7779099426869998, 0.06997127905007083, 0.6834989006032772, 0.3769605058027006, 0.16942048666434995, 0.9244582943377666, 0.3830019221748052, 0.3391556208614721, 0.4153852673865769, 0.940423733121684, 0.893782129989982, 0.700409306330713, 0.9704084405358411, 0.6198343402464069, 0.44755697651838466, 0.3385042091009046, 0.5211134954075711, 0.0872594800171358, 0.8952140452177373, 0.9069762095511549, 0.35599944329987354, 0.13440245692512454, 0.7979961483656131, 0.465838438688289, 0.9899845345543379, 0.5366202688192486, 0.6050152929326081, 0.8493770632034388, 0.313001802146445, 0.3921461031000867, 0.9373239713287244, 0.440979104157736, 0.33870628720878426, 0.4734463663097024, 0.45126470334640656, 0.4876895577966355, 0.8183039689850791, 0.22113124235198023, 0.7278579884287518, 0.009874366413736069, 0.05922223656172576, 0.4923152916334429, 0.03649939308055117, 0.5184327945204535, 0.7125251915430184, 0.9509884077581815, 0.6458401813347553, 0.6632773756714336, 0.4692654367926129, 0.5199462068432281, 0.2674247251381413, 0.7216206440088494, 0.6149203301817334, 0.22566700827695685, 0.7797935491146811, 0.9720682747996523, 0.39437108984457336, 0.5170040767427111, 0.35757408416760417, 0.9613378925227348, 0.20395161327856604, 0.003213545504284543, 0.2596848098107539, 0.9849890611220044, 0.40277981840673305, 0.6569512021101747, 0.6501539037223429, 0.14403288921985224, 0.017700924011448516, 0.1470565740155817, 0.7130203980012998, 0.33521495200656615, 0.10342315585654283, 0.16274777456571066, 0.350680426712235, 0.3409431055040104, 0.9139030427649109, 0.7017404458028875, 0.4743865152810719, 0.6139704910511631, 0.9022452789767513, 0.15440272421581602, 0.6200299109852296, 0.12002145860777258, 0.6524951309898321, 0.729965048586734, 0.21524588481164508, 0.9772374628781408, 0.24419837848763093, 0.9332433227087527, 0.19953976194336165, 0.56387250226163, 0.5330125451215435, 0.9592038845911848, 0.6123195815276848, 0.05427092916626042, 0.8506436111543204, 0.07923225914880627, 0.31134542387540787, 0.6019202758941539, 0.10818586384652573, 0.7753958846177964, 0.08572372068804834, 0.09974282466898499, 0.8089167314449887, 0.4428278519880713, 0.8827703592145174, 0.022531827669817095, 0.8086843270054318, 0.6005764257816602, 0.5919457575707042, 0.5664096609332104, 0.2617881721845995, 0.3441500601901025, 0.6378187261537165, 0.41877181094787097, 0.04385111464976521, 0.7212559451170074, 0.35086713057781715, 0.4722764372218501, 0.32121994533129394, 0.577725660587369, 0.46972681270019867, 0.11696775566735806, 0.307180235603593, 0.06797526384741637, 0.34404432968584153, 0.24783458117009893, 0.20990665995456448, 0.27814932018108507, 0.28709106597608425, 0.6994237400601226, 0.8125304993596338, 0.9237791155017677, 0.723667096467619, 0.2761129430734288, 0.31252179074939734, 0.19430890181084826, 0.3851200907500927, 0.23796620678503788, 0.06368397122713554, 0.5187675969795406, 0.7706107820878438, 0.49961301139661096, 0.03389979989478331, 0.9161301682901695, 0.4997096863804106, 0.4826129094178849, 0.4720983113612155, 0.46189128013769587, 0.11865702986157678, 0.8915482105298836, 0.03038769816664677, 0.12020378879218097, 0.24765657524842877, 0.6445123197609214, 0.10285307640740249, 0.5534098151460004, 0.39010815113974184, 0.22021896573744026, 0.29492599720713786, 0.4581847532533595, 0.8445909078056677, 0.569560193048629, 0.2762996525575909, 0.6772954993093707, 0.434164328723336, 0.5192890855256548, 0.3763381071965034, 0.3759820278513527, 0.02110419345861647, 0.2881670758491439, 0.6321877404632106, 0.5386671217411084, 0.6280176502036905, 0.3920547897083472, 0.7431734531433355, 0.49311570027414153, 0.05502644816183189, 0.7616039651933901, 0.2090892339633561, 0.887378618332093, 0.24690471800578817, 0.01730145939006056, 0.32224119211608215, 0.6127544667001882, 0.7067544840575505, 0.20555688843147557, 6.065853523162801e-05, 0.32906825630099334, 0.6082995537462413, 0.26807619499343327, 0.5049816044740162, 0.5441946942213453, 0.38476387750834384, 0.25498488411246667, 0.039425305565608304, 0.8863517589583462, 0.3214160701659553, 0.3486865669979604, 0.9977684244358058, 0.7310938869664672, 0.5148821516635212, 0.8768614523568932, 0.6340115040592006, 0.5999280777033706, 0.4438302401726669, 0.03988902332171618, 0.6459639113265087, 0.41249160987878675, 0.33891857201072606, 0.5387896077640927, 0.21427154950270566, 0.7742253338068986, 0.24249380971269108, 0.0006080801787065049, 0.5232217673158401, 0.24519047161738738, 0.409070926822951, 0.3638296130226356, 0.383291144545964, 0.404125440767226, 0.3980086176809766, 0.08115801853330995, 0.11483814598949249, 0.017213344490707105, 0.4258087911045608, 0.9778841806447643, 0.6849537702630983, 0.3243826795514243, 0.7932315876279747, 0.17113621849989258, 0.24808906085796611, 0.08741013474191817, 0.4678771421694522, 0.1375548924626928, 0.8365973691919585, 0.1741802567383438, 0.2779825940541094, 0.3294624602223699, 0.8739601165592471, 0.07758933815091362, 0.7534139727899875, 0.9221629264705378, 0.5772440408712939, 0.6796231247105791, 0.2435759223582995, 0.04609435890384972, 0.7098505114521415, 0.36517112404624985, 0.12101264245634236, 0.7275320450164074, 0.39463878475791125, 0.5233882110961656, 0.328206005551813, 0.1464322826944766, 0.29637232639509103, 0.616522215597708, 0.1856839676420904, 0.08877199672511504, 0.26193826132815157, 0.9195699569543163, 0.10346285934054478, 0.01305782205739403, 0.9546749519803307, 0.9136747115764657, 0.9347971355926588, 0.24765626972460952, 0.0574096893230962, 0.4540598567923485, 0.5856475298497609, 0.05349527412779731, 0.1956264549777722, 0.10743204946662022, 0.5550839263268725, 0.21084280669407718, 0.4152518077506273, 0.5699979868170295, 0.3548157355868139, 0.2540011867454216, 0.36491385416215705, 0.4829777886890224, 0.6998606081856814, 0.6641566139668732, 0.9887085537376277, 0.9004484069182268, 0.9307280360152065, 0.7763304916370738, 0.2945557016473985, 0.6598071885574331, 0.33605686865417694, 0.5546366671072731, 0.5422564892080061, 0.42691429002472203, 0.05732785449339839, 0.41739676536623216, 0.9936719368089886, 0.26970022684858563, 0.2580501367517605, 0.36428971574913716, 0.2575011569610085, 0.6858339491922812, 0.35526258392270416, 0.23279823246281317, 0.8928039497792829, 0.2148512686102958, 0.473389849773708, 0.8338252544767665, 0.11137067249620924, 0.017727276943236947, 0.286843673616349, 0.3837694311054196, 0.4409942055432111, 0.19090429117108898, 0.673445850096471, 0.10360363813393147, 0.21206418511381608, 0.1262394367691717, 0.1306088485354927, 0.8084189704015223, 0.5505603645945107, 0.17052210532353917, 0.4543831680734939, 0.14027985918292096, 0.013800263707498872, 0.6848345127721209, 0.769458509334988, 0.6397389411348378, 0.9356577227029526, 0.7587681286314953, 0.1363512111873465, 0.8342739009342692, 0.1699097388762194, 0.9756695298216064, 0.5796478316834632, 0.5846444437847006, 0.14278504897960587, 0.07148526631273489, 0.4029971428387258, 0.9310009071211431, 0.6413590886933891, 0.1274274480374139, 0.9167731047742917, 0.30702239565483813, 0.18305264998649196, 0.5485450350526313, 0.728745386283641, 0.002379280228957281, 0.28371736083762655, 0.8857332117185527, 0.38434995900007285, 0.7374525012442175, 0.9017042718564486, 0.24010929834335348, 0.718362390046809, 0.8503024404449647, 0.8453274111239715, 0.22170794102738656, 0.2530067444829738, 0.44472305573531956, 0.52329834267374, 0.5256992358892583, 0.8908640262954369, 0.8950830913407648, 0.42108280903791306, 0.12252547340631825, 0.13844310360606682, 0.7531338778774234, 0.7915307889594001, 0.5069675941761318, 0.2962004318671235, 0.49276043231855315, 0.6799465645307894, 0.8059413290576442, 0.7018730115510865, 0.1581256973706281, 0.6791197938195203, 0.08834466255839335, 0.8111733457390924, 0.12025427851227821, 0.6207572937435109, 0.7616561710207321, 0.8211175081015812, 0.004464111028054996, 0.8930588823824299, 0.9133159266837996, 0.8503775514477891, 0.7228474669607305, 0.36653532493075613, 0.876544148177566, 0.20915132395053104, 0.11948161938480917, 0.3165681310197507, 0.8937884564916292, 0.7206906401275398, 0.4466868995829282, 0.5224771260597156, 0.8148283351038664, 0.54066201450367, 0.08006484276002857, 0.8524953928313711, 0.7099902648086259, 0.23943137392861025, 0.9789855377364421, 0.0435695039798224, 0.18566978816374458, 0.3828499336976702, 0.5473053834213649, 0.34750379788343366, 0.7978016240456639, 0.1253799124158924, 0.7246323349562517, 0.28266782005544444, 0.6159237622904067, 0.012636665145875692, 0.5102562650325515, 0.6866370590659087, 0.6253207952766757, 0.47605801140368087, 0.7649041228744383, 0.11632678138165298, 0.4579203244710571, 0.7319119956617602, 0.46348432927560124, 0.8787498271294708, 0.9810794968666534, 0.5369899927416034, 0.22362312358919234, 0.13669912244916227, 0.9481680424746255, 0.17202411183311928, 0.5686390907390144, 0.4249955578343997, 0.6959376604092389, 0.3791085856999423, 0.8897392202760771, 0.639718213535219, 0.15176031184830852, 0.2287410733340247, 0.8264052942296116, 0.22984736817496754, 0.7978003631035259, 0.2871110827414187, 0.7053218807026899, 0.24412943762327066, 0.37348069971045694, 0.27854791122552514, 0.8821803896654574, 0.20397158881627642, 0.7931206592345231, 0.4341884414521968, 0.16434379889193163, 0.142134120305339, 0.9637671408667823, 0.9129475404952945, 0.31493820200072165, 0.8769676207863932, 0.7728089173150315, 0.4985173663796384, 0.09510664717164319, 0.32412090364885604, 0.4183175272778742, 0.5897735197929379, 0.0777671352510495, 0.9932331574541641, 0.6931539553374695, 0.3747691218659248, 0.29422643750398714, 0.7640081537516497, 0.612925147581159, 0.656380517382832, 0.4839511883249865, 0.05543006846382925, 0.5341943885504733, 0.6379444273267932, 0.1480304400463277, 0.4147833803334864, 0.5025342324913648, 0.5083450020100664, 0.02671883993214863, 0.7989960724018191, 0.26905278653209364, 0.7349799664486566, 0.08492920559142514, 0.8389400654020172, 0.7649303689804039, 0.7149699330544926, 0.16578316532722925, 0.15605885060506575, 0.5405222232687256, 0.9776698193345358, 0.4983551151401955, 0.026746413920279544, 0.5783268310225873, 0.5344317140033408, 0.41859540822585517, 0.9445543321514228, 0.2805009501806641, 0.10848707699235305, 0.8786122335871157, 0.4250845162789021, 0.48445319478296733, 0.41452122725967877, 0.009620584037899782, 0.883225241339689, 0.44613565572280567, 0.7970190894507169, 0.10790271048675237, 0.2833487226415399, 0.8063196755430226, 0.6707375655369069, 0.46300972857721656, 0.3459486010094278, 0.8655183338761605, 0.9209798519804879, 0.13229868464434147, 0.15792959778756532, 0.30271184939188733, 0.28600306670783504, 0.43877524596097983, 0.3913605107663066, 0.7903091963431489, 0.3152862819311901, 0.19811087546210693, 0.44604140975528705, 0.134696215454008, 0.8733045659389176, 0.5625414610063104, 0.9311794348957737, 0.03374122199368401, 0.46282913925669444, 0.91453649305689, 0.8291128057338063, 0.5110654634663825, 0.2727170805325364, 0.942917786609423, 0.585523244143141, 0.4597979406244135, 0.6564337317425146, 0.8136147008326217, 0.1580046002821741, 0.6123213642549276, 0.8961759561304063, 0.30685099298369367, 0.327391405869371, 0.5200860271076067, 0.01187061575607995, 0.31069968539047876, 0.6651677724508385, 0.8168606837823361, 0.6382968989974777, 0.5705989898397156, 0.9546673954663099, 0.1433963714730887, 0.08138306934136974, 0.917337336298792, 0.697393441576851, 0.4823555339891943, 0.6210856970717942, 0.21247419142939328, 0.5066740233082809, 0.7829998605310232, 0.6625793353184708, 0.7941480152844453, 0.3629543581127781, 0.2853879995429526, 0.19046177599880065, 0.11437833547453469, 0.8449325787077481, 0.18141862061314795, 0.020940792091166394, 0.5221611855670559, 0.6080824847960872, 0.3125482999059931, 0.48157260599160845, 0.12608061488738587, 0.5172345970744853, 0.9091929749898843, 0.26809613806425636, 0.3923046451960399, 0.9241641531922863, 0.3636484965273339, 0.6497893005579742, 0.6490478977965922, 0.3515078130763757, 0.3677922117524064, 0.022775971020577934, 0.8847249011560988, 0.8226488384480687, 0.2923196421459592, 0.10749658755437042, 0.08155636787785536, 0.5000745051180611, 0.793769056459045, 0.3288607459304914, 0.5253315435506866, 0.9405808048299864, 0.942795311356099, 0.9204105114437466, 0.13380109111752803, 0.08023883341217863, 0.13003565729033717, 0.7715961778682271, 0.760578143345221, 0.2581501792195854, 0.6350566367653603, 0.12133954900607613, 0.6963837211624488, 0.8431504012557757, 0.4901672557360084, 0.8691067886089825, 0.6502390706430357, 0.7404347129174055, 0.48579231455597716, 0.13104230767959302, 0.6641459984107351, 0.8549402543077114, 0.7830960930074639, 0.23626545912638286, 0.4620594137237237, 0.4647176015395271, 0.6257579158645775, 0.7016530784386876, 0.47020933575224966, 0.4612404243843792, 0.8554175133849913, 0.9979489705709352, 0.8003826686653898, 0.4365785448147712, 0.8297039828639531, 0.1581421982532566, 0.8627175107393237, 0.5614549915096565, 0.37465750911763573, 0.6253349900380989, 0.7320457795014577, 0.057579340480126695, 0.38293393090858285, 0.8569888390434832, 0.473415581548535, 0.9366685170299154, 0.04423620297128539, 0.6855855120893184, 0.9902998426225961, 0.36080831976714745, 0.04382688690829639, 0.8189697824812133, 0.45528020537610137, 0.04705311674352952, 0.4296529065601512, 0.2489016520192664, 0.5917668708552949, 0.5545840356629886, 0.8654547165701658, 0.12646148850417538, 0.4608252035311917, 0.47295368083212586, 0.3833442234758505, 0.9159097106220261, 0.0872349424226131, 0.48976923477836576, 0.6877484285338498, 0.623801993108253, 0.8626900116399101, 0.6378044275811341, 0.7985452705158704, 0.23615503021615303, 0.04750138392566983, 0.14779862914593134, 0.0788001557829251, 0.5790036531395817, 0.6577772936193301, 0.08275961159908862, 0.8602512837492177, 0.6600127547980298, 0.007597539918650531, 0.47488490834483965, 0.06718247550012524, 0.14347719327794817, 0.5395842103258007, 0.0942398281904746, 0.30946955680934785, 0.8490865242027847, 0.23162969001128864, 0.1893006896719367, 0.02783483703264944, 0.3280331784473819, 0.9975210532734317, 0.05923661330837471, 0.21645863261181086, 0.09729771947603483, 0.8959554943885566, 0.7444169098401814, 0.11723553043552315, 0.8504548015981966, 0.35608019137013247, 0.49935136304421923, 0.1986486846531088, 0.36969651656657254, 0.09262484102381818, 0.2850816412221877, 0.36029040334254103, 0.05982733717472244, 0.028993427705246266, 0.2863330043249618, 0.035935622756908314, 0.1522440193688649, 0.793388205972551, 0.9051313252989177, 0.8665082642979747, 0.6455508834829645, 0.42645797496834303, 0.420796138679579, 0.6986057453106866, 0.3456527615925087, 0.32665325392278544, 0.3722730067993709, 0.13620558772526725, 0.7080454335432012, 0.6454437854621582, 0.41733446183591727, 0.019076694963094942, 0.612861093184734, 0.7941941698496473, 0.24540592534671202, 0.7088165557697724, 0.9368794477713319, 0.03167795764229642, 0.15090596457876038, 0.8826013310332541, 0.2950480502171383, 0.6318308990167001, 0.6404660180801384, 0.09208934676933278, 0.1668135065798968, 0.9652950886220611, 0.09730566853496347, 0.8137919842959502, 0.6497772464061151, 0.7794391349715645, 0.2951033924633413, 0.6212667839872963, 0.8952402224196735, 0.09219003766929845, 0.92221883723895, 0.4961918558944831, 0.2655327847842429, 0.8158113258424166, 0.9172526064196931, 0.35313052240942944, 0.4390982131339217, 0.5317916549207403, 0.32414336800917387, 0.49988776678942703, 0.5208225853208387, 0.4504476174846992, 0.9939435478849961, 0.494048334596643, 0.7856410608024346, 0.59715181485622, 0.8636388197991393, 0.08554227985595819, 0.7872621669538531, 0.9606917565853219, 0.6753928466652764, 0.9107761688744179, 0.8058624147505024, 0.556625273884731, 0.03904027530772802, 0.6312021769770388, 0.7885216064189241, 0.22269666906754926, 0.45742119391489433, 0.09905230596951087, 0.8888631664712089, 0.84393133154847, 0.43515100400596596, 0.2553343521658601, 0.01579069191867688, 0.5025432449081172, 0.02567037735134381, 0.45266828353056376, 0.7345009490540458, 0.9130512302061378, 0.7247348802282575, 0.06452975048714726, 0.38245842830500265, 0.22513793571167773, 0.702628022806655, 0.8595711254018916, 0.5814823973443737, 0.8602836458845299, 0.7506599799105712, 0.4152874525149043, 0.2197370661794481, 0.7080500637924424, 0.7216073981723853, 0.10963102675622538, 0.816195050302889, 0.5870881944044083, 0.913115445589784, 0.30582138293206884, 0.6403752459042162, 0.8274121683895527, 0.040782183787262616, 0.7025461762183975, 0.9684728161897556, 0.7570498668944257, 0.43742930645570444, 0.26777060296979893, 0.572209907450275, 0.04632270263310001, 0.09933998763435481, 0.22418609393368538, 0.14004619184016232, 0.8323977268761831, 0.8423202595505196, 0.3647167400651734, 0.6499739343481258, 0.04197920058963567, 0.6177839150093405, 0.21569310952409926, 0.3178240154827524, 0.6799286084433258, 0.2739874187861532, 0.3120484516627682, 0.09535121253503931, 0.807300875048057, 0.1984633949577317, 0.26153709970373307, 0.22286632894556446, 0.61841889408637, 0.38927819414120624, 0.9536842444356615, 0.4414678287203613, 0.3011352719755507, 0.019755641325490014, 0.9782222187060776, 0.7068781148901745, 0.9544029649435998, 0.14249154623975502, 0.16216744605677458, 0.651249690041313, 0.7868048084978243, 0.44378907657203126, 0.3157503475198157, 0.5320872956490439, 0.17579171987986086, 0.1035508019863065, 0.21497788975976306, 0.2044654892699399, 0.7469050822338732, 0.9252443197567778, 0.1474750483464523, 0.03393904635032652, 0.4770264247733229, 0.47406299548074626, 0.09916120143009122, 0.7945996044152587, 0.3070322150078203, 0.3151796044687598, 0.23488581532487263, 0.047065902038559315, 0.38043505384451715, 0.16893875430704342, 0.03329586249059158, 0.050357791933508644, 0.7213287750268494, 0.7368704222768139, 0.6432682769323, 0.8056861061278943, 0.9467490266673537, 0.1228795883842162, 0.8104116187755355, 0.2518745900919933, 0.7682648888266406, 0.8612042883223231, 0.2047326608032195, 0.43300273474267703, 0.7285025488562368, 0.29053936550796544, 0.07335596405289424, 0.15037340257253162, 0.9295367273419192, 0.33429159719740476, 0.5512158472169811, 0.22572320339901975, 0.06083132460624108, 0.22730776458533064, 0.7931537485538119, 0.7965525520351465, 0.3877914496839654, 0.10001146540567374, 0.4364209814513288, 0.7664610965114934, 0.6116508672439057, 0.9467843366259534, 0.9564266715194264, 0.4381221688871999, 0.3309521136421828, 0.9533380511143638, 0.2815428855187305, 0.526326428209927, 0.30691343524200965, 0.5049164114518901, 0.8385704273780025, 0.12237710437885752, 0.7239149971380814, 0.5200026950731529, 0.3987436471939032, 0.0410498876032066, 0.8304893130554166, 0.07499569045872978, 0.09730990185081956, 0.6623870749320645, 0.10566905280732009, 0.6032560249563925, 0.694750115257343, 0.3789949746021857, 0.26209912431942994, 0.2180546799690951, 0.14896721238803623, 0.1410343895074202, 0.31955340134048693, 0.015228837987586674, 0.436164608053653, 0.5359192972382414, 0.15967530405898112, 0.9254430980614315, 0.45405696739204326, 0.7789775883522395, 0.26203467133446023, 0.01390025268270667, 0.08881852981383975, 0.25381373498725823, 0.7760599539544026, 0.23586363117445597, 0.1523364300683262, 0.20550447384650605, 0.3092111522619545, 0.06239550456379295, 0.6301636886372535, 0.16621235897220554, 0.01051281195317888, 0.43439992037118946, 0.8696741228420305, 0.3229507154230742, 0.2830376764868433, 0.5620439417057737, 0.2452892807009861, 0.8998827260174099, 0.058192287668867415, 0.9078619726221513, 0.8691707959221381, 0.8528914214284056, 0.7950507549437976, 0.7357503120731218, 0.8332871476576383, 0.7426868532452163, 0.22450666196603664, 0.3584417559884844, 0.47726388170154954, 0.6910325472038507, 0.6442520578038825, 0.2179841811231028, 0.03409651820068749, 0.8320850016013218, 0.6905207436764706, 0.5469670115474131, 0.006252896938238828, 0.6980285803142466, 0.564039927403926, 0.7013210695358961, 0.6901651607985898, 0.3795167251636805, 0.3759457005404765, 0.3495177582471938, 0.4805964626072191, 0.17342451924569346, 0.892413116065651, 0.6503477746424787, 0.22711982355750215, 0.7647038204578775, 0.3054317376671053, 0.04779744043851619, 0.20343961205416838, 0.6806787902193692, 0.09916027530028693, 0.8074463713702034, 0.10770729972804782, 0.5163149759084106, 0.7791246633629306, 0.5357666850741639, 0.9098442791925196, 0.6512417098646293, 0.03435887008343008, 0.777679366847698, 0.013931553962679755, 0.8544794185842213, 0.6835340045580691, 0.8030423878354207, 0.6010514779070932, 0.1927444895361745, 0.9676863627105303, 0.09129277677915615, 0.7854668715212356, 0.3537739360925347, 0.792425040369343, 0.38802070506359365, 0.37637605312478806, 0.7886359968425591, 0.8782522271165362, 0.0911908393210844, 0.08232040551215514, 0.7383240962424553, 0.058826093175667005, 0.8150878917854362, 0.2783621322929304, 0.1676704131833393, 0.6839311986379423, 0.3069063701296465, 0.7683205128612652, 0.4950293347923347, 0.16971140189877554, 0.5921302661788118, 0.7458913809081443, 0.855047156560613, 0.08293266726649229, 0.7158721223220342, 0.3422145375173178, 0.7940264673916179, 0.13476929079658506, 0.14891905509547831, 0.3068060185255371, 0.8816825508605585, 0.19544552450602193, 0.7454931192172164, 0.4859567627013156, 0.9421386183704701, 0.8012645484867624, 0.1974416236198523, 0.19600187727963803, 0.006595652536973251, 0.4304249266916942, 0.07162188999799568, 0.14929050699379753, 0.010116792338826563, 0.06745660578159207, 0.3219209815797678, 0.07365367146886448, 0.16353508056310084, 0.5183151325854076, 0.299117351107027, 0.9144765609676598, 0.9371280001799912, 0.43081051213936783, 0.17851459525807656, 0.03655290226549435, 0.462699568168049, 0.6115261523789423, 0.8255618263866531, 0.17495941292927186, 0.006976999214579838, 0.290649169139252, 0.49823148769247416, 0.14491691402370432, 0.6934379192705759, 0.23528699564946665, 0.18216880593714924, 0.9685553885730788, 0.15668956744729956, 0.8960613493672883, 0.41227260303443747, 0.9598072052549997, 0.5999528221417191, 0.4493136008684314, 0.7902328537288806, 0.9493724659291005, 0.4228426518853091, 0.6236256590005171, 0.8160497943624172, 0.6700318778391798, 0.17136834484431407, 0.6863211143752982, 0.14615293706392551, 0.07893418167170518, 0.16486090273512155, 0.37261114419134855, 0.45264210131543825, 0.8753095014747689, 0.30709331549677155, 0.6553564789233616, 0.41406548298308343, 0.5636541963022915, 0.9187717274019014, 0.4170762605973799, 0.8833355061459776, 0.3103804605505701, 0.7725746216771399, 0.9499735763461887, 0.9443653020072577, 0.8731171264703476, 0.2494033237047577, 0.28651464497051493, 0.956730024617287, 0.34521725623691, 0.06697404359366721, 0.5105174409524397, 0.6810000528338341, 0.10106702394172606, 0.09062761118727258, 0.21017368123151048, 0.22006123466062044, 0.040462620084973144, 0.5692081269424818, 0.7864688434445479, 0.10165669990460169, 0.23688923439804477, 0.9287365461901791, 0.5968700298229349, 0.25694154817436, 0.08785756435405612, 0.8663418329022641, 0.9408059250058358, 0.7363112952463241, 0.10308522977287993, 0.870344332807397, 0.3319973380808545, 0.4422428259166419, 0.3186865692425658, 0.07670724286401787, 0.6412212430615533, 0.08555685559646886, 0.5077857401496418, 0.5291873395291876, 0.12078595973636319, 0.9751635692437505, 0.11702178652878881, 0.521498099554171, 0.22358169774476955, 0.6257837229538651, 0.9243008597625817, 0.46240374494382075, 0.5540606499300129, 0.45679040571986085, 0.9284671149750853, 0.6161590667378157, 0.01088465817153772, 0.9534686544978165, 0.8498272811989455, 0.3999289348022591, 0.9446115823667385, 0.14236281106189497, 0.3033885832569344, 0.9005293547914941, 0.599825491218874, 0.6274405376006648, 0.11469756170535816, 0.4892384214820965, 0.6510640256879106, 0.5969374670275056, 0.7578639826467051, 0.6515819358469911, 0.015170307545858353, 0.06674743530568439, 0.473421018031127, 0.41769968318832085, 0.10280647735728676, 0.28174337494941015, 0.8183351231135736, 0.9932305130041237, 0.6923472577287062, 0.6008087636951314, 0.9238404097155688, 0.498466879791137, 0.12914147811299692, 0.9005777218772659, 0.9524845373628953, 0.49599632342731514, 0.5234638211100753, 0.22782450039178126, 0.6988120360417949, 0.711124615179634, 0.20230913247436721, 0.7728913578830972, 0.12860366536936874, 0.13776575232058164, 0.9462209241256819, 0.929348025746066, 0.2663899699135025, 0.6716351731151424, 0.5085425483548862, 0.6302981848720454, 0.3109303614128306, 0.0955520691618712, 0.4723504564489531, 0.9357330558105296, 0.08502535594890048, 0.1100487231663898, 0.2255285595422829, 0.9328350641650168, 0.34055666825749853, 0.13978033208540208, 0.6159416858204019, 0.6818224966017418, 0.5476663270956565, 0.23616464384775582, 0.4879810947446781, 0.9298101408450327, 0.45025508090099364, 0.6532465179681952, 0.8208669906357731, 0.8014637797631792, 0.942302868670387, 0.46286628550876574, 0.5999640175592209, 0.2938409650616064, 0.12141420173878847, 0.4060526529511993, 0.3243688002690627, 0.2815016300023584, 0.1529654922199808, 0.46654176215164755, 0.20247482865851585, 0.36114304065744596, 0.0713668838738577, 0.38577175501628425, 0.8485366524035943, 0.42100437445521044, 0.4568517499010084, 0.9774482462031547, 0.4408578373411065, 0.020489451782054413, 0.04099068174149367, 0.5218469369677716, 0.2356190260095573, 0.6005848916424203, 0.6915768459084937, 0.19008007945598338, 0.34881291833637196, 0.848173766880035, 0.31698350865865554, 0.24346647168182645, 0.6400063123398047, 0.5056908764705286, 0.6501344069333044, 0.21167467243299598, 0.7216933503568869, 0.3337934151739035, 0.966666173092113, 0.7816463070884908, 0.7907941191624588, 0.11990386875770698, 0.5138058842078677, 0.7837745372808225, 0.5724070278503733, 0.218565891844271, 0.08314949217654266, 0.3264228354607589, 0.6652421136974511, 0.8922812103141691, 0.08537583251942427, 0.9555494964239245, 0.6813334918258975, 0.7802322098016793, 0.3889985516436635, 0.20290877570644728, 0.10790474755888002, 0.830689790541035, 0.5721115921369864, 0.7015446046809442, 0.8163727814958466, 0.9998736572228238, 0.5565219870122542, 0.5453014496007919, 0.35435819107147537, 0.3416554736004114, 0.013615544080334607, 0.9969580931220139, 0.5677720192476562, 0.38703081218264423, 0.8598566649599948, 0.6622649183954473, 0.7340107390270076, 0.7541905972004198, 0.8271196363147498, 0.9102422071206044, 0.4276960104535107, 0.2757211999230972, 0.5116840476665403, 0.42146522715693424, 0.9945105624692595, 0.4785276856278925, 0.09655331227020958, 0.013927878546425077, 0.5769694021707507, 0.7902702169063326, 0.0038476677838807927, 0.6781766368785469, 0.6781672456451916, 0.806675880923963, 0.6268559505660378, 0.5839849958410943, 0.5587412360086723, 0.6485521190630397, 0.6038570943165243, 0.39183928202147356, 0.6415963342763669, 0.8468279649218166, 0.44886692745080337, 0.160243914344408, 0.9405550405889189, 0.3390917307599941, 0.9089562381673286, 0.29530154424041954, 0.9844685163860233, 0.40571166562232175, 0.2991478293516693, 0.890139442335234, 0.31142771405992764, 0.7582603943989684, 0.04082756440674162, 0.9675784410471621, 0.057407329831963616, 0.7790238518449435, 0.2440824004067641, 0.8285586925563765, 0.7785069207963925, 0.4688968914438504, 0.48608269114207725, 0.522006935817998, 0.4411626037647397, 0.2304948657243261, 0.15027686924883943, 0.5595247603155656, 0.17244943270287094, 0.4687757162420778, 0.18939496235102704, 0.8050525122694787, 0.46591447923374196, 0.8874813710815423, 0.9192367220511881, 0.3697676841837412, 0.32289716580962413, 0.7147353818548778, 0.1902582106174393, 0.5947570686413919, 0.48704938504617923, 0.641200100630802, 0.8434425619730536, 0.30331844610038283, 0.4318836715330915, 0.3385358553967972, 0.9006837469648956, 0.8055397106719622, 0.16354607322210135, 0.8274117020415923, 0.7192783718112279, 0.3256547573452533, 0.306493287682716, 0.03772302643654679, 0.8607023141624114, 0.5451188510286109, 0.07559339608734139, 0.33894229097313344, 0.7665884991719658, 0.8877851779834435, 0.9376892076255602, 0.781432677422585, 0.4106018385221021, 0.9576981187755732, 0.21388199063951963, 0.12851035048521875, 0.8798822324513623, 0.16788904118098735, 0.026214596988900052, 0.36948037488535346, 0.725550225610201, 0.05070903231717183, 0.06261296187285526, 0.4464072877369215, 0.8713936695630095, 0.8604826825970094, 0.6642558227630639, 0.02066105946786334, 0.7062879860852764, 0.3225203196140328, 0.05234508425688811, 0.006737901455705297, 0.05267827432774719, 0.4019320788117755, 0.592702106102281, 0.3279268077033809, 0.4051849422430005, 0.3767153674526965, 0.2008428239609975, 0.39632957309599615, 0.609160673143793, 0.5735524649729243, 0.8366058413112711, 0.016063720637174983, 0.15352469866490148, 0.5502734709058534, 0.7402153629975734, 0.6558957315870452, 0.7931770762584371, 0.5939457004704328, 0.97524423575681, 0.5059510887187556, 0.38259201172824076, 0.4820974969161671, 0.12184205813445659, 0.9070041581696004, 0.06743634841301294, 0.4379010917626732, 0.42103823051406464, 0.5545595266583688, 0.3876038000874562, 0.9370709581329058, 0.03305125225279559, 0.13194442449865584, 0.5171501775910411, 0.5986766131748893, 0.7168291498347478, 0.7381711667451291, 0.9669214407275837, 0.0383435985106827, 0.9013314345618034, 0.2527071214010935, 0.34267574811898416, 0.26888241557442494, 0.9160146770039863, 0.49007194756386363, 0.6649004957598162, 0.891530516706876, 0.10414789225142873, 0.13522687889378016, 0.5334624966973436, 0.6688848311063063, 0.40420682810239794, 0.748121190301853, 0.8356741121856059, 0.27073310826773034, 0.5443322432243297, 0.7491235085414377, 0.3235652669813378, 0.6220980537983786, 0.8743946059552827, 0.9566891877227727, 0.7056555452573549, 0.3615248587034673, 0.5663290663795021, 0.4350058094194904, 0.5837438306998711, 0.3403684692318074, 0.26613403708651795, 0.37611941861968035, 0.299849622917543, 0.836191181652286, 0.8018736077382733, 0.4609131496054053, 0.6314570495674159, 0.7591937543518418, 0.4781036990469075, 0.22777174831180869, 0.37585149300331133, 0.2596949760096242, 0.4740335132176474, 0.5245079363729346, 0.24497126117142598, 0.5462227753432152, 0.7719060348964227, 0.15219112986952854, 0.9634516356967036, 0.9399522082446117, 0.42870842926752173, 0.5840263642429744, 0.16830835453418225, 0.680789817277717, 0.6257809327734456, 0.19050306852055232, 0.2513075010044441, 0.739027773266738, 0.6545935170038322, 0.20449505205660212, 0.38325230924575915, 0.0821822105476302, 0.3008058642143019, 0.49430348463985896, 0.023827383891018683, 0.6558991447388511, 0.9701640567421794, 0.7807697886768307, 0.8410823096472252, 0.5534151851947925, 0.06037419727242299, 0.1272316309815611, 0.34476698287701, 0.4694125275411096, 0.3661606281374524, 0.881826596558562, 0.9283481337302658, 0.5227101967217895, 0.0489669775044671, 0.37256269548972987, 0.004378658011035763, 0.7666643831864459, 0.54166082576326, 0.5094470294609437, 0.8666475538096792, 0.7238506289405975, 0.8932742808830529, 0.2955854623446844, 0.6069910838883066, 0.7761968246836892, 0.915124409367125, 0.27552453198674576, 0.03274550866190851, 0.9128980214710388, 0.4077082361910581, 0.6526770425518109, 0.186491216891712, 0.05526178438507279, 0.32282496932472304, 0.4131794224277542, 0.15198168075070118, 0.6605868570024568, 0.9995769182274415, 0.6361289912793187, 0.9400566162040799, 0.9203819284208898, 0.09463928162715363, 0.09965673608185421, 0.7158463828944492, 0.181235855826558, 0.8193207276026934, 0.220621695483734, 0.768795058648505, 0.447422435605176, 0.42624361982270087, 0.7985461507955754, 0.043659380986956875, 0.9356918717095483, 0.6605006122199514, 0.3835959580639394, 0.7990046193199458, 0.7249569254482873, 0.18524895243325024, 0.4936966489377561, 0.056157403311133836, 0.9224717012012486, 0.21273529480244902, 0.20254484967719733, 0.3716594606252116, 0.2022587497688183, 0.42496637009354377, 0.2664313544752176, 0.5123954803496537, 0.4622762972219304, 0.711473527078176, 0.036123432371826136, 0.028084828478685542, 0.011626020511118607, 0.6676180904385, 0.8273278557813404, 0.37256832944580365, 0.644137927272902, 0.1334300199688766, 0.3413205647652302, 0.39349363760828326, 0.20813580542513999, 0.34865236433612745, 0.3130969652222231, 0.8165971501824046, 0.7639659953232305, 0.6360983646854311, 0.2593384731791747, 0.7304992270127316, 0.8959887369489277, 0.01603415807483355, 0.6763301464905077, 0.06387432857997755, 0.7335107499596459, 0.0745476086286877, 0.20618750221701765, 0.1958458510394544, 0.9874246512973588, 0.21781200024099168, 0.17998778949139638, 0.27526800904243887, 0.20804812801907202, 0.3637451498729578, 0.7812360300364036, 0.6918204287135604, 0.08160290503048895, 0.7794579453752088, 0.5144331937291958, 0.2833446976114964, 0.596827661491513, 0.7475323264542002, 0.3522956095652021, 0.5057189897881612, 0.344569631803185, 0.5819999879150114, 0.6676986906470495, 0.9619643041136676, 0.5895904036062577, 0.743073205731776, 0.2079312506473412, 0.7603338170156598, 0.10157674586198362, 0.21098601733759959, 0.8316764539414254, 0.25670456896172844, 0.7113982971623415, 0.07317000487627401, 0.7368982948415683, 0.6374665654409171, 0.4699381253345216, 0.24861129331819332, 0.1931519453211592, 0.703549915587598, 0.47175445356653645, 0.4224475874856287, 0.19927538496725505, 0.2215009362504028, 0.6655617349120285, 0.2944783368164767, 0.009920881910164714, 0.33605795873693933, 0.7246019719075011, 0.0780317070991664, 0.2608737778298914, 0.8400891296490457, 0.4169904574691904, 0.5724266722446196, 0.9515351096614075, 0.8995508276353347, 0.5010449834085121, 0.8724382141273559, 0.9875804381150758, 0.9759251349925807, 0.1815288351070552, 0.43996269162764434, 0.3334757499066926, 0.628055024275726, 0.44959379248570963, 0.5437480412152664, 0.16758997127201924, 0.3019941652410889, 0.08448329281226419, 0.0653788364989415, 0.9706898481096322, 0.015325569708319331, 0.416456140753515, 0.3242805376220238, 0.16623661484158037, 0.9468229779384045, 0.720712549372097, 0.18121157303839974, 0.36781621492308914, 0.22546176068520452, 0.8152950119641247, 0.05896108959481894, 0.7906176413796686, 0.057395855267739604, 0.9973521074982034, 0.4172333485152703, 0.6108451642952645, 0.757846361839948, 0.4512186100296003, 0.42387307715490674, 0.5318565243247525, 0.6436429278788702, 0.5630609649173616, 0.832525586040334, 0.40835426589503765, 0.8925884529268991, 0.1238009130650276, 0.2334913597197743, 0.33135554665496947, 0.08007689730000245, 0.17805466846356277, 0.15483493383398106, 0.9669654925956492, 0.9757453930397292, 0.282715033674275, 0.7878803849648556, 0.5072135472733567, 0.773630093284038, 0.6265956838285756, 0.6344134247893924, 0.34147407811521535, 0.15901758161903345, 0.2103207446072125, 0.5562340347933623, 0.3856088564058958, 0.29036729684723894, 0.11803484379682316, 0.08332550201013977, 0.7892661933466164, 0.9322123913668516, 0.9631080815482232, 0.3326385855881422, 0.9826125963660691, 0.5070085552813931, 0.03505668554959773, 0.9175056063935058, 0.3058305321593042, 0.31211580628854974, 0.8492310507567895, 0.26340595431470537, 0.6663843188002547, 0.18697810024875283, 0.8311145632088008, 0.4660598247732517, 0.5027824581107707, 0.12792251562753298, 0.06480238150105988, 0.7325763126005221, 0.3254820858013283, 0.8566640340346956, 0.10165737833177657, 0.09469045835808754, 0.897807502060023, 0.31995024789477844, 0.12388109336248831, 0.04634532428104776, 0.7847505609168556, 0.13661956628978134, 0.6002914164237676, 0.9325405802000316, 0.614496887499791, 0.06400162056694325, 0.45433846637738173, 0.6235653913849252, 0.21146403193214547, 0.26546997080379586, 0.8907062579279642, 0.3923911084961361, 0.15334030426766232, 0.8891743088529303, 0.9991465821783675, 0.7382552229064807, 0.22854190764986693, 0.7395379566301504, 0.7487222541386943, 0.8529240131380083, 0.15902441512361365, 0.5233491334923295, 0.19983397304961859, 0.07278533927429598, 0.2038002230706637, 0.09290493239571562, 0.699369153747497, 0.7817811579278248, 0.39127703113331347, 0.929031480154127, 0.542432184281217, 0.4567540729992273, 0.987579100572803, 0.8983182585793871, 0.2849892777181323, 0.893029609574276, 0.7198479896196411, 0.7636672230617013, 0.8976635752763468, 0.057394365127646285, 0.8884036925128765, 0.4919298753823623, 0.030866798474985302, 0.8520140410088002, 0.2113220050800685, 0.4811143987444939, 0.8689461618524552, 0.8825170360230363, 0.41615162530984195, 0.446012591406469, 0.26114676762262456, 0.7175289148630013, 0.8197905749335516, 0.36200883875215184, 0.20755462355458998, 0.7466751042583368, 0.7785422541228565, 0.7125373675746228, 0.8769754028140998, 0.33066110014840744, 0.17480162172931046, 0.7894669779474507, 0.4962398815467457, 0.18681534865598515, 0.9185536261460616, 0.884234660373705, 0.8216538432092036, 0.24202190065216944, 0.8312321365750858, 0.24172240977591775, 0.5432535137404119, 0.4282731376856863, 0.5916383758854509, 0.8572995549740132, 0.202412432647595, 0.15644032180863454, 0.13345139604707967, 0.255908254150195, 0.5757944086041533, 0.6337034579395849, 0.45364149288751154, 0.2681513806665261, 0.36556877030045754, 0.35899837415919544, 0.6819615675350187, 0.7730451418188217, 0.07880630356840712, 0.5193863844099473, 0.4912677552926832, 0.7317513033647913, 0.8222655047521059, 0.413889347801185, 0.06582658867889002, 0.3424409225180981, 0.8081604864992159, 0.07131266328623276, 0.49039803601701004, 0.1157208728896768, 0.9350296494336894, 0.23503309682416051, 0.8910095592926536, 0.24186940235144128, 0.5280516531637495, 0.41987452517731383, 0.03181252525441236, 0.14941061692326474, 0.5405086812396674, 0.45356547314131657, 0.7717681576305365, 0.1736664041838495, 0.26672328182898686, 0.26047144095191266, 0.8850251185652593, 0.14960883066198427, 0.5648246225055367, 0.8290904037014809, 0.4630396015885365, 0.283146197538488, 0.5290263414156213, 0.7436772699201838, 0.42443754292634395, 0.8724882558507775, 0.0003850690673180557, 0.8638334062640636, 0.18661293363370834, 0.769233917583251, 0.13577644229607855, 0.1543581134211066, 0.5413759802576966, 0.6402496979578853, 0.9904888285287228, 0.4872464849255471, 0.49305320301680833, 0.6272332234374405, 0.6461589368537981, 0.058682117106008125, 0.5660790493740965, 0.4303303211445211, 0.8930058291801232, 0.9246821099215842, 0.04152037572187606, 0.2301358887304169, 0.010136755989660573, 0.7532120200630003, 0.8792724355506952, 0.8541650747864659, 0.9887056955268906, 0.9277654417843443, 0.7548735963419877, 0.3955489899646919, 0.3013138580082865, 0.038225657598039864, 0.788053034017969, 0.6210851299145571, 0.7064203985173041, 0.8369247077038345, 0.8169041840328858, 0.287414574835951, 0.061031380503242416, 0.607624905535096, 0.9091984284891791, 0.37053118814008623, 0.7145284575084565, 0.2476443924773689, 0.27153052596619276, 0.15310462615427933, 0.055728732680117465, 0.6648366291530535, 0.5588748944637374, 0.5006300306023652, 0.3653667543445833, 0.9899652167666946, 0.1800800177285954, 0.045102039641936265, 0.04776268600553912, 0.8828891625136984, 0.7415324908189982, 0.14990119632564924, 0.5368915705123511, 0.6445294989746327, 0.9126444862305172, 0.4870391834175125, 0.09526827192829501, 0.13771586119653223, 0.7189375517489224, 0.08951583998054746, 0.29453574305852537, 0.6997112378383242, 0.9837974779709749, 0.9780185599916722, 0.2739299877537299, 0.1427461819155218, 0.1544982248729201, 0.684498875806765, 0.7415318272592295, 0.40787537809596686, 0.6443712678777962, 0.35931131890554135, 0.2466871594991521, 0.9706183388117299, 0.005800087450688718, 0.24124560014159535, 0.8953261070673094, 0.5082940667265862, 0.7131568105592332, 0.35403977837396294, 0.8975893964313277, 0.9992326425187099, 0.5315502064049815, 0.8879705728511785, 0.5223578287364876, 0.6201607925266748, 0.5511716501957424, 0.7495840577147876, 0.5035544390692468, 0.25080865553656306, 0.9022455910220863, 0.06263241113221873, 0.778622912527791, 0.7353810857330066, 0.21600947790375424, 0.8439070509340556, 0.28989759767716916, 0.9415102270033358, 0.0997487642014977, 0.4158159351423011, 0.1627428671224429, 0.23376419103275914, 0.38882848831388406, 0.3638506016612437, 0.05719605593208854, 0.1000511125934489, 0.8000467835536377, 0.9348770954117273, 0.41544451388086134, 0.3846917578602228, 0.059830967262870405, 0.3704665802493342, 0.09673670396197698, 0.7509692754413844, 0.6129800827138726, 0.09634055477909087, 0.16948512371547153, 0.7677492699187299, 0.5955037797816858, 0.27389889004915235, 0.9951873141054406, 0.8689722974064125, 0.19015588397067296, 0.032488857195318355, 0.7537329695782239, 0.9822262307635446, 0.022356086359867966, 0.48036412273718887, 0.3378250968309011, 0.2755302471230334, 0.511877432133137, 0.178971550295143, 0.9973969589412582, 0.5132956382758027, 0.2891936947828223, 0.11539411371306174, 0.850487979729823, 0.6599020294185026, 0.34569996607851305, 0.7350642335422433, 0.053383667066213, 0.8347810048249757, 0.8214496691133352, 0.7777920848401569, 0.11705017286807295, 0.3110409736276687, 0.8525025818841216, 0.28750802025274635, 0.43058482020215083, 0.9513647617804504, 0.4640773926212193, 0.48349675936018854, 0.8076754078973424, 0.5968949358351696, 0.5945843713673764, 0.2706788186730049, 0.9248211227323823, 0.8326213219735855, 0.2366977205654608, 0.6724773778840032, 0.4420540392880876, 0.8995648771712327, 0.21380053746959604, 0.7244147564735033, 0.6593374505904106, 0.5626814062748562, 0.5943082127568226, 0.030610524006450257, 0.9629729724878296, 0.39404935149422116, 0.4173716676468391, 0.019132628243254013, 0.09497361466573351, 0.45524703472253414, 0.6048699276705242, 0.16519121568944628, 0.8611598673521869, 0.2676979648415031, 0.6221680405182659, 0.5212549309079932, 0.836252656576839, 0.6439853904830766, 0.7254231347574611, 0.281897385622641, 0.39315847909233337, 0.993410686545405, 0.7572976911995569, 0.27426192077480116, 0.6662423646893626, 0.19930237196094458, 0.9513536625658126, 0.37931758107764846, 0.5150723003893357, 0.709210142687628, 0.7330866802725762, 0.31535393798742384, 0.6798943366619125, 0.7257630320294105, 0.3665050494619, 0.955593543733233, 0.046162138899321525, 0.53347364326476, 0.8901965895235588, 0.15871179663029011, 0.7997597358847904, 0.5753815647915627, 0.10699820652892833, 0.5032921495388838, 0.5822401506861818, 0.35440220439873193, 0.8339879332818173, 0.733177051489683, 0.4773532021803377, 0.5559790476714751, 0.8738553728781794, 0.10999014614315605, 0.3128471359826086, 0.5291603667075971, 0.9676399772282877, 0.5359187374216963, 0.857521095307036, 0.9148060150916865, 0.39418854049273266, 0.5136192862852995, 0.5981664509693325, 0.4247061472548951, 0.5483015997302976, 0.47061248532482214, 0.9168904339839405, 0.6637503872332533, 0.6941937639926287, 0.22256317263619152, 0.5382592395379121, 0.30149457642965116, 0.3384252945774793, 0.11842073800644515, 0.6581151376952789, 0.4275193911535262, 0.5541889722611645, 0.7717674840855155, 0.9203082610366625, 0.5157519290659015, 0.13201306611748675, 0.29540065963174733, 0.8127434459070794, 0.1922174135928424, 0.4852443484394464, 0.5047915653991044, 0.8911364431349111, 0.08372310355861667, 0.0393578381641021, 0.21401004942309743, 0.4758518330547459, 0.9257884468964146, 0.685146804365697, 0.3894228676503345, 0.6571934954986949, 0.5493820911993264, 0.7115686367377589, 0.005737695668065146, 0.6014480562025273, 0.5942579499127427, 0.9955025190365646, 0.24980635220971126, 0.15631703337126546, 0.1562767929333263, 0.44563553233784237, 0.36801864204901424, 0.9683359312437233, 0.3157858301419951, 0.06971714094166725, 0.4560041285274373, 0.7620820188607071, 0.7672245625213171, 0.3787028327563464, 0.5980889458580846, 0.7086454814418204, 0.9376653371248556, 0.1045238887009089, 0.32020191689181, 0.7052052520322861, 0.07205482818347853, 0.38764173431615456, 0.05633391292354806, 0.4448113019578023, 0.2353800128227378, 0.2196812687095968, 0.7808103255104726, 0.09437327471846824, 0.9821481125951332, 0.019491592758828835, 0.35572273025295786, 0.9881112374397717, 0.9972003787452135, 0.07223450934079223, 0.6709644163969521, 0.29133328717385565, 0.55562287031205, 0.5396581259719462, 0.5024836397340693, 0.8557471785917397, 0.11784551366976981, 0.8674558980959935, 0.5822563497161166, 0.07808165175579973, 0.12392332590031685, 0.4927705702324888, 0.34028796292762664, 0.3842944957670934, 0.23668114142863284, 0.85796358743098, 0.16934546018235785, 0.4674804941130445, 0.48308899878999867, 0.7156639299243258, 0.1247084078059395, 0.6014595288176711, 0.46791505484407436, 0.8114747632961904, 0.14167620757918142, 0.5842265914309759, 0.7932082596835512, 0.7646454014230085, 0.1040212584404161, 0.8579350064112041, 0.8308405846415279, 0.26767208377643426, 0.47394838696746033, 0.22862839692436776, 0.5807409339625739, 0.13409728901341678, 0.42243988171950086, 0.8300707542932724, 0.3506511640313704, 0.0908679071755385, 0.6423523276802423, 0.4014804524301636, 0.42863349372511794, 0.8279449084861817, 0.8602836690304619, 0.9958155967582388, 0.3482353542826355, 0.20338774632299772, 0.5902804504235061, 0.38913128169493205, 0.1653758425815165, 0.25117922243473956, 0.004963470787884505, 0.5700345392830206, 0.5532265672591081, 0.17960618989175448, 0.5181005093529878, 0.6881159595327022, 0.17184563834153277, 0.8303717086847727, 0.23474245747994482, 0.03371201157779147, 0.6384562036563501, 0.32044519807322003, 0.002714681907648564, 0.5815927374219798, 0.37074437792505655, 0.49399460784266647, 0.7372240894814233, 0.3811199428492724, 0.8809983694573331, 0.9308725969697262, 0.5576526801419526, 0.8500055615102557, 0.9658633710659817, 0.44116866448558945, 0.0540803434747098, 0.5489385870501783, 0.05629934967346395, 0.9069526463940998, 0.30397962095126907, 0.10260149446571187, 0.6040239143325606, 0.9781537692680939, 0.22951288204267073, 0.5594789317307733, 0.6638541399690008, 0.026083119695142876, 0.5934760322019714, 0.24112449219637733, 0.2916775981835147, 0.418419022111857, 0.48643166108938607, 0.2557595999544162, 0.6795467172681161, 0.37466771821579403, 0.11997254856933104, 0.5799528715932427, 0.8428534464575541, 0.793898427019378, 0.9442923128365951, 0.6909516078738255, 0.9994951623254033, 0.5584894196950214, 0.6665303555349501, 0.5177613005434181, 0.07195814434341363, 0.4465432423053205, 0.023238382862271312, 0.44063550088564307, 0.9275302488533587, 0.29083597983575593, 0.8861296345456134, 0.14743533584772672, 0.5771295440417488, 0.9958885470297664, 0.30382788303622155, 0.8439819719431996, 0.03857859354669124, 0.7697404905309023, 0.07246049598675663, 0.7531703437996591, 0.6517941815337527, 0.8798309112828253, 0.6589230076585266, 0.7712045330902525, 0.7464380102817912, 0.5077438088367798, 0.9289989665277594, 0.07804841394072348, 0.17334805441637013, 0.8688955350090231, 0.7503478572057949, 0.11984101350147702, 0.467481072151528, 0.8214350123257408, 0.13970446240033196, 0.7249558957657094, 0.04061513214740409, 0.6061790456331168, 0.4771359909965014, 0.10646728312143583, 0.3719499323592025, 0.09664538352133334, 0.3964387469896179, 0.8576487791933307, 0.16448073687167475, 0.5336006995219424, 0.4313944531413705, 0.9926914943675961, 0.7958486730029006, 0.07997727292210555, 0.6479231627918206, 0.7645069297852526, 0.42510124616123346, 0.5276623593862966, 0.7608309951851087, 0.8874959814389322, 0.5402258054741081, 0.5395717951453597, 0.9998337307762392, 0.16377298646154836, 0.0678166025450424, 0.1814783890242866, 0.5361016020667041, 0.251637867698833, 0.2633079101573996, 0.2752460917637378, 0.9233743572756097, 0.1604447906007328, 0.49227368045151443, 0.07651238959894313, 0.24206987635481525, 0.5904232041827346, 0.8050761660712313, 0.43783803295696844, 0.6070397736137552, 0.06725388423449974, 0.5106367354390378, 0.6356357781090105, 0.5181252138690564, 0.07120301550570662, 0.6692352868313803, 0.9187711689757839, 0.5685212482936796, 0.748550484231772, 0.9705546921065468, 0.7360937661686306, 0.3204963003340403, 0.9364800646413144, 0.8455787501560746, 0.30250525406605977, 0.4690885991565571, 0.35824533329637975, 0.8390074698443084, 0.07870524448929939, 0.3697999310141997, 0.8860143842355533, 0.5413838109688689, 0.9489649796137098, 0.8381309173002769, 0.7582080922678747, 0.4912183210094022, 0.7130968406152811, 0.16317044609607156, 0.09078251751821309, 0.38073377659147134, 0.12699058896267112, 0.7983657573363807, 0.3583232122586065, 0.5965594635526413, 0.9083562093883575, 0.8274856927517262, 0.8553717128282279, 0.16697544041561008, 0.8356010778338636, 0.5674134747506892, 0.9100295470851157, 0.9136204544330182, 0.8236994004169398, 0.33761329942931806, 0.7910996966395589, 0.8912187647901734, 0.8766602818492579, 0.3683157094340639, 0.6728863318269007, 0.0812711971161102, 0.1282350811886812, 0.31824337334716624, 0.11124508086725571, 0.14014882456356648, 0.296957247145178, 0.8839197092985001, 0.6145477838859131, 0.8623190055170582, 0.03126429992504931, 0.8372805159618564, 0.35995600406695927, 0.9033532922602213, 0.9520011211432727, 0.30909794806331037, 0.9221962122691506, 0.9198738003334288, 0.14485886015723304, 0.8110085183349595, 0.7955625731476236, 0.5346427925174423, 0.6974538336188594, 0.04781540780395099, 0.06330774971216269, 0.9766264732097096, 0.2742890807578333, 0.602862994300698, 0.240610881177016, 0.8584461511891562, 0.383766683958058, 0.0427492380146649, 0.7560074155057975, 0.9668159102289537, 0.2658899437672285, 0.6935518832446135, 0.07134005369741703, 0.44985333912396386, 0.7321212099901525, 0.5202255035019483, 0.7701330270040897, 0.42587439273472194, 0.13890906312639928, 8.936116803470728e-05, 0.6933261182335356, 0.4589830227833971, 0.8712191256354543, 0.24580856866237188, 0.4532772021024706, 0.8737786595349991, 0.4165349835929708, 0.07787339260472093, 0.4317638436995218, 0.09815459610654309, 0.1425825507391928, 0.37380168657813984, 0.3410590785972706, 0.005699824311265811, 0.8893672040428532, 0.4381796513239322, 0.2751020419992186, 0.991663442308886, 0.5608393262448343, 0.07646011757548321, 0.6316709487946253, 0.853095437580731, 0.916405670723131, 0.08269158070990235, 0.6101766647591185, 0.6772208988698134, 0.9325507759983339, 0.9098105052999174, 0.5889159886375861, 0.7798211599811876, 0.020456170686751318, 0.04216043829652938, 0.2408814690941381, 0.637249195537562, 0.12868460259566827, 0.8846837043655021, 0.14600526252827017, 0.38509131499822935, 0.45488618358706845, 0.8472263481124304, 0.09515034031378289, 0.7160818674532803, 0.4910180666602366, 0.34181337064997475, 0.6397172223544546, 0.4742837213803264, 0.3613438200785366, 0.15107867739243896, 0.0223759141664176, 0.51883854234849, 0.8362180781375453, 0.4834049960100084, 0.7346179881731841, 0.18801504139602665, 0.15253246287851419, 0.4268253863601885, 0.40717025321285394, 0.5042772623315067, 0.7437910915515994, 0.9986784876637583, 0.18666114621268914, 0.854443286601254, 0.6008331713510844, 0.2402469000127585, 0.5368422339269419, 0.7740048609286806, 0.08405530586424426, 0.6802214081153585, 0.7967552313069856, 0.7195645303095208, 0.6968789574884848, 0.11666903227548553, 0.541793251067763, 0.021624378056586346, 0.6860063020274827, 0.06578212307832376, 0.2719441700396068, 0.19706163837911583, 0.6669622386414751, 0.5882589923863505, 0.16102347888945245, 0.22135432376782982, 0.4596353709454899, 0.4143317940974286, 0.6412520511924952, 0.15795459859442862, 0.7651590888475944, 0.859789295448267, 0.05865416832446324, 0.6494075415656481, 0.0022602331788118546, 0.19430262462286585, 0.16341802947766815, 0.5602612658767945, 0.9206894947996092, 0.9573919485661462, 0.18237509103893834, 0.5605630401107604, 0.422151926986164, 0.504804302929358, 0.2180882806250125, 0.28804582731959183, 0.12577165711837346, 0.18324285658703976, 0.8212332987564052, 0.6512450216690836, 0.6587657560582664, 0.7221881917203857, 0.39141981377435675, 0.23866503885631363, 0.9730140423142206, 0.2414425114620381, 0.049424405797240833, 0.18595583576468644, 0.45501510878148754, 0.8900696688461704, 0.18487326406686788, 0.8016420768423871, 0.7608707018571479, 0.19915307620245082, 0.8602656707241613, 0.06026522716481664, 0.22416806221014784, 0.8913374433348151, 0.9511609678561709, 0.09954563102167135, 0.0866192425151533, 0.5611537586001789, 0.9138701495858793, 0.10084121797387857, 0.04343617231352859, 0.031253668295449955, 0.11338520998807688, 0.17013050225557658, 0.13254282088345837, 0.3070111551763751, 0.6972258865842423, 0.013342721704751703, 0.6629193611370502, 0.9494467182623509, 0.11189784777259248, 0.9295154077004688, 0.4298464372818459, 0.11058325492199983, 0.6572017814440666, 0.2274193515350813, 0.6818103591820597, 0.747414637953251, 0.9665476759429513, 0.8222460272039792, 0.09502574377996342, 0.8518621784159065, 0.8913964067946317, 0.06925758859902709, 0.8969440094750462, 0.5262487726332461, 0.34383367762369177, 0.663476613464251, 0.26250677799280775, 0.827869752063207, 0.9537277092462579, 0.9412999337899955, 0.08232500473996829, 0.5858839801575295, 0.5785617299348587, 0.8427879070352725, 0.9109484652528997, 0.7984657481012704, 0.9569896046135851, 0.8363693808350531, 0.19376090775112875, 0.9725459796617527, 0.7932813551601784, 0.9399823095371512, 0.8366236918916836, 0.20681115121958682, 0.08914115320648841, 0.21569054965908085, 0.8160687783378433, 0.2110292293252426, 0.5326895908792532, 0.09881509697349178, 0.625821546719851, 0.49678925790238615, 0.9594316335421114, 0.31492379195936593, 0.1703982633317609, 0.6533480089850039, 0.10832703625162621, 0.48292828005061617, 0.13426422672303262, 0.5690964397361311, 0.6030570234320419, 0.4505010318289837, 0.44714971325969044, 0.6230967842219257, 0.1498842433421793, 0.8182594096563636, 0.0015983605675120582, 0.81907967313661, 0.8252831248136516, 0.4519622857779588, 0.7353483379975222, 0.27714194607844356, 0.41498182331807365, 0.6392727193611766, 0.9640239484887776, 0.19533188886077246, 0.9606134174899671, 0.030024546856638246, 0.823687022214383, 0.21582491162605932, 0.5858329272598478, 0.9676483175007526, 0.4252259587500363, 0.30725882914060243, 0.6289993562210258, 0.9984271187622564, 0.5852903622151254, 0.687789054316122, 0.791634440552348, 0.5782615857673038, 0.7175328550673133, 0.7693692352953081, 0.15772830857675868, 0.24936944541508377, 0.6615519718267069, 0.7614028771453739, 0.16694537255728015, 0.3325797039887204, 0.13651155487365219, 0.9390113931867372, 0.4789203984462195, 0.12370960501992878, 0.5214501887407427, 0.6133962535072269, 0.08583473115481943, 0.7956653496088137, 0.9901189926471766, 0.5117780615827832, 0.9787817578406419, 0.19805105583259497, 0.9138945148157889, 0.1592983643849526, 0.300888792300136, 0.7109903603917557, 0.326045623841564, 0.14037574385628748, 0.676096050716121, 0.7787462522349463, 0.42350707229375895, 0.3315477362454836, 0.07366965029803663, 0.43524777095904255, 0.6197026017902657, 0.19069585180886162, 0.18428086412610134, 0.6547807479672162, 0.5496572485289886, 0.3256519343373381, 0.9392037284714714, 0.5985317291975318, 0.9029522922357117, 0.4679420204447051, 0.9589380311698744, 0.07259208723564159, 0.027696603679114418, 0.9434754788640078, 0.22776976797487103, 0.5689200970172035, 0.2556735258042139, 0.37884996733264464, 0.9432478734407527, 0.3342699402673086, 0.2066934727825992, 0.8919282111383264, 0.6921429904895724, 0.4638802778521891, 0.5402678275018693, 0.44331581772859363, 0.45977709078574214, 0.6400414147232637, 0.8856567809052648, 0.5492310873849103, 0.6423185779802827, 0.15176752123926562, 0.3756185551343052, 0.3995674616731536, 0.6197929031161475, 0.39781772560880424, 0.13395265091885877, 0.8077804279004199, 0.8405660145944387, 0.548177619808324, 0.8303223196821117, 0.30089319088325395, 0.7246797274369902, 0.10344343984273019, 0.028880066926546766, 0.7103908690946524, 0.7885094791977594, 0.2123567859660167, 0.19134263059524725, 0.0034118047134533702, 0.34195703551433176, 0.4051858998891069, 0.8745218216109535, 0.3604620851020246, 0.09912899380017082, 0.5688914062722366, 0.5671402186525335, 0.8275542248639015, 0.8194397438188578, 0.6902814103925905, 0.888053439285328, 0.972484184782178, 0.7286377134065727, 0.8902135148179464, 0.5488882311445149, 0.5754383943630683, 0.5621570860678246, 0.7280557686380597, 0.466972671286745, 0.7126661846564143, 0.4498223305670471, 0.637117091598214, 0.9612890321841999, 0.43695204613598837, 0.07669452720533199, 0.8417941532560543, 0.9006085485283516, 0.9346008173863068, 0.6420107467067692, 0.7031474254989687, 0.5731474865512185, 0.2712120703933276, 0.9481463533250429, 0.8031300778027379, 0.9573463617765129, 0.5510476373712488, 0.5133052171900336, 0.5370134324096338, 0.7727151454052584, 0.40035345947362766, 0.25271517443434954, 0.9569351845323463, 0.7019932820979342, 0.3465708035466524, 0.02010515578785088, 0.9928077385314098, 0.49162247414291893, 0.5796644950988792, 0.3472080923970665, 0.15501474790134662, 0.49165190938068715, 0.12232422839207135, 0.4223096598801408, 0.5331885493149738, 0.7502774775001504, 0.7034932853282843, 0.032382679597784736, 0.5575412116934796, 0.9881560777392854, 0.46512708501466005, 0.5585753190809415, 0.9341901144697798, 0.8184275921485902, 0.1098183585827045, 0.9686314293113002, 0.08239524169295598, 0.7435345567428701, 0.21937435659453586, 0.2985126078249244, 0.2850956682226252, 0.6929689309576224, 0.568885706911837, 0.1978394689505215, 0.7468925036464567, 0.0022907687912407937, 0.4292576220242299, 0.2670478016722897, 0.6884176284006986, 0.32499402257914356, 0.19327990561561692, 0.2884104635969966, 0.952520156831774, 0.21362798338920042, 0.7704299915978257, 0.5808353310067841, 0.043793216002761426, 0.9218481737602172, 0.9421868154274635, 0.5094130489675555, 0.6864115069080862, 0.14849461846620293, 0.7977112410562311, 0.19584386584907787, 0.26655733621668254, 0.7721464840571102, 0.582295814183053, 0.708164722598631, 0.8236385927499136, 0.4462237266748018, 0.3005596942591753, 0.12143577293473462, 0.5481053594245042, 0.4344309079253449, 0.45084107450969213, 0.8668296813920096, 0.9242314908357278, 0.376290891797026, 0.8514634092587451, 0.5249046155160949, 0.8755693727574988, 0.17827819208254003, 0.31740709285110114, 0.49019317523513717, 0.9603525273382313, 0.5159719111343984, 0.5032421337830176, 0.21558070363128878, 0.3780809500758513, 0.10588601693876565, 0.7895414975442265, 0.5025055840818481, 0.8265844148979327, 0.351440680039232, 0.06255099999132507, 0.9445343552051523, 0.7645688946755362, 0.16380105760904085, 0.36306326075911244, 0.24830064874804592, 0.41116997381617393, 0.640249007960482, 0.8469559381947502, 0.2283121841038075, 0.7396733067589337, 0.9751422332759857, 0.6439915006951199, 0.7608928189796755, 0.23339101869817824, 0.7136715048473723, 0.03975213625365781, 0.33365273536912243, 0.7952640052117511, 0.6838928496998831, 0.4442159351081939, 0.11722922408838277, 0.320073332192761, 0.8235408968242207, 0.8354364520811836, 0.6815230687201714, 0.5618788958234507, 0.4509917229100774, 0.6453860959890655, 0.5082090912678547, 0.8707021038280244, 0.2960703534252399, 0.442546876011074, 0.01742989632019798, 0.5685372318018658, 0.34157594094769705, 0.2648394080209565, 0.06637875782248004, 0.8017229558429859, 0.6769026836054555, 0.3052981884085566, 0.303787561731075, 0.6704339438774035, 0.47469237984594725, 0.9061546023572864, 0.5283659726844993, 0.6360967573596125, 0.2510994083300663, 0.7864244466343928, 0.7687014528229767, 0.3395125641573684, 0.8244770070690832, 0.023291834344387752, 0.05252087398777061, 0.8634081084632313, 0.5644901778054014, 0.6167920027393622, 0.36647284950940284, 0.8593284659204168, 0.6715107742462789, 0.8659759403235744, 0.9298136013788219, 0.5650498206517395, 0.10955725842144437, 0.7710283119865942, 0.5518632952279329, 0.4555041577892389, 0.5410254477997892, 0.8163143109268732, 0.9024042057314353, 0.1453891622285015, 0.27510856484967416, 0.6526775300391016, 0.6523799499146117, 0.1300287411460771, 0.008842151140501353, 0.32880708732925645, 0.3695938261713879, 0.19723701332709498, 0.14218502366747687, 0.19898242538176314, 0.11059800307422518, 0.2232915092304697, 0.5224690720138295, 0.02185382770458444, 0.3162140327025802, 0.595640879706863, 0.35518704511675026, 0.9970695568747635, 0.07274232155783522, 0.25680116299358446, 0.004644606407228191, 0.5137949020533976, 0.12492952168270044, 0.7974498861728497, 0.24643078509970173, 0.3238230690581, 0.1689865150132166, 0.08513251862518223, 0.9744218310608168, 0.3515063504724526, 0.1773011120051209, 0.37755607543706793, 0.6341875230311258, 0.6999426633877991, 0.042192166294164, 0.7575476329039157, 0.39145735945539284, 0.5744691436688721, 0.8107084226840154, 0.7948599519960067, 0.29512966252506145, 0.6119438341868787, 0.09665139185548621, 0.9915706889948364, 0.9900000338659225, 0.5845352419234658, 0.8760527273965779, 0.7838478503189289, 0.7771097557252129, 0.24092665495845178, 0.324213379604651, 0.5462361170014041, 0.4722778617304493, 0.8570181569132888, 0.4171550099193516, 0.7575084861510042, 0.5314994954076154, 0.2929143518668045, 0.026896691506994808, 0.7959238159233148, 0.08162133882426525, 0.21283480524788156, 0.12414926420883032, 0.51474489789381, 0.5719367778205269, 0.7805323426707593, 0.18105450773862763, 0.2710048202116824, 0.687503784651283, 0.1643135965640965, 0.7782409119647146, 0.6837361290841315, 0.5597720333895827, 0.29521741627650355, 0.9315665597841191, 0.6598378152784251, 0.4740164803978789, 0.2287695783809035, 0.39276849179267337, 0.20653662326168587, 0.34699065941695784, 0.13037401529357562, 0.8099655146880003, 0.05139089841967004, 0.6122987015469612, 0.3408411383600647, 0.21038527754645542, 0.10757622021926327, 0.1204857828122653, 0.9762853662549545, 0.2570780921981254, 0.20126350904218282, 0.5415109854321147, 0.18239913018735732, 0.591916357203552, 0.6754899873347636, 0.10034735507791226, 0.5603096360123446, 0.5389788789021319, 0.3693383309881594, 0.8196990544675776, 0.09817473037180502, 0.07780228773935438, 0.02375914251297806, 0.019721075935549615, 0.8620836222119858, 0.9736602131269975, 0.043614740764089, 0.25712006403134324, 0.5583826479891917, 0.5028457020396848, 0.027468888889108256, 0.3792147908110499, 0.4813345381495544, 0.9115951104312968, 0.3924340927164256, 0.31180406077857503, 0.00614480353938629, 0.030748941835705534, 0.8891136519056358, 0.8860913305128236, 0.5137126585622682, 0.7970306673464811, 0.33671591125909384, 0.035531147062484725, 0.39773534135573896, 0.6504495464636255, 0.10204758892213317, 0.5394745046066866, 0.9540539862452275, 0.4132903718990145, 0.730462397692875, 0.5069839214998333, 0.00903533770778886, 0.6727187771705048, 0.9761008660247324, 0.4111306574436109, 0.8285771948577545, 0.4902023955665483, 0.7869431199147847, 0.6551656599375948, 0.21960634795644696, 0.5972926172192775, 0.07108901027287828, 0.9900937725579437, 0.9927095191428544, 0.6369998631557419, 0.7992340656223385, 0.13807800793522906, 0.31222501542432457, 0.2491297082547277, 0.13507374163103647, 0.09587592574470472, 0.8247819077747924, 0.5824636143196749, 0.3848335790639732, 0.3075423825686091, 0.518395065267086, 0.47295817483069136, 0.08514944003218516, 0.41849176892214857, 0.9738676175239909, 0.443065043962521, 0.8855492787907179, 0.6979213531394632, 0.8803745912862327, 0.21929676875825477, 0.2524726783108687, 0.6852563849409932, 0.18988071038702425, 0.34815165976208995, 0.7945615515840458, 0.7889567161022141, 0.4604850734614946, 0.2966791771189208, 0.9597131605404221, 0.7290010009378366, 0.6127347576080565, 0.5222099156523468, 0.9861275987229496, 0.31695341033624014, 0.22273906660546872, 0.8779534307637699, 0.5685351576187416, 0.8751539628950428, 0.5331382388195449, 0.26940309485692315, 0.41507782364530255, 0.9554140422982255, 0.20540801262297204, 0.930499221084433, 0.5977526607130718, 0.9297872360249803, 0.1521524756049687, 0.8496852638471133, 0.6137363163118921, 0.10561849393328959, 0.5165024391376527, 0.36197973754376533, 0.0011670136093890893, 0.7068127770516222, 0.9362854042939355, 0.3557151582866954, 0.2118275667938232, 0.3874309525095847, 0.7477397992468909, 0.1637038344614975, 0.14942772714954877, 0.5158687480271291, 0.9403333748283529, 0.45997774556536675, 0.7484317447804553, 0.9436426252132195, 0.42075116578376237, 0.8134212049769622, 0.7355069906565751, 0.26318029444758395, 0.42956198987472527, 0.6000108053670353, 0.20531077505617445, 0.11329051785803046, 0.04711929170668527, 0.3200858410174131, 0.8666641649701344, 0.5858879177957786, 0.7772383930749514, 0.6918420221823272, 0.3624264630004217, 0.6233270485287041, 0.7199936305124385, 0.6633038597539821, 0.9870281543313588, 0.6977055344616947, 0.8492441414269164, 0.7739473915182661, 0.9431839875403899, 0.3679509141016519, 0.7361376927409229, 0.014698536736785783, 0.8580391866749113, 0.8144706093200985, 0.18247387540242577, 0.6127510069172761, 0.9781941903342307, 0.1918329932407088, 0.3948663890036933, 0.45779047794306515, 0.2420143275457196, 0.4098566148800604, 0.6893399384418049, 0.8633327199219649, 0.9416480314673897, 0.06180118571831594, 0.48669662875981534, 0.9567096192866148, 0.24404878037547617, 0.023571668571579107, 0.666623590711473, 0.7601486514149063, 0.957589244589141, 0.33076155278677755, 0.6901091964769883, 0.4049125982736985, 0.28902929957479107, 0.7275321077864418, 0.42688658650098155, 0.9714245951941456, 0.6461675141221032, 0.1970807655866923, 0.055747914968102386, 0.2713732645981203, 0.346833081526445, 0.33277310272306804, 0.7861639851329633, 0.37630260906736734, 0.6827668389685797, 0.07309957258651278, 0.5752933679217678, 0.5679441283755277, 0.15700725162322915, 0.14633040432022526, 0.13125801667721948, 0.3915303467963046, 0.06273069147674004, 0.6581271925318107, 0.9230660793699761, 0.17955808117605543, 0.4005349140814538, 0.47570100540674265, 0.037209878955019926, 0.5640017262760242, 0.459288712447005, 0.9471351772969625, 0.3388457386549484, 0.9109144279674604, 0.22319581143178568, 0.48510089333320094, 0.7177164798893064, 0.6972683421048808, 0.4272597361976068, 0.21272529139627738, 0.2204927419253535, 0.03750380937558506, 0.35625197476119785, 0.4060583721396601, 0.4493058905641253, 0.18036931990156568, 0.0488338233518153, 0.022290021370209856, 0.8029476028101041, 0.6246983640567916, 0.28582957285500443, 0.8431816712309732, 0.6956966822338356, 0.13981327531605747, 0.3037636937700299, 0.09072820292716499, 0.3169805378471813, 0.3453844049306235, 0.6416914283802526, 0.18770512868481282, 0.4061666456941916, 0.6222719631108699, 0.00407717343533065, 0.47004708709906495, 0.8475369919146273, 0.3553665527176678, 0.6077103970784268, 0.3527264184546266, 0.10419130623657091, 0.46161667892624914, 0.848205790031669, 0.15926293177948925, 0.33497788133387396, 0.17307503086560316, 0.32466168789400685, 0.597819447590033, 0.8401443914798262, 0.28480701400167396, 0.9896696369513901, 0.9084585550188348, 0.7512746348105173, 0.05504556720792819, 0.4721048430312689, 0.8888188900559816, 0.5276247983374434, 0.5174533861833771, 0.36617344039969446, 0.004585410750641339, 0.5255128780044251, 0.1407642914581556, 0.663786662788931, 0.7868436736785854, 0.545561659858126, 0.08850403559545905, 0.08831666471838995, 0.17561740302738948, 0.7918889762505501, 0.7210319354257045, 0.9562150943168942, 0.06871153638556837, 0.6054126728963584, 0.5548143094982623, 0.7010222118004314, 0.7404638654877537, 0.919057717670766, 0.8162468679348341, 0.3341664760095432, 0.3052735464005243, 0.622130728108522, 0.5821852719056307, 0.13483514687200016, 0.5373695377821284, 0.49353371285906344, 0.37524134982605173, 0.9076555883465999, 0.6878894950047661, 0.04418077949880128, 0.20432146837386422, 0.8638088234695255, 0.16521641560907796, 0.8713626062973024, 0.5633076033203182, 0.32911762880319906, 0.30913346065582836, 0.48014651667947383, 0.79675917523435, 0.7735535303022265, 0.22745529741855597, 0.8653752363764499, 0.4501137879310899, 0.9349440201054109, 0.005705995202359482, 0.12184920569628666, 0.06407925162655681, 0.09485531259195201, 0.5855287672056245, 0.9415499288146477, 0.47715295047869255, 0.9292210399790848, 0.40628469054463434, 0.35163458237295075, 0.8918680631677526, 0.4616245624971165, 0.24659842504433904, 0.03130488612239357, 0.8851264924130551, 0.6153937889953561, 0.2069990728956268, 0.4737832561841465, 0.0203763799075114, 0.5421660813174451, 0.366818378904912, 0.06212936791304591, 0.14409048497529486, 0.6213781449669541, 0.35565024994881256, 0.01810260366119587, 0.7727639041412573, 0.33480752859155305, 0.47856135196592353, 0.9654597673667501, 0.9213839912533875, 0.42163062927806416, 0.7815021029476735, 0.26295617118685577, 0.6104403214121058, 0.6466190495343277, 0.09096067290501042, 0.8232616855493371, 0.045761138717437255, 0.1678364683885768, 0.8182060642101887, 0.6307245118485694, 0.23860660982269344, 0.8799801385772797, 0.14598287554495204, 0.1915964824916656, 0.49776109766354226, 0.08308724349226948, 0.8308678487237176, 0.1529304932298272, 0.29092518150230207, 0.5622000754628653, 0.5089660572870777, 0.6519647408861791, 0.7221711750391526, 0.0778685492345863, 0.016442771581803073, 0.5625984507292567, 0.29505553687406516, 0.04519902131217568, 0.8016327357847113, 0.5023542429885453, 0.5668090467141387, 0.6847199745114795, 0.24528955889334936, 0.8655608262483176, 0.5161538675688017, 0.9244838426852342, 0.020777763092472257, 0.9418390110792759, 0.15118881955999297, 0.9492152136982492, 0.5152103885322561, 0.9987831473000234, 0.9907582945677647, 0.19582565952893793, 0.835378637619925, 0.1320786167642809, 0.013202590763322086, 0.4955382561385454, 0.8688796175618281, 0.6492542234307422, 0.5780167939735433, 0.5752119646731086, 0.7802269463412738, 0.21627097687386032, 0.049936746425667144, 0.791632001931897, 0.010892844009091407, 0.22287370806654572, 0.34998549509224375, 0.39371189296604414, 0.008814420656192534, 0.6332054697382391, 0.0881107697136202, 0.1960788881719574, 0.49238897880420385, 0.6426942350250348, 0.2471203139349175, 0.14562094044437734, 0.4869336318295837, 0.06135496163452869, 0.9596643108652861, 0.33903088647351265, 0.7798497178692321, 0.7369621181302839, 0.16222898299277355, 0.8552609765764101, 0.4736581792250283, 0.5259755863907541, 0.4459327661818736, 0.7877427512428228, 0.5353295550665444, 0.32781893823504127, 0.1744145606477142, 0.03100722197136363, 0.9924605700020089, 0.7446806119216054, 0.3924988628847378, 0.2796470989135399, 0.8806483892580158, 0.8615853643181389, 0.9372567497075476, 0.8434436590595392, 0.559981375431608, 0.6576088219222959, 0.1284577924081981, 0.8224418927766992, 0.016439701237950355, 0.3066731582331872, 0.27186292422716496, 0.341237642010919, 0.09357684231915764, 0.5568370932872697, 0.1788222050381163, 0.537429149821497, 0.09333678752216457, 0.3311584842210711, 0.658157675101616, 0.637244444105292, 0.9200172584557641, 0.7848050234722584, 0.5156470769100581, 0.773125734174189, 0.9495329589404083, 0.056152772549510455, 0.1644089734342964, 0.06553810745510402, 0.44138630071054485, 0.20939700134272554, 0.3044643218328048, 0.8081500078316731, 0.7836625772131041, 0.16891911638766077, 0.9121717484495969, 0.2924607963884024, 0.756330539548417, 0.027116260823921934, 0.10344273627712652, 0.20431232258495446, 0.1218469906367039, 0.07615394081831639, 0.16642272341650033, 0.5158274903578002, 0.627815331248815, 0.39778481018054723, 0.8917317230756465, 0.4065915060992855, 0.4396785400381308, 0.3515097337541223, 0.04623550409340804, 0.3951829546706398, 0.5743307402740649, 0.15929019684031864, 0.3811436146756605, 0.9758294752376376, 0.4313649147140223, 0.3666493465349173, 0.5772194281186356, 0.5277303408464142, 0.7434638311465236, 0.18825711399367828, 0.6145996878368004, 0.4385967567773421, 0.10484250310529619, 0.26608489884228004, 0.2896896923251968, 0.2917617666068406, 0.5910253084249774, 0.5788481554115993, 0.8129058493365896, 0.9375255162673113, 0.5109863678396224, 0.5521968987959941, 0.15961153331456746, 0.08735896970561674, 0.71787490608591, 0.13998650100916166, 0.7122736795957154, 0.8838850066379311, 0.8508161874552399, 0.534859415946074, 0.9032809063673748, 0.6601149539473227, 0.9832955936898197, 0.4198116696634464, 0.31383275721135073, 0.5225916717752584, 0.9434337207524947, 0.9266792362185714, 0.3557192100065111, 0.9074318278873467, 0.3742247485789211, 0.9110430702433581, 0.6262513381572511, 0.110905473325277, 0.7768722000317694, 0.30042743515190595, 0.5845083784238634, 0.11948060916744463, 0.5697882747493291, 0.9382891666902947, 0.25745740023560504, 0.1475101585432429, 0.030529563456959008, 0.6183803344121154, 0.25821300097606636, 0.39978849147149476, 0.9005293899119747, 0.7452149797987639, 0.03250779906233803, 0.7401468614862562, 0.3097402064037058, 0.38096457085316227, 0.02455363612472461, 0.12791506260243568, 0.9661748139825559, 0.7344023710903013, 0.6172779393649668, 0.22097079865244018, 0.19876744796160617, 0.8017717192096754, 0.1184765471816458, 0.9484968457275934, 0.1274158355266518, 0.007235197458889009, 0.5450527955734589, 0.5538641030152345, 0.1833509431350946, 0.3616957698548193, 0.6426546945288337, 0.752380487542347, 0.5094451570564911, 0.3639830750040317, 0.9150449621460198, 0.02544000949741465, 0.04478266136818809, 0.3716776994417771, 0.19317500451555658, 0.9378228993069151, 0.7848380732956606, 0.8170958810379921, 0.5164756147267947, 0.0922118458555179, 0.11434113053268713, 0.08741844613666927, 0.050696706703566186, 0.9705515657826214, 0.011639627278746456, 0.5881014493693163, 0.582047234308922, 0.0018619754335676975, 0.16632783769428583, 0.6454839389351184, 0.6778289436648697, 0.7269236688290358, 0.5965732782547005, 0.961239631243369, 0.8983769323046595, 0.9828942728940102, 0.5042947501148104, 0.7132088685686947, 0.42280531725307346, 0.007027303555444453, 0.7668078652359759, 0.2972820932005015, 0.17556613990462755, 0.9606479151675832, 0.5644041934288865, 0.9694110248377164, 0.8777919909140505, 0.4777075048398225, 0.7131677669502395, 0.2869582885821087, 0.6517964854250438, 0.8249949003383394, 0.41760324620127787, 0.24113438837784784, 0.20785672521553622, 0.6444102168558984, 0.2138394341822445, 0.00665682837919368, 0.8407832699341241, 0.26490399785083196, 0.44833325097810517, 0.8561071091081619, 0.918086137431455, 0.900526328440484, 0.9434232283756937, 0.5895028143237534, 0.6167664559244228, 0.9982298733420597, 0.7627278819010246, 0.013559133240982568, 0.19709692477071816, 0.5428090934504687, 0.7822336453766648, 0.482423546869416, 0.9606037919221623, 0.1136465218680155, 0.8331549849271392, 0.3476334178703183, 0.6772129497969726, 0.5353130315479504, 0.3013734870432486, 0.5402192589488107, 0.10029608903285925, 0.3653018331714972, 0.2774720627170806, 0.07439921737431165, 0.6693597749435899, 0.014751061357253459, 0.9904321150714054, 0.3067273782571762, 0.37193407614403506, 0.12226699820153863, 0.05108007418675087, 0.19947081528899235, 0.6208014787967684, 0.0017173314639700177, 0.035536427995160325, 0.46865775605547744, 0.059765079100939866, 0.7665783236617172, 0.6130761924786424, 0.9350547116418015, 0.30125187580805135, 0.417541949404278, 0.28503844538374856, 0.4375378359272296, 0.02907937531942728, 0.4656365364044762, 0.1256912361270237, 0.37523666228021657, 0.10818766499439059, 0.05371104375789537, 0.03953737174688543, 0.48811703959154196, 0.4431260997592039, 0.8792843560781337, 0.9523141402260937, 0.05061788013154689, 0.18839587946744274, 0.573371246643053, 0.8109928080046486, 0.30539628146556064, 0.14593805375282987, 0.6083673161078555, 0.4103809749570546, 0.8821762655904288, 0.313089659669341, 0.22113497236376045, 0.9499001454667367, 0.4774960288219178, 0.0536529528304196, 0.1923830700274216, 0.9463329901169484, 0.3086142438553887, 0.13502702527497312, 0.8138094496728782, 0.8681222850080795, 0.00018727863344936146, 0.785644575059019, 0.11286667716445276, 0.9341292421064962, 0.8345198548674518, 0.5587571025090337, 0.06555223930178133, 0.6395188758040252, 0.17529798629405968, 0.14065509735310278, 0.2706203881691275, 0.11363062898753551, 0.5311528647819094, 0.2829458725685725, 0.12084815383285996, 0.22826801005647235, 0.893550986844487, 0.7126089182476203, 0.7243409265981483, 0.30746055602274647, 0.06867844604409978, 0.8642881308200445, 0.5468908792714002, 0.2916295490918822, 0.12664475303574174, 0.8636695784341066, 0.9387971187577547, 0.572143272922001, 0.6257059327063137, 0.776321087446346, 0.6141077145489935, 0.27102213218137505, 0.7331853116565559, 0.3714756969223204, 0.22821509143607266, 0.09910555274914112, 0.47142217432067723, 0.519806037488484, 0.12602981886290088, 0.6306342580118923, 0.9457120718800132, 0.8005334232246621, 0.08251002225855164, 0.24782809519746307, 0.7921281349676598, 0.9604872208764347, 0.8841203600299133, 0.7187748560466213, 0.22907448854933643, 0.20431827197892705, 0.7304785857350953, 0.5163611747295326, 0.1967519623836973, 0.8579418456016794, 0.013173741184899446, 0.720946463573054, 0.6306501474287408, 0.8099301060158941, 0.7054052359635663, 0.07078697555056668, 0.6741524302393592, 0.46681021945501255, 0.11092936709111001, 0.5942032253181393, 0.8040475778333321, 0.03924308500757423, 0.4835539239529044, 0.9531448093220373, 0.7405375993885923, 0.4902439892404352, 0.16477071405936816, 0.11475900722828902, 0.47418975237224714, 0.4082982618052826, 0.49197950718214856, 0.7118104995897034, 0.22286256375082825, 0.5309365664891408, 0.7102978396593689, 0.7645752208934234, 0.4155913774293345, 0.5109228992408626, 0.33507471440426306, 0.7635463829053565, 0.355526681158451, 0.2931234635497473, 0.47653102867996766, 0.7768910192114141, 0.46906497021133275, 0.2965370397608732, 0.5446040052278431, 0.5493005500582989, 0.11782358590879638, 0.3371286938680539, 0.7979245763162058, 0.4388427500553249, 0.49186049068391013, 0.5263812815321544, 0.6617431562291446, 0.250988125598805, 0.1651768294125191, 0.7103676054280206, 0.6594935005479191, 0.7740390986855328, 0.9118911429465046, 0.7986235857326389, 0.4078391122319245, 0.18784919027671854, 0.4155778172205419, 0.21391400459358179, 0.8604003418790904, 0.9186062627537823, 0.1404607161512761, 0.2131174959503488, 0.6009570066017608, 0.06971667823550343, 0.0038334333478784455, 0.8238711561984321, 0.15419153811148878, 0.2685372849423455, 0.9550438998341545, 0.6780955405208315, 0.6899739375214872, 0.7471660920248951, 0.5346047529591545, 0.32802878086629683, 0.2659260764928576, 0.25861288642196345, 0.27306484354656047, 0.9538935629487256, 0.31877216463064895, 0.09115092722223994, 0.675359468498831, 0.539372177152268, 0.9320189285304814, 0.30161664095453633, 0.5137418871572396, 0.4039814954448586, 0.9238015983539345, 0.4187191424898188, 0.7767511567754798, 0.3799677963240241, 0.0011918181889380985, 0.5482021077893933, 0.2740388434579967, 0.5831202757359314, 0.054607616952907057, 0.595530228675418, 0.7279064266581348, 0.8509443427536587, 0.9618311277638563, 0.3790317166344156, 0.7843781661629615, 0.8800693950113957, 0.2523811055976538, 0.04596709988607761, 0.1929891375261925, 0.25369303029909074, 0.27462983689562304, 0.8203025784167559, 0.2728297318097376, 0.3869543688974303, 0.8535206635671274, 0.3930817468361878, 0.2491024871783989, 0.3376142125383732, 0.1604987198768707, 0.05493816916400307, 0.26718887329489727, 0.6896535407854967, 0.063211090884992, 0.27343884360858817, 0.38231732670628493, 0.10757654058386856, 0.9441193497020965, 0.9334325941167446, 0.2553987817466571, 0.11612467874102983, 0.7442424238276432, 0.9352685737285013, 0.2389662069751477, 0.9161127477195138, 0.6768449954657177, 0.41909095181324196, 0.2981508664696365, 0.8120647216916679, 0.11862996753147004, 0.30630243300022897, 0.8274251374113245, 0.521062546737807, 0.8158362355507506, 0.4502903432600769, 0.8980581109559941, 0.40706456757539156, 0.6655472411445441, 0.12715781294894235, 0.8503331624565232, 0.35714358161051496, 0.9145251850889435, 0.02500562568933251, 0.5656897402132738, 0.4374953058091584, 0.0006855359685983275, 0.06708681613703738, 0.07306949351001679, 0.9036025254370125, 0.23782636768616017, 0.5173098167502183, 0.9172804935819586, 0.1361568642767762, 0.01376502299522675, 0.44321385031780347, 0.47078194057894696, 0.2457593278198269, 0.2613635599566926, 0.09793080877773275, 0.04246546038126575, 0.2986824786680501, 0.904910306889011, 0.35835452980183913, 0.09406615728424939, 0.6855935999516599, 0.44295525980996975, 0.7535314579566013, 0.3681080403449182, 0.4755468609157797, 0.7165563367425931, 0.5103262456926704, 0.28400378687454975, 0.37467082394993234, 0.895023284402032, 0.7430793651137055, 0.9492120001314448, 0.8679568145880525, 0.10254208772742834, 0.4590789816874743, 0.21586824583449482, 0.29099303707163027, 0.12078534217938519, 0.5169292265690902, 0.33300785991241066, 0.05898925974871194, 0.28387054550439605, 0.5313587390058522, 0.8341751759890759, 0.20256518606958596, 0.6875848905073922, 0.27155210406567865, 0.6180742725494487, 0.5065656380958079, 0.2938039252403156, 0.5221523906976848, 0.18328270206416364, 0.3627499258009377, 0.45433467265370486, 0.6308737993893277, 0.18095270422097665, 0.5752890583326631, 0.4476014671384906, 0.6375647951504755, 0.5168212712601131, 0.8662133145872076, 0.02547906290001023, 0.5381128097624941, 0.9581733363510132, 0.7637625246515358, 0.6074383584753099, 0.1094901628358389, 0.43710386075812824, 0.550440465143523, 0.22523597325486877, 0.37761046561725997, 0.08816443493558179, 0.3844244156652673, 0.14098656254598219, 0.7156304597175652, 0.9405928739283095, 0.3214373672623728, 0.9844927695868954, 0.011201812468974337, 0.21043230246973132, 0.3429732393590442, 0.4598808078241148, 0.6623654009006806, 0.8722079536030675, 0.17361980204593164, 0.3534516771524333, 0.40474530240607065, 0.07308610679011607, 0.17585396826857447, 0.5623791195055479, 0.9770594350901787, 0.9278179516125574, 0.6330955228957456, 0.08029711995491817, 0.8772855545444701, 0.034999212414389524, 0.933274046000277, 0.9864320807256719, 0.7548502677771112, 0.42581598671511434, 0.26192991052964887, 0.26690125376075846, 0.9623441066118942, 0.030933901422609655, 0.17709906524488195, 0.4556893324154587, 0.9072733122296893, 0.7055768005614727, 0.31286678731014916, 0.9844611584647206, 0.5893772878852835, 0.47148888029507263, 0.5395993622562638, 0.27313417636488935, 0.8928698659469433, 0.1970149056731365, 0.829612789270012, 0.560038484031738, 0.8184652716817776, 0.7666086830202833, 0.1242990718478647, 0.7857919870818125, 0.6480614553779254, 0.6993006185829426, 0.6352461763837302, 0.19445756629652666, 0.3040885836448568, 0.798542312574317, 0.7173667057107832, 0.891355452418004, 0.8634816139100291, 0.4866271805738719, 0.7121057545680625, 0.43793637922664364, 0.5782438809970353, 0.06183038864322299, 0.8442107867702031, 0.09197222476653244, 0.520658998124469, 0.39626319640539776, 0.5676394297579949, 0.46262785351440694, 0.2177089759747921, 0.9567882330537036, 0.6503154170578513, 0.30234939432212415, 0.4058621631770757, 0.8066906152688785, 0.9606933237632878, 0.6281690587962472, 0.6018498130765314, 0.30112583215108946, 0.6568547310988351, 0.2753867759738562, 0.8913550981517524, 0.929173345322963, 0.3972479714108673, 0.9110672879735416, 0.9794710877338526, 0.8633147728775715, 0.862064234981858, 0.13031650874577394, 0.6315223852703117, 0.34374377272528656, 0.9232287190712705, 0.6876865645277701, 0.9100288176667874, 0.747212349071637, 0.44922490964620354, 0.5182025933600483, 0.7731302639931746, 0.4710635277458368, 0.8016881576749839, 0.2594331639135483, 0.6305883885446613, 0.03482517433343579, 0.4957981080634405, 0.12094931708600609, 0.29506079210093983, 0.5572722486529111, 0.6349248101159448, 0.7986232415870865, 0.5049772078546754, 0.4392870206330777, 0.6465435992398024, 0.8150442642920858, 0.02378812541131614, 0.6298047724748137, 0.294158243309978, 0.47375702555534094, 0.4763448514745863, 0.21440760718810803, 0.9924990318284899, 0.4364546131423689, 0.07317615246860465, 0.23247625631729407, 0.34991421815342827, 0.9715964905242395, 0.30277381362263067, 0.41758606291353473, 0.04811099720646228, 0.2259105714868629, 0.4885749315979834, 0.9819696502195022, 0.7457457110425102, 0.5684728573614666, 0.33700421736933384, 0.7614690780433075, 0.6722595566317143, 0.20706169457232193, 0.4059853478182669, 0.7070191966011992, 0.390948025375479, 0.6866827599797591, 0.7464619334109859, 0.1792956859645528, 0.9950083422071135, 0.6611396510908046, 0.21921155196814435, 0.36652114618611864, 0.07593453016608709, 0.634161455037117, 0.4907182988369605, 0.5207964879720742, 0.8605068682080711, 0.5502523779948582, 0.055772952228977934, 0.9697006455469752, 0.4691743503952345, 0.5458813684478777, 0.2072789416121953, 0.19325449142072837, 0.058857916829083146, 0.35247504093824567, 0.4424548142623109, 0.739213323050989, 0.3302806234115969, 0.42219613656772703, 0.22844558639647417, 0.22889972468954323, 0.4714149591013287, 0.9960568731737627, 0.8985900903633259, 0.030699462689120383, 0.3831220642069133, 0.16230871543721803, 0.0223280224598571, 0.44673914651958735, 0.3596746571152405, 0.5490151656682858, 0.3783253220868721, 0.6023904017252224, 0.00981222173388585, 0.6431960172341841, 0.6716136626989941, 0.26960567920888534, 0.295396630427911, 0.026578276735665485, 0.22922922888193342, 0.7913465677291249, 0.459460540876483, 0.2851230957984223, 0.7811420139431166, 0.9464264811293945, 0.21957558837361657, 0.7261400503807355, 0.5290406718252808, 0.14556039841046442, 0.6863499589317135, 0.8650319744621237, 0.03428190702371137, 0.5004148078471289, 0.7383122691131645, 0.5946354186442602, 0.9186232193980467, 0.6742407280828417, 0.22377766018550904, 0.4685955397829633, 0.06886973292105658, 0.7754308673592195, 0.08572991907979377, 0.9849052003276997, 0.22780700657971553, 0.29182135522965924, 0.6978266322534461, 0.434415485890727, 0.12554274514286723, 0.1632573553102098, 0.3084414872150515, 0.007047922223564873, 0.0007208826038146432, 0.988989072741728, 0.9770745146749719, 0.8852239831668532, 0.06528355208076297, 0.7555004151668877, 0.7751835346198512, 0.32959185771149746, 0.4253788591947063, 0.028157003218860388, 0.20420689103826029, 0.6267293209334658, 0.24793368509128766, 0.6132005875737064, 0.6986648142074519, 0.10212439068877399, 0.9956412744764382, 0.6111584919712851, 0.7099955317899521, 0.13349268619766153, 0.6578660853404968, 0.6549514083006315, 0.15582314972164213, 0.40894561588249523, 0.634356469103612, 0.45334627565825414, 0.9147630786055888, 0.9055979583552685, 0.8379560498092636, 0.4508993501394689, 0.6341028919406839, 0.019304811920843323, 0.2954597942673888, 0.5934173468548762, 0.47479295896933427, 0.30140352588886854, 0.232073988273658, 0.5305385293359801, 0.9228456118191245, 0.36290732308680973, 0.026771873781271216, 0.3048701183171759, 0.7813249231410776, 0.2834963187644054, 0.35985324463343527, 0.3684318002643494, 0.6842809187326825, 0.979629395483483, 0.6128750506154219, 0.4949836956369492, 0.8032453376447621, 0.11059940887682362, 0.8347165298032658, 0.27994619792472164, 0.5041012627776852, 0.7931862675556277, 0.9483109778731409, 0.07596183902644504, 0.9979479501327071, 0.22464568065934765, 0.8441720373095082, 0.5711125855324951, 0.20061228985165014, 0.6170820970695414, 0.6788361189850094, 0.45452246343881086, 0.6838713665972723, 0.44528717541232676, 0.14383336030799743, 0.4672660655821975, 0.2048901394508318, 0.6384196188727698, 0.12190230621908194, 0.3792263942847792, 0.9163368931154278, 0.8369191732979931, 0.7591520203757982, 0.30378217463501156, 0.6132426403339596, 0.5494953776770325, 0.17976165654913256, 0.03465586215257743, 0.29557029440908134, 0.31480278699703024, 0.05919768880976284, 0.7624229095321305, 0.4925329385587831, 0.45806930085558606, 0.9098674013599463, 0.07662447085255275, 0.5973459973578337, 0.04377452331280085, 0.13562044141307283, 0.3959305610611805, 0.5660851411201591, 0.9773663806407389, 0.7860496494631917, 0.16778035251068824, 0.49948863909307406, 0.193866853384418, 0.14019125920933573, 0.14015497403117094, 0.8083078910598244, 0.5616512912485483, 0.2441259664764195, 0.17719935688385602, 0.21655036647615766, 0.27446683534122673, 0.8894384748185077, 0.18560252115290965, 0.792121812334609, 0.36339543534221996, 0.9206268747682287, 0.25264732727912664, 0.10876126417669507, 0.29017784604707253, 0.2921945720397289, 0.04359622843063771, 0.7770372237800475, 0.7035768408289608, 0.1664589790976485, 0.7879151883195938, 0.6128119481512962, 0.4828811142278282, 0.5565020967150693, 0.7496189052714547, 0.02443173298935475, 0.5262739626984093, 0.35816457623490516, 0.17155480097060716, 0.9227827978469211, 0.07945102123785941, 0.6188880439457075, 0.22651883472306045, 0.2948315821807702, 0.6853750974994234, 0.634201762990862, 0.2032569510121981, 0.3819586432148975, 0.3929637499959959, 0.013740276610717861, 0.7323043831300738, 0.30561881774775335, 0.03953200604675999, 0.8351787986727005, 0.5540347440797594, 0.750663229193019, 0.37825858835041837, 0.8461208016444972, 0.29635644711423104, 0.8258697329034913, 0.09106028936682486, 0.2522123945470188, 0.9674983716814136, 0.14399427039118895, 0.9333740227932014, 0.5867462986556283, 0.23499520773470228, 0.6653580458242886, 0.11767362461974473, 0.45660106526545374, 0.48113909161252766, 0.6039661999048829, 0.023376810614968546, 0.33865562098974866, 0.694864465468397, 0.3643076965585281, 0.5081199742696391, 0.8513425986629511, 0.6122228424966005, 0.059774282076367924, 0.975206181112405, 0.9612427080188743, 0.3941099308528807, 0.49731578514937147, 0.3619055384767378, 0.5205830767359786, 0.9148805463793341, 0.9162391733728488, 0.30033215911092326, 0.7307416535973986, 0.3060693249634103, 0.20811415746694684, 0.6322967191928724, 0.3671451532329343, 0.4401500592683242, 0.40081350696994344, 0.15449579092978039, 0.3762230285545125, 0.2869412476131521, 0.666724306474912, 0.4840603355478027, 0.14500007297132433, 0.6574378564211798, 0.31886614216261966, 0.07156681483001404, 0.19054116325417958, 0.9263903398866415, 0.1856347691712239, 0.8315487248915087, 0.0017899607707931864, 0.38944975217568956, 0.7740753003292403, 0.10249189145907445, 0.9603130148928051, 0.8711300771825659, 0.5735733136496829, 0.3380794866399238, 0.08552016976715926, 0.44868438903717167, 0.25661347422884506, 0.6144671708275034, 0.048361180259038905, 0.8934625809411997, 0.27422596980777003, 0.3950252168987771, 0.43189495985477067, 0.2182293277385221, 0.07829625626293302, 0.6831045799387259, 0.8831149180438473, 0.013295475231309362, 0.40382476927174704, 0.16050183802181106, 0.8707493015817029, 0.7211064587705707, 0.5355371764757542, 0.8565814224938786, 0.8986438584449201, 0.2915432064317939, 0.7018036433285553, 0.5170247578199035, 0.14403606105087075, 0.6363869429804526, 0.21878935784630726, 0.4377967722860121, 0.5393800359012912, 0.963996167450967, 0.7288134615879621, 0.979661031739657, 0.820148365843416, 0.6854998971288565, 0.7949435383375494, 0.8935657447327693, 0.39348395264169145, 0.7340239065859672, 0.01147124127186483, 0.3910089749117457, 0.8489406598441983, 0.473009080769612, 0.9947057978685498, 0.1324537464070249, 0.1182326161838585, 0.23623908071126254, 0.637383347844343, 0.5222743833102211, 0.8119232470047892, 0.42435908057324656, 0.36283658722008805, 0.44076238675372537, 0.36714884370907586, 0.5771895368117129, 0.481594320143786, 0.9151363659424646, 0.5235757387513702, 0.8867542035665568, 0.6645384405111657, 0.9338353787244565, 0.5819163706823313, 0.8420091831756298, 0.2665772772075157, 0.5087300102004945, 0.20710886379285376, 0.5728554081416891, 0.5272047646796283, 0.37180246064661127, 0.8795116933080033, 0.5277480113294142, 0.345993392724225, 0.8652078010370718, 0.10213936677109359, 0.15584433015596266, 0.557002471681686, 0.6164021257903072, 0.6021021064374549, 0.08529203166991317, 0.625393796247563, 0.7022656882544114, 0.23915334543176658, 0.4142923253288511, 0.7622072060238162, 0.22965344096735618, 0.25424741667514517, 0.2934805225761872, 0.08971098558382395, 0.5889282054512792, 0.9749192366898679, 0.9472573437192916, 0.8225778520683242, 0.3681139755751762, 0.4006569726927195, 0.9670569329587382, 0.5079750457970712, 0.6537290335072384, 0.24586540567036186, 0.9580267074853821, 0.4119019528158939, 0.839541602680529, 0.4281772531035396, 0.9041481883337347, 0.6243610550673107, 0.8848207468334471, 0.3066626265278266, 0.8266491600568778, 0.37119151978387166, 0.20040659531505745, 0.002201296170522671, 0.3952648298503546, 0.3994631298209389, 0.438735689873779, 0.10061475993196867, 0.12617905615322478, 0.42458675386955913, 0.9337272874154857, 0.0910672858190914, 0.6389548918896776, 0.4893039033516623, 0.017567945158156628, 0.458689292630038, 0.6546271863095505, 0.32290021685800396, 0.28889340417132026, 0.8591995839745434, 0.06339158536679845, 0.013805731300877921, 0.5902690386001128, 0.837276389724446, 0.32625994208559606, 0.49462113406893904, 0.7673858610967342, 0.9544470580072633, 0.7063102302824674, 0.8811299582151483, 0.2076738381408847, 0.9822765644966718, 0.4012075276138658, 0.42786950042699334, 0.7731722335330937, 0.13639279791571302, 0.43720381016174403, 0.422474612410767, 0.34180629136255936, 0.05769529404583995, 0.886678209415079, 0.8631152447595386, 0.8021977775420123, 0.49043762179681627, 0.7424200167635773, 0.6899737094542971, 0.18122053670544847, 0.29078553271145235, 0.6580302505208498, 0.31883377978925276, 0.9700868753856201, 0.8476889971353686, 0.6450757368393775, 0.6680522805781657, 0.19526165418981556, 0.2742686759125684, 0.10594530473970354, 0.7489179653908501, 0.24500916990607668, 0.03589056518565259, 0.6673699567333489, 0.7767728350972026, 0.24835956047551255, 0.12649765917461075, 0.4317414246428496, 0.06534979521278295, 0.05491456227581193, 0.6624363984276139, 0.6221264083795943, 0.10538233371064121, 0.6616460943662338, 0.783938143534901, 0.9369502877089042, 0.5318169032632941, 0.3904868563551809, 0.49702154777004204, 0.17755729728463476, 0.8849177803454955, 0.9208539655964789, 0.21343794542700212, 0.356006822278239, 0.8658226904526831, 0.2493790872476641, 0.13326614066668097, 0.8958283554659158, 0.5672778086403092, 0.19460407306268546, 0.7782453858266213, 0.8249097671665843, 0.8194348872476157, 0.323670341307264, 0.0498024306561915, 0.41146462883419554, 0.4851362705472001, 0.460323094643745, 0.8506793244296522, 0.8175498799812655, 0.012237265353284732, 0.2565639061909921, 0.2399302089081703, 0.05196207029090327, 0.5837410942291636, 0.14958344232020926, 0.26862912202985223, 0.6992703776272278, 0.789228513758106, 0.7803133489144276, 0.9264172705103517, 0.5174405708287431, 0.8192269450904497, 0.738407688582179, 0.15998885012878383, 0.9906710442488948, 0.9557302854902834, 0.19150023519742765, 0.8584476393268757, 0.7222445681457604, 0.6808272579507126, 0.9377860828000948, 0.014657001474681297, 0.96722038510608, 0.20317544677601018, 0.1783238788983762, 0.6472783229728425, 0.2697433210954374, 0.8923298808147545, 0.3955213654190165, 0.7788474420390926, 0.6972482019962822, 0.5612655681391729, 0.6678511973793452, 0.8278136464594956, 0.43296652895480614, 0.2584311191996541, 0.7947315246564112, 0.8594366934849573, 0.03895085434564116, 0.2672404695448958, 0.6386047411025183, 0.01720491741440744, 0.08748390139481466, 0.35228554768519893, 0.1627753875579142, 0.2865791611303674, 0.12471082871983963, 0.08988116517585476, 0.9214554190632229, 0.6440639073043105, 0.5151855784935946, 0.6313995363319644, 0.18692679018962277, 0.5620473593518979, 0.15835580698048202, 0.39807248901178915, 0.3349250943952441, 0.21108312036025279, 0.03370030081217923, 0.6835477189280292, 0.6597307993532141, 0.8985343903668118, 0.9095611884621867, 0.16190475547713146, 0.7782951997507715, 0.09863817976467593, 0.5011711532437113, 0.7923571885238899, 0.3670364376641291, 0.6839267367879969, 0.7141973412847771, 0.8669457488691212, 0.05105852087233742, 0.5888330150358052, 0.7317482276105794, 0.34121647366398267, 0.2045795990683975, 0.604724392240932, 0.3084544695337055, 0.5674945474429309, 0.28379062631075436, 0.6261040301156675, 0.1484991671043715, 0.4611661993557973, 0.34811581338499875, 0.17519703537872733, 0.8364826022154095, 0.690645509137054, 0.8556498827981206, 0.8978841076086486, 0.1523981494430625, 0.13516276776044633, 0.015281276035525648, 0.9508339571728968, 0.6605485910398937, 0.5506647758613503, 0.7623619358872621, 0.4222708964110816, 0.09446247437744681, 0.27088263608314456, 0.9899142907886012, 0.45052918184160795, 0.28001695584016684, 0.741959722897746, 0.8423511201562796, 0.9280918408879715, 0.09976630976751055, 0.30102501426288053, 0.6516841068647895, 0.6170280019465236, 0.08196911145093666, 0.5954162082202212, 0.7989297794185025, 0.1591695411906665, 0.24595040583194794, 0.23055169861666536, 0.0746549090830061, 0.3346231515480734, 0.7004024049258147, 0.871435314001539, 0.646993132080148, 0.9073115234013551, 0.013843345452201894, 0.9688095978143276, 0.1816608340302892, 0.45960220447073463, 0.4042940090778919, 0.8098239620309728, 0.46707159290847444, 0.8265301962412421, 0.2574195034522966, 0.21276074050926397, 0.3069334697602232, 0.9769656313603836, 0.48899825910335737, 0.46262305456455155, 0.9054494457820583, 0.6542918131051169, 0.4535796119675939, 0.7319197161313573, 0.9028568167220596, 0.8692476511164924, 0.12269357953512083, 0.4241338093128819, 0.8181182101597653, 0.7378354194424479, 0.11843571200918068, 0.6910939511675569, 0.8756298726191747, 0.40286068648315454, 0.3957822947405719, 0.363946074810776, 0.5432615480455718, 0.43380434443894333, 0.6196220218826656, 0.6641125522153031, 0.342486447781024, 0.19289121658754305, 0.996326405546167, 0.10901057644563528, 0.7684690819220257, 0.8036573147388418, 0.7510347831251754, 0.1158028903501972, 0.13901020618710835, 0.499648988416704, 0.4744732535467352, 0.803783286592531, 0.03278435487007614, 0.8277218484527422, 0.3505484724648864, 0.5797628700342791, 0.45186132455014716, 0.41468913730450685, 0.06257955598815956, 0.8156068894303957, 0.1917545115984709, 0.2918110982526505, 0.6733613998624691, 0.9048558681237822, 0.9822977946912397, 0.22069419715379224, 0.36464055046924215, 0.08289023869806422, 0.022424662456933198, 0.8954128692540312, 0.976197192470986, 0.16229936625856423, 0.2686315531050848, 0.9971968742641223, 0.20429254666932062, 0.23532548741356962, 0.7253438425667681, 0.6394255195447682, 0.793905517454013, 0.3630362352581361, 0.7060404417414989, 0.07140921867857208, 0.6163164232182806, 0.16838071842560143, 0.10047532632679002, 0.5370646824210836, 0.7980304012042532, 0.2815399401561237, 0.5761313271752208, 0.5913987821655785, 0.7807360292746273, 0.8546019343616382, 0.3250104494050696, 0.5467066517206872, 0.9716837219978783, 0.0007280433497491856, 0.6400194031058618, 0.9934320588865938, 0.21644228837813773, 0.1664292285543325, 0.4559056151353388, 0.8365899052189048, 0.9577244365231111, 0.5080865137504568, 0.2496829290724315, 0.7854015107923316, 0.8383251841142444, 0.5084421358325146, 0.7397457936386661, 0.47681665820880226, 0.7979615704641471, 0.09330448683671377, 0.8341749098122935, 0.10276578598591624, 0.19262546127217806, 0.45942903841997973, 0.9897680742864772, 0.28130169214825407, 0.7923069515162913, 0.7975142434822594, 0.09659672779635653, 0.2784194855468244, 0.7952376560052945, 0.9601523702312024, 0.3006646405286184, 0.4042112377214059, 0.5180260214721115, 0.40864517664367994, 0.22230242990706284, 0.45161290378857666, 0.8720282607938415, 0.9011850293774537, 0.7591537757646877, 0.7843599367296958, 0.9239055338871252, 0.7486996157075103, 0.31721280209964786, 0.5133694673945256, 0.7007372262037396, 0.45090308632373544, 0.7681097785968537, 0.1074728267767554, 0.31031746290302875, 0.9245593328533211, 0.8409580198761335, 0.5041926777486821, 0.8474868023661036, 0.07428718812303803, 0.9819791880766943, 0.7253531819603052, 0.7841776134803147, 0.3435815464241613, 0.761001644615818, 0.4373187059788781, 0.7419530029445365, 0.09554130070734457, 0.47699573773655635, 0.8536753929999296, 0.4937239080433312, 0.8925758620850729, 0.26023070893137035, 0.9677164053520575, 0.07215264002742994, 0.23599075324924557, 0.2632595791800515, 0.03892445971887937, 0.2641133426646568, 0.3581986221655714, 0.8154770357582323, 0.7120172573420241, 0.6764484099400156, 0.833955364132209, 0.5449096001145642, 0.17558347357394088, 0.6476078585990078, 0.39882664727845885, 0.374502520587935, 0.20824636922973983, 0.32533034307190345, 0.20329541412333085, 0.6209444181621994, 0.41076707273135205, 0.7199101198634059, 0.8172417592808102, 0.0709899560055709, 0.3738610763092811, 0.08393265025965968, 0.49965252523690307, 0.9019722514434373, 0.5676934270533393, 0.0414780836584725, 0.5206458586912601, 0.2875106557019951, 0.5175492823643997, 0.36629072620674774, 0.24426288511483008, 0.8077948248469166, 0.5620825133950271, 0.11080346458090307, 0.40984551081001364, 0.2594927910381706, 0.8977555279365073, 0.68286249111292, 0.21257333676110157, 0.8978428610312623, 0.39934484811861304, 0.6348040336250456, 0.5304257591731909, 0.19872521546078237, 0.33528347874251785, 0.7053799428359647, 0.8116767308691758, 0.5061044980636873, 0.11011716414348616, 0.41389575887095376, 0.4170129392344665, 0.010097552209696437, 0.7758535218724971, 0.36039675521226344, 0.41978775825480175, 0.6475931912270761, 0.6264880665488505, 0.7886722318833501, 0.9337244663784552, 0.679963026878142, 0.22568294700150526, 0.8036926862277353, 0.5838212352900415, 0.15056690639720538, 0.46326748232210857, 0.6052923736329061, 0.46124758278150646, 0.7303708133242579, 0.09312164457524852, 0.832663179405872, 0.549105566492013, 0.04128186659331168, 0.3840034472510453, 0.5675560082157776, 0.39150824652064575, 0.7514028247380429, 0.12845956318355678, 0.9093107047750777, 0.7209192046694175, 0.06745935999859731, 0.885674517652319, 0.8124672877988284, 0.21965582718381382, 0.17190798407921393, 0.3913138419158464, 0.49720010373474754, 0.05148856289419135, 0.8196688594662532, 0.878578956402514, 0.9489904080136233, 0.49389085534053556, 0.06365328648042146, 0.22369972369091695, 0.17414893089190198, 0.09291805923267737, 0.19144644345176565, 0.7095595717121664, 0.25372452305314086, 0.07291937673028381, 0.368220053149381, 0.5985775208750076, 0.7256939468721358, 0.29357027747148245, 0.9953525730037334, 0.24256946547386438, 0.8203304928866966, 0.952012902149528, 0.7815523140323846, 0.8207655716248728, 0.8498650485698596, 0.8143606847702274, 0.3440143805253403, 0.26533005902166773, 0.5934715529964711, 0.33809841121718165, 0.28158890360175826, 0.16360827823527313, 0.7507843084168883, 0.028597467549991484, 0.695936528304512, 0.42475621617078085, 0.49242220675375403, 0.822440604534611, 0.026325737156475904, 0.551060384551151, 0.9920420692523436, 0.7573779146875923, 0.08719995790053403, 0.8091486863794428, 0.7105502302147095, 0.5620993894354388, 0.5101746549711673, 0.7421480502804683, 0.3851134415133993, 0.6858272332391344, 0.14425608434900217, 0.06300486189201404, 0.8302841805447447, 0.33651451416324907, 0.4990902060844129, 0.5110794213930538, 0.8855682599630332, 0.8522786829618424, 0.9217861555438489, 0.2696019733099202, 0.19456604023317592, 0.24469830455911945, 0.7596836362045069, 0.3675650017699139, 0.8041643430604946, 0.8563985956104121, 0.4680847435338895, 0.40966994365686216, 0.49012810767397164, 0.437355492501863, 0.5874816321017791, 0.30260072839308705, 0.6096990861585169, 0.8996757523025503, 0.3092658136314236, 0.5098687213693283, 0.4341560946196177, 0.12915827960678494, 0.622646279771262, 0.6095804803837052, 0.7366312228393821, 0.7904634766919786, 0.3926139515205058, 0.0738656015378848, 0.5601487987193458, 0.7433425582959692, 0.9567233290729407, 0.13938450096896793, 0.4517525693490889, 0.28670839586089825, 0.16746626711895396, 0.4061144820687522, 0.6443120577190024, 0.9635124206335238, 0.13845352067880046, 0.5795079707444888, 0.2515528431770139, 0.3988627453963135, 0.6930140912534442, 0.1307347700216127, 0.6085465628349086, 0.480730934635085, 0.45924293794744875, 0.9644461250346056, 0.7439650211700616, 0.5341774297674331, 0.9795473391955809, 0.8514336877018649, 0.4344375500803167, 0.8602666331304636, 0.9767547021335546, 0.5664494931622157, 0.711097829095303, 0.01976980878976975, 0.6440459388764526, 0.5114627208442203, 0.5300187885730249, 0.48373765511553524, 0.4043815808766609, 0.19199398342425178, 0.867745662593589, 0.3601301167826356, 0.43501376478124665, 0.3465936386309134, 0.20913301436431742, 0.92496783401337, 0.9735765812602546, 0.22183059791005388, 0.9712328798319316, 0.5179807303839067, 0.17176084828991467, 0.9164062723473295, 0.20648973847578211, 0.13797431594145637, 0.07428889963809537, 0.5801557611583775, 0.7916456156234347, 0.13351110389553966, 0.7786794103024345, 0.2393831367356566, 0.6778222148557655, 0.4606222901652376, 0.17746698142113915, 0.17709585698758323, 0.8156484891330895, 0.3156290808277895, 0.552933638340542, 0.43648184702403625, 0.7384321429846621, 0.6690986571699821, 0.18376571330458824, 0.7087731303097691, 0.7972051335319444, 0.74151298985346, 0.3232141485334016, 0.6729351063929443, 0.2932606017408729, 0.5110664650281785, 0.759642881334815, 0.7104353718887908, 0.4835046984978283, 0.6335852233875818, 0.6668076431957137, 0.8117744301126305, 0.655839741665577, 0.4366633121036788, 0.6128419886012132, 0.4941406592642944, 0.5610529817521213, 0.7567143435905929, 0.4564078597580554, 0.12196749492804249, 0.6620236245233851, 0.7509680877520419, 0.8350500789670929, 0.9456599987913148, 0.10081128755877422, 0.6880002075796171, 0.4782454914508476, 0.46739869967929726, 0.6155033683731633, 0.6258657050145053, 0.5277195479947757, 0.7376782379223044, 0.9342977333588695, 0.1400624619962123, 0.3471648563012404, 0.4527484662299691, 0.29732234492238674, 0.5797319631927955, 0.3688082414989322, 0.017497642104929767, 0.5569740912638605, 0.20149602246513465, 0.6200591374544132, 0.23276976378036096, 0.39040644799268487, 0.18163670826354217, 0.10103183612423838, 0.3690801585526552, 0.8526658881722387, 0.6343564940074711, 0.004963951686036028, 0.07216638216441595, 0.3139830766875853, 0.24141403936377015, 0.43086356884585575, 0.03272966905665908, 0.020955420062783947, 0.08054507170792258, 0.6850880564344651, 0.43674730814586615, 0.6245787422284765, 0.022290867476717713, 0.35434430039031295, 0.6954122397478825, 0.6235126653284685, 0.4242157052425132, 0.11460035167956295, 0.8849636966151123, 0.4878753608771562, 0.07512754292046853, 0.9362885048833981, 0.7620953471256395, 0.27644228853521924, 0.4278234143067725, 0.05518311649549923, 0.17437695944696618, 0.15164293237535553, 0.2834818215568552, 0.34501626374193484, 0.7917855216208561, 0.46819187151681274, 0.33202618872493905, 0.3144691286795587, 0.0754475004786821, 0.4317755159209762, 0.8014731232085387, 0.4224496691762363, 0.6918135593813646, 0.5679869451794962, 0.8576776699785704, 0.7237902601910025, 0.8445219535494662, 0.2824158397590322, 0.9396100662952418, 0.3873611848366144, 0.023159553154456725, 0.2669786660638953, 0.005972683709202009, 0.47525742864134946, 0.6857600390526716, 0.8016667790184484, 0.8860945452252286, 0.49946564204876764, 0.4079719419796378, 0.893184716992902, 0.9682847473371679, 0.20025212273432547, 0.9067708643017438, 0.5112008310183591, 0.9239826609689488, 0.7986148313256035, 0.7720953625870077, 0.4497335731873795, 0.14545291084722234, 0.504827667218247, 0.591931811930815, 0.6102485127810957, 0.028052139236323548, 0.4301485640211148, 0.34397633809535444, 0.32440441697509825, 0.5989736768979158, 0.5797793877721685, 0.23414240165319256, 0.2368777473492628, 0.17649241521155157, 0.6614228121750033, 0.6138440250266395, 0.6804158915326994, 0.4993913192555226, 0.5884949584156256, 0.5829575967865038, 0.25598886984993896, 0.32024259238072594, 0.5486892789905439, 0.6743331884674337, 0.4069531743973498, 0.0994163457774041, 0.46010272679620257, 0.2862802780601139, 0.4999923528235881, 0.9516173745215063, 0.12279051118090989, 0.4710254849424802, 0.24056570767083207, 0.20635504469786925, 0.8228825165470139, 0.15858871946874298, 0.7950820658254362, 0.7381900885902516, 0.8537804364100665, 0.2496988720931329, 0.5224329924530028, 0.5871088927935404, 0.4654520493199803, 0.9552623641535544, 0.9068607550162554, 0.13712098306069698, 0.33756400142973775, 0.5743199025845891, 0.2052805456988086, 0.49645798475555414, 0.44611929600176514, 0.01616605318286135, 0.7976868783191252, 0.39882297320829774, 0.6475215242121101, 0.0778555618046316, 0.17452452517977968, 0.5052224366635335, 0.1257795084667218, 0.8099412919984096, 0.9573403850109686, 0.4187606316273055, 0.09046088613727743, 0.5584125195547371, 0.7750873504654101, 0.3841921943626657, 0.9828166492291607, 0.5097631916741396, 0.3520096276825637, 0.6780299396973596, 0.08648888576712632, 0.2268092521643793, 0.9690854377349475, 0.3706741589544371, 0.14047109346190745, 0.9204687064505992, 0.28055603208376423, 0.31944021439114767, 0.85888816688257, 0.20410658253882774, 0.6526769859286367, 0.7302450554933072, 0.4607411804942434, 0.8408341720652887, 0.025206639898747718, 0.7957530366655696, 0.9909338029285368, 0.08775360899245432, 0.6497565850581041, 0.19988171854193415, 0.6185211712188101, 0.8796703165695888, 0.6055887800656771, 0.16670653625068077, 0.1918193268864279, 0.35471914701975293, 0.9160150250594405, 0.13595278809422606, 0.11476479247542182, 0.4366248760430278, 0.8423273540883354, 0.8365270328252328, 0.021748106394798294, 0.36044040647357145, 0.2656713504419753, 0.7472911975614518, 0.42204255138907787, 0.8443901518223897, 0.5426621041546991, 0.4382325685427809, 0.3655728441828322, 0.5187622155435008, 0.780667842436208, 0.6450533710837946, 0.47508922912846097, 0.27988820788937985, 0.33375998042484667, 0.872452817601217, 0.2488489212610413, 0.8278907318754569, 0.6860538068152592, 0.8533932575419246, 0.13768589212617988, 0.8909504496771751, 0.3321359908892817, 0.6103127447523653, 0.7102922033369669, 0.9082708084061109, 0.45870784176246804, 0.2195649721976891, 0.7279643155837944, 0.36803665188309176, 0.7400831300177628, 0.5089034200841877, 0.11218731915331559, 0.13786262729389853, 0.6805873436263933, 0.17424625931150217, 0.3955398895252167, 0.7699181325503098, 0.30875118844347926, 0.3750781453032571, 0.18121486510834217, 0.39385092670945476, 0.5455522341951105, 0.7900646794268532, 0.7482008132825512, 0.840745736338158, 0.4719722574037396, 0.9439687935755356, 0.6937671066403224, 0.0007832872478787944, 0.8739933024801868, 0.16953586307666957, 0.3128760181425456, 0.43405915618211355, 0.3324268158349851, 0.5720513899580467, 0.003412409994971499, 0.048595109701876193, 0.1008921360389583, 0.4920281996112039, 0.690056700904004, 0.6278059083962748, 0.9276993598742828, 0.4357421204607308, 0.7895359109999333, 0.9744613746171314, 0.08727602930190459, 0.09569744921759216, 0.8654648566085064, 0.04390744774615951, 0.20466131394834575, 0.2221206293727982, 0.9334345197865723, 0.025388384839329814, 0.22369436672448484, 0.013735927872787546, 0.11443739714649559, 0.048369699752931816, 0.18978093132512464, 0.3986243182995577, 0.1330681041501417, 0.22487767546001658, 0.2803197203096448, 0.4131076701769981, 0.4592142618257524, 0.24997158205074876, 0.6602979939754617, 0.2858922756876552, 0.6420170525212998, 0.23113939252446536, 0.3708485542578893, 0.6393339828944719, 0.38330903379409653, 0.20116527863067046, 0.4826651817263551, 0.7101439563008903, 0.6533180488081279, 0.33687730369644375, 0.4825475169800656, 0.831316868886369, 0.4680386189624013, 0.9165547536681542, 0.7356716035920555, 0.5176211184171019, 0.647424913677807, 0.041318112947989816, 0.317297409064473, 0.455075638441516, 0.24557826022379836, 0.692432773827051, 0.6901661524373627, 0.9076655719196428, 0.6992137930926872, 0.23387129323144096, 0.46629572837927935, 0.4665579453184814, 0.05245487223511924, 0.8399284287277651, 0.8750630610531946, 0.3084133120945558, 0.5977115000123817, 0.5168033506471704, 0.4105989467913086, 0.8624628162908031, 0.9901894100252023, 0.5840179921104811, 0.2507418482293112, 0.4824779408625861, 0.9144298547826147, 0.7595155867154396, 0.004811251375137382, 0.9159816692065804, 0.2220004600417862, 0.6939554022868798, 0.6418987993646744, 0.8188326105046354, 0.5290911295608198, 0.20783264593593898, 0.8862531756794771, 0.3485620986562551, 0.13943051346168311, 0.3902059747404534, 0.6124080498807338, 0.534575430647186, 0.5558089221366892, 0.3949870143638917, 0.592324284564695, 0.9396516769224832, 0.7509004428485277, 0.5888370020402637, 0.5460369578269314, 0.18344286072703464, 0.8327808417201835, 0.07618007477553501, 0.2660689134325298, 0.2774444124185893, 0.8925244780574314, 0.4011086021233068, 0.5823699811497951, 0.9758559201005488, 0.9200955510289235, 0.9053848266542525, 0.6062927737463777, 0.10992004600844696, 0.9313952754729085, 0.5919079429354793, 0.37574923698672213, 0.6944460002785056, 0.07414949784046021, 0.2571909568073294, 0.23974198682830083, 0.10283526162378864, 0.8591699344871769, 0.47349921244822424, 0.8576857851379196, 0.750384645431052, 0.2601290296371276, 0.5493173117091428, 0.3851031267310515, 0.7337908301201385, 0.9180862828452129, 0.9155144108458931, 0.6301112683538488, 0.841155534729223, 0.4189577597499068, 0.10217843568817431, 0.36096073776025095, 0.6270993867616028, 0.1778747291896441, 0.3851495849533402, 0.3832948043634261, 0.564129582880892, 0.10466205634684012, 0.44358789310740443, 0.8235216566340041, 0.46029760505666306, 0.9813891659605549, 0.5753934857606915, 0.26397071638634806, 0.7654170692631541, 0.6941197128159075, 0.7905573996322832, 0.09919847041868957, 0.11253818762094936, 0.25216524119757255, 0.2823718856318064, 0.1424770189999206, 0.1759899952815861, 0.24858618255320675, 0.9130330896271482, 0.11729588675379743, 0.7143981008015599, 0.6338804459120975, 0.11362421320052307, 0.8794769954530216, 0.8407903041772783, 0.19424797542001881, 0.7754729555652233, 0.2305923503551931, 0.7353774643945655, 0.4447961000908226, 0.7748587813569048, 0.5532597239780652, 0.8677021534459087, 0.9176036033415326, 0.4120339741172223, 0.7181193114383386, 0.9870843801504655, 0.5855685165342002, 0.943488941841528, 0.6391847030939111, 0.4541195971750367, 0.46646972566686695, 0.412219315680888, 0.13521711677548343, 0.04110426384771759, 0.6867366744279111, 0.7438440823971658, 0.7615187442991731, 0.5972594380975503, 0.34180680084283843, 0.8168052672485119, 0.8228422124805416, 0.3321282387593264, 0.6352882306583708, 0.253213162362694, 0.3745604661363935, 0.5943943792391173, 0.13965027806831043, 0.6399890894884627, 0.32372844272999646, 0.984554119452208, 0.6586380569762749, 0.8814352585431635, 0.6191802674095002, 0.17063515692983988, 0.10268233726175913, 0.006828810183895695, 0.7799518586587612, 0.996472145694317, 0.7496297425910454, 0.9568211352503283, 0.5571920413093948, 0.42181259008892247, 0.9335642982561322, 0.40295565238899356, 0.48038960942448217, 0.9478763001023843, 0.23464972210819313, 0.31064908658206136, 0.400298175513935, 0.6526136435811662, 0.9470561815994336, 0.6714752382019481, 0.8434280556336762, 0.8810453079836011, 0.6886426499936624, 0.8742804996338689, 0.9222192974539569, 0.3222631792487538, 0.331595676384301, 0.20599478816236494, 0.697704344761249, 0.42842790290251076, 0.12246121201321747, 0.5747621473574406, 0.5414813231382247, 0.8833179270964736, 0.03051550678894177, 0.53888635093545, 0.855043434856138, 0.9406809669419387, 0.7393219659144803, 0.9101540318358422, 0.5894678974733318, 0.49417452426797426, 0.9425725699937048, 0.3822357218736405, 0.8371566601550797, 0.4994058494392588, 0.5872031669761442, 0.38203343634513554, 0.6549899412353637, 0.0867194252277993, 0.4285262346957013, 0.4611567741537178, 0.01902702372577969, 0.3606103667117274, 0.7200648422604727, 0.6594626237380317, 0.2217870064764439, 0.30774311841302693, 0.6653256126115745, 0.28028261651497666, 0.24801345863773583, 0.884795834821521, 0.1003089835521408, 0.5468310771901383, 0.5658197738741193, 0.6324479988849312, 0.37969924416896317, 0.3672639632008423, 0.8470053253209225, 0.08362837411282897, 0.37087720188729223, 0.6693926271002919, 0.35879748671946377, 0.11057533326407176, 0.8943416231838741, 0.9877579899522315, 0.5571984564419116, 0.23257595232576223, 0.8728640138450051, 0.21001578094703066, 0.059943224572511666, 0.4614652387831908, 0.16089072291287887, 0.028742282709768197, 0.7022726892491248, 0.13046769723171125, 0.18761624487999318, 0.7718418700968303, 0.4558058272798736, 0.2902837971666059, 0.1902744914096759, 0.7481611399645407, 0.04959577988501018, 0.1171146078379719, 0.48115958652877266, 0.3245308812171136, 0.8907876950954322, 0.809809572341876, 0.12714703012274797, 0.785882149731792, 0.9104916971294023, 0.6227155539222978, 0.7335659680039295, 0.8012707246513568, 0.4230765451700774, 0.05590307601042499, 0.8172187276258941, 0.39358689296757354, 0.8347380996638804, 0.32717976987230957, 0.5062121621905717, 0.6946631351736503, 0.9221572358507076, 0.2978024291150678, 0.28095087203377, 0.017178589949365053, 0.03497674826034025, 0.32144287705509533, 0.276357594183937, 0.46958759144318074, 0.6748864827400674, 0.1901031592535023, 0.27707408211208895, 0.6821503123569125, 0.6559927941070756, 0.7283011922565736, 0.40907786770081456, 0.9828529973054407, 0.8107313505888316, 0.4551904587761433, 0.8847214758716024, 0.33986473560496755, 0.2885338670649983, 0.9575816174126068, 0.8348158492292105, 0.9825128166398803, 0.8819175072043987, 0.5164796880737981, 0.7524496422194572, 0.8952891348637351, 0.19706250292659278, 0.6991943829470799, 0.005604566649413223, 0.12263601739856289, 0.2813869210041887, 0.5794692055587052, 0.6094639920446216, 0.6087471721441984, 0.6169376549519042, 0.20582756424695325, 0.8450059558286853, 0.3315946404552227, 0.513117109901222, 0.4470073848535796, 0.378839370324935, 0.8485885456110311, 0.02317398833407336, 0.8988597190285156, 0.5456982824583634, 0.37063490772908325, 0.8222933080100312, 0.48599253910386375, 0.2211868674430616, 0.04131639228415618, 0.5953750453418017, 0.24104380961865202, 0.03755501117511373, 0.6855408682681078, 0.11208457853519671, 0.5670179852824978, 0.9472379619016552, 0.6556583535142235, 0.9756854208903575, 0.9266067882642222, 0.13755486965824004, 0.467431534739324, 0.2885861368931314, 0.5651312919156062, 0.4174757077863215, 0.34479357314306536, 0.6945257784345195, 0.7216104501449356, 0.7902573660004407, 0.3502234851942675, 0.15630062430118485, 0.37992033039068074, 0.054407832488083896, 0.8086076665095256, 0.5871103282834667, 0.30811090164677146, 0.36194401171031987, 0.4297069146262148, 0.8787022879893681, 0.3143752763192804, 0.19366024882778432, 0.5305942497079048, 0.17462601511610032, 0.023707656521145704, 0.37315223073331183, 0.970643418602502, 0.4438148221323792, 0.49609294017696504, 0.5355552662999472, 0.4286183601401674, 0.1473484510812908, 0.7100624499950126, 0.509747627085768, 0.2743319479870444, 0.8863245626667924, 0.2929434543652234, 0.46856757687776984, 0.24276739293111083, 0.19418188411777781, 0.8644251413498081, 0.1490892475839094, 0.6658983865824778, 0.8100286339703804, 0.6402275232697672, 0.23282879094556652, 0.5431856806292032, 0.053165551519730014, 0.7846253412766073, 0.5146815112954825, 0.24589998055393747, 0.7867639072162825, 0.46186546231955383, 0.5631837967105621, 0.7763663868753071, 0.012711165383971434, 0.19425861655119558, 0.2406039143226828, 0.17547713874845228, 0.260794896173956, 0.6957873844653821, 0.31158177557964983, 0.8070864720370466, 0.45718538828939337, 0.684907762744435, 0.6225520174037874, 0.1583893658263099, 0.4625389477706562, 0.09351959819735978, 0.8253859353530726, 0.9737084103461889, 0.15363575546008723, 0.4518274765188559, 0.10863550085674711, 0.45558600520847603, 0.7383940258058352, 0.5047562409151499, 0.4532325838410777, 0.7691634195289798, 0.46181662450171324, 0.16284162026689408, 0.9851585904879188, 0.020880695702429453, 0.7692621043111896, 0.2713622633087699, 0.23556243198832183, 0.194684516177139, 0.41763744246879553, 0.042517291715694516, 0.3686831276035203, 0.64685005782064, 0.3660750323767892, 0.7852920831199407, 0.06907143571482521, 0.5135183937094855, 0.4285073029768278, 0.9935607172090846, 0.24671257380276357, 0.1610190668218402, 0.46005396111689645, 0.38867593158897806, 0.42509922074049755, 0.7972327139599201, 0.3261481465288184, 0.4416343790673283, 0.10027274230884486, 0.2691412304453549, 0.46993334941908893, 0.5921743557719301, 0.29868393280541194, 0.6259859290421169, 0.03450053333815084, 0.7643763739197789, 0.4875709503106994, 0.9094537969653237, 0.21962467853149548, 0.2611490857021299, 0.9032611802973605, 0.3557774614356005, 0.20958605199141878, 0.9053971295670226, 0.06330486078189335, 0.013491874887322508, 0.7975965664237268, 0.9780066692442981, 0.7607250004303503, 0.19073675837184656, 0.9926181101917637, 0.790532772767222, 0.05671452181745806, 0.11631224921566252, 0.7990986780547017, 0.4833329945485818, 0.6110184866594672, 0.1550245095464482, 0.38192345035340236, 0.3547341141133843, 0.709996162318371, 0.25531137705084916, 0.9742605060092328, 0.6284806217736306, 0.29700787183000854, 0.985351771818957, 0.6769116597318077, 0.4207139549282468, 0.7456913208235616, 0.5949807589508028, 0.0672666432708019, 0.03954591959529452, 0.021749595333745098, 0.6404616005854378, 0.9858737380501946, 0.2844197793712182, 0.29804862718969727, 0.22086887219860585, 0.2381138875899793, 0.49622849306856986, 0.8478563467019123, 0.085917631164803, 0.7725808760232638, 0.8089040264033092, 0.1330213606783054, 0.7093536450545411, 0.28618387990518224, 0.29013302758785053, 0.6767234236820012, 0.01551026523163368, 0.8119980985192577, 0.3190956275191842, 0.32219310663142253, 0.8970631678260146, 0.38205714668410873, 0.24867655616952244, 0.9219029662498301, 0.7607533471398519, 0.48843139383845335, 0.8158261730391871, 0.9667072161795444, 0.8317010994022029, 0.8785054646219183, 0.23933278798861823, 0.7361689108399107, 0.38397829277969, 0.7602139725129955, 0.15322320968616, 0.6463327345326018, 0.17995059794416401, 0.8565297280850558, 0.3715034581607045, 0.29597083649231526, 0.08376024593688158, 0.011461144360958353, 0.9739131077303513, 0.09153574321311875, 0.11643326551520339, 0.48648680218152063, 0.5625753047994895, 0.8435901978143112, 0.9141440444431282, 0.9247071806069155, 0.17896391214390273, 0.6436866720977753, 0.9540980354380239, 0.3303041268181829, 0.25203157412363886, 0.432481061995322, 0.5829697727834338, 0.4515273799751782, 0.0011295178910448733, 0.3863615797492317, 0.8567862600497449, 0.2984065910043622, 0.7309613315515628, 0.9308114198219453, 0.4047349371667953, 0.048510522125332245, 0.6149758856981811, 0.267370465520539, 0.40560143726659137, 0.6479642878560744, 0.8904602423431776, 0.5271503523299828, 0.8676879159568638, 0.3072314156096725, 0.21907353703013643, 0.9781548484978112, 0.39404559175025144, 0.23132256758839465, 0.4140864725571035, 0.12580791046306672, 0.606270319241268, 0.17648723926455778, 0.8057557973543235, 0.5931174951717642, 0.71010541147482, 0.44471539160784457, 0.3641804899778538, 0.9590548719500689, 0.328420260270342, 0.8825683027273765, 0.01476269092002147, 0.03233073866979563, 0.23295794551644455, 0.8248489197222445, 0.2510669066124719, 0.8900816939212725, 0.6489172250555734, 0.037903925703544616, 0.0029158629831452787, 0.5918654492765106, 0.9784547458063484, 0.9218899915016924, 0.4061248747818561, 0.8891974939639672, 0.11587703676838812, 0.6913559192971389, 0.3696435443849193, 0.6773815509230317, 0.9866664747972231, 0.18217020280436547, 0.15883971147007014, 0.48334208797028677, 0.19592520854840823, 0.7656560455535943, 0.17923816058702258, 0.7921006890077094, 0.10772769169974084, 0.24247187460409247, 0.4738101246751949, 0.7004039942248594, 0.37030767021430766, 0.1747905462428474, 0.00844722303691936, 0.928738607375836, 0.833315283199135, 0.40680833124499205, 0.9312064786102994, 0.9883964262757855, 0.6508268079354418, 0.13672780936714646, 0.2684858245544587, 0.8704641175885097, 0.3432011812133191, 0.2558093262430996, 0.9912770628212197, 0.09556911886463482, 0.3969804557862563, 0.7598085537529438, 0.6910709754738087, 0.7452215015369118, 0.46892101933554686, 0.07252682171216496, 0.47032620765136834, 0.6139820348335254, 0.8029260417286014, 0.7674949517293478, 0.7792421910264027, 0.8170271475019796, 0.5777386466842133, 0.17754853439031237, 0.7357522868287554, 0.9575404319422074, 0.9795258041494819, 0.20073176460249953, 0.02076378336660789, 0.49435833704038323, 0.8005654205364996, 0.7638766837512672, 0.6415057798058008, 0.6013478008887079, 0.8303353517110701, 0.8923273550851879, 0.6036157741508177, 0.2665244886142534, 0.6933965362688536, 0.9524422059724038, 0.2514637610418231, 0.217731709902086, 0.19090372959263902, 0.4825565560507936, 0.8212410648464318, 0.1491944824304613, 0.6873963311717713, 0.9782237930248663, 0.6020306367170618, 0.985672917963145, 0.9701919219477659, 0.9433295695588046, 0.6316794694529958, 0.7833194917517048, 0.450266040160051, 0.18538910890997162, 0.11867190709616882, 0.10659584737415073, 0.9028428334044987, 0.6413982871061701, 0.6720017439328273, 0.8697688276564524, 0.07715560867231941, 0.2525324573000194, 0.6693736055455183, 0.15743830391194857, 0.6030060050098927, 0.3799917131467643, 0.7261331115911456, 0.3434051398743173, 0.5070320539451114, 0.04076364105878216, 0.20004575099575106, 0.21512238075940016, 0.9224061924028145, 0.4419737344168285, 0.8666239407030993, 0.2390365886471688, 0.5007305266272057, 0.4739877180927158, 0.05804524577253911, 0.19600495177716903, 0.20080582903477118, 0.8445730224051566, 0.49442265644327277, 0.7332317359952507, 0.8571254662874517, 0.847624857314589, 0.9847120288941753, 0.4378638978768856, 0.676057386606138, 0.3169211499154837, 0.750860253691519, 0.7849850450871719, 0.5987071757531851, 0.19690946041261925, 0.9633759721076828, 0.32815355456381834, 0.6737367722228987, 0.09179379923285436, 0.504504167696172, 0.9435132620002746, 0.38009548901816714, 0.22665130597033278, 0.20617024998668176, 0.20553622411124384, 0.26272880446689373, 0.934921633528381, 0.891675096109645, 0.5679065168599785, 0.3516898821126193, 0.4391989620753399, 0.5767061568054329, 0.6900301281152498, 0.7398210569405775, 0.362170478494952, 0.8473164600079008, 0.4958430144881022, 0.9508839464680416, 0.7930281718897678, 0.6543571111761145, 0.6367310093126172, 0.45722507349448005, 0.8692876714272928, 0.4422390555863015, 0.7844317740099241, 0.8036837687963698, 0.3572564486784695, 0.9349267077847437, 0.38758531223320414, 0.7323862595331333, 0.41545540563810845, 0.5558379728515073, 0.2900109726227271, 0.7375754231529573, 0.7557763339515907, 0.2729677750857471, 0.09699159676630309, 0.24990659238674295, 0.8078393786535284, 0.9257064032997295, 0.8659433863955793, 0.6558290366976971, 0.38676217110745814, 0.13268503951944477, 0.12614456422813647, 0.06887913432509707, 0.8788302885329513, 0.1079794666328292, 0.2443959958689752, 0.6681170156012198, 0.7557674176796114, 0.0746838615389861, 0.6441696914372861, 0.2437808173264462, 0.3961072212348604, 0.32307772588330386, 0.2854622775553065, 0.7423328009912046, 0.8840070158499983, 0.5949789443510578, 0.8385287137209871, 0.34109408593148993, 0.6701320064779382, 0.6359519281041321, 0.37308214731547173, 0.40560752212178675, 0.5527801969523503, 0.1849544182026085, 0.9296089694579163, 0.9512483496251729, 0.7006956283873232, 0.11020396662204524, 0.503088485995187, 0.1482254538057871, 0.2122956719221274, 0.7473085845788712, 0.610618387365545, 0.018228080674502656, 0.8675590273835005, 0.6062031158572175, 0.4990843698480707, 0.0780916779735612, 0.36901494796107626, 0.9252179019417793, 0.04641818175202361, 0.4473059153990625, 0.09365690734264753, 0.4752181654467933, 0.2968922056986987, 0.9126520168748157, 0.7457195184623794, 0.4454356901698423, 0.5187867257620895, 0.14274650299036828, 0.22612255056286434, 0.036601581862186205, 0.5578310237190823, 0.4199365642825488, 0.8299570085480711, 0.9207226688091366, 0.8774032960972726, 0.32875418370161336, 0.09045970122306102, 0.4715294640539569, 0.8235905551408536, 0.5544217869136854, 0.28795139973943773, 0.44573097187906197, 0.17225395746097605, 0.17735924165136618, 0.6780741343770489, 0.03664101499057859, 0.43268682135117476, 0.7554563445352859, 0.5875040542787603, 0.27548518575981207, 0.4283068349390793, 0.8051286296730811, 0.3661427516164607, 0.06040005171555185, 0.7500869926487892, 0.5629076264092991, 0.42176581267745206, 0.5570737757928053, 0.8879197424660625, 0.6582081855577214, 0.9641219055886374, 0.8209238425883755, 0.4305085471275212, 0.5263434425850337, 0.519349040254269, 0.4947842817136431, 0.5634126635403297, 0.634783078035944, 0.12616446902499778, 0.05753119313220334, 0.7715323311979108, 0.12329650561494421, 0.5527348210302221, 0.43204257156523806, 0.12539203268586263, 0.16998408832404377, 0.7528540366419415, 0.5620546532885012, 0.08953003432880913, 0.28664357631178694, 0.4273748763218367, 0.5003219923535316, 0.22074769566704144, 0.5177554195770284, 0.38469982274607906, 0.8131029511565906, 0.1868702224553367, 0.989628793834601, 0.20274582235579441, 0.03213688892984501, 0.8770818145507194, 0.7005031091016978, 0.07424237223216912, 0.8589489729895041, 0.2709845011274844, 0.5164370794847648, 0.03387685096421644, 0.329205354675848, 0.15213435168904177, 0.09767768066636207, 0.7805723478945019, 0.6451669186282664, 0.11487281221783752, 0.36849212084237715, 0.24336674477143205, 0.3825181598662728, 0.23134929459627707, 0.671297142739539, 0.7803873225243172, 0.35556085718873176, 0.3951533859369307, 0.18063047893404272, 0.11969968486350846, 0.56384860515336, 0.6162576110580288, 0.4260515165699652, 0.5139228623895239, 0.1474116603001595, 0.3546616044124612, 0.5951905440330163, 0.608465419926291, 0.14830804057852665, 0.6727666473251523, 0.8984416117937575, 0.3425135181396296, 0.904187725528041, 0.44946855544132225, 0.8895548139459779, 0.8404345311433988, 0.2444409041044231, 0.5887463361610217, 0.0418265361185759, 0.7898579449174677, 0.2410702216577013, 0.25835697393553514, 0.7224254399290796, 0.3255565438977992, 0.4136434733981239, 0.9086187248318636, 0.10882974488550246, 0.4767012974014053, 0.36606886304655895, 0.776673978654112, 0.06640023654219518, 0.4711637920819899, 0.8335138969508326, 0.8118537628619144, 0.903233748406789, 0.9082463839403087, 0.21675611697406238, 0.4232287782575139, 0.2397276846472487, 0.3919878394830839, 0.12450879720482921, 0.041199443566310445, 0.5385154856783625, 0.855840026986123, 0.3641129158616312, 0.6328169975668544, 0.6744933386502503, 0.03426868444820008, 0.021827947263970526, 0.019712623494413495, 0.07251641805047238, 0.3527177704588179, 0.8822786334612813, 0.719614589289195, 0.5383559929112143, 0.3806683402696741, 0.6031637487268531, 0.8368081955770925, 0.8479650970041407, 0.852616334654657, 0.5894775891899715, 0.14415706689809382, 0.7352053205343752, 0.42503515508027234, 0.09448371849720127, 0.005746542357013218, 0.42668881812388726, 0.938289314130933, 0.7118672997252878, 0.46515695265189394, 0.734410278381521, 0.3881802816075719, 0.960325451526313, 0.8035231137469434, 0.10219082505469179, 0.6768880889061035, 0.7616069103795255, 0.46290766544156503, 0.6680332363596962, 0.05591626153832108, 0.6576253102428842, 0.20038100943149173, 0.44709878160309957, 0.5951351224969958, 0.1150312402199507, 0.22875805395279936, 0.7409892082060218, 0.021687043681180573, 0.8084911604804919, 0.8554107759700431, 0.2916962216277297, 0.9190922775679241, 0.9503757068211773, 0.7553362191522323, 0.6702024940487452, 0.7864162595386147, 0.6461995253335765, 0.9537626343168449, 0.08692164789959633, 0.3420382829448697, 0.2860927310920798, 0.7518948235944897, 0.23411315447847403, 0.43270864493748273, 0.2748728347741073, 0.22942263875732538, 0.013153408664927202, 0.7148886745905524, 0.005292834740777019, 0.7081773240404485, 0.47999044767009047, 0.6298731994713769, 0.28395392660164887, 0.35938963201267093, 0.19431670456493855, 0.5604303072255702, 0.18952826728328187, 0.8328832102509856, 0.15755025585877946, 0.6001403520278955, 0.4353161038802704, 0.2398054017791268, 0.5808852420731575, 0.4015330038941687, 0.696628017782224, 0.5219447005880506, 0.38090096003999874, 0.1957211842539459, 0.4394081724679597, 0.933177322263798, 0.912756191096443, 0.8555412633940155, 0.1792624869200058, 0.5208632625269682, 0.28696229017179975, 0.45545690834371255, 0.26113353964108676, 0.5679346307972738, 0.6814286487088104, 0.593156055028749, 0.4508920182983033, 0.7960383866847276, 0.6136913037215899, 0.6229777414530072, 0.31040092625437765, 0.5785284297923761, 0.173641240254644, 0.2930943765357018, 0.8389817521226736, 0.9469954897994517, 0.29235131036416717, 0.41254116459371926, 0.3415083343978407, 0.3321838547058582, 0.11972314092440317, 0.7418040168184603, 0.8306308558763184, 0.5278809903752648, 0.4812354492153422, 0.4907333458071421, 0.43229269519823854, 0.9921413223199322, 0.15022960306739208, 0.6637452443173091, 0.5399324991240572, 0.042139133745154655, 0.6020802152361268, 0.046138210483480546, 0.9767340477320969, 0.3717499828309848, 0.501512550297612, 0.5338180782635219, 0.9973392586626859, 0.5952240503308966, 0.4803959741026206, 0.027836756330566037, 0.7475450893695804, 0.262843050917698, 0.17000069760634107, 0.18019080452576097, 0.08304097763852947, 0.1040363380489775, 0.12074073403563257, 0.058505968356004634, 0.9965968382146677, 0.5870084017820011, 0.8588527262838159, 0.27421325863250834, 0.7213161434082473, 0.9631690332178604, 0.14448755940632618, 0.8409557785211544, 0.0822115234647457, 0.2764189777441567, 0.5316281973952675, 0.974740119489065, 0.9948260941184887, 0.38824172711629445, 0.03331792907976239, 0.6040143428883221, 0.2913595690360701, 0.30763251527247504, 0.13424408186713133, 0.8395211196929754, 0.9613249922763716, 0.4131869007877105, 0.03770523853998886, 0.3523671601080356, 0.7192558512407745, 0.7668214437223392, 0.9386992522569408, 0.8437022367029923, 0.2371211932895012, 0.17778064135640037, 0.828591412289829, 0.49099614756927457, 0.3861324072123897, 0.21332795257014325, 0.19292129747236764, 0.2711030344451635, 0.3769929794701772, 0.037673785947509364, 0.7737722338006989, 0.2337329446154104, 0.9915374464955701, 0.2400649608341756, 0.2137762285290713, 0.37259334539204214, 0.42717008734364303, 0.7883199674399173, 0.6716307459672236, 0.9259407747145719, 0.5088779735955344, 0.10936818951684213, 0.8812198664961738, 0.23748022382980294, 0.6929353213285454, 0.40231812183205606, 0.7761998716883184, 0.6068841483318203, 0.1540436694885442, 0.9036278412394206, 0.2552144281265859, 0.025017106069860406, 0.37807438134564364, 0.3592936253753407, 0.6005860596163087, 0.36347819419823957, 0.4200565620032468, 0.4079086847913699, 0.2761374761618519, 0.03092167177389593, 0.8477656907477228, 0.29062299901542643, 0.6542791863246924, 0.47448021064132073, 0.09922444098883243, 0.304364402795576, 0.9639779317938922, 0.3383310384574293, 0.898571947434491, 0.46992926485854203, 0.7821968247912167, 0.9126642911369326, 0.6349179873519692, 0.681723391877149, 0.5744481827007312, 0.6932647241795591, 0.3951873361595798, 0.7447593754851309, 0.9846633724924768, 0.7763769916041254, 0.2975752504091945, 0.7970885084499613, 0.9334621650587773, 0.17432904347635803, 0.10305455110405037, 0.3647904671980866, 0.6754876594204758, 0.8499833332090578, 0.40313311443102484, 0.47722846453317347, 0.3870041043941299, 0.19175437913481042, 0.015566548371401145, 0.1931882604526317, 0.7604137656380633, 0.27273498691969855, 0.44789028738843073, 0.11758655621573677, 0.6021506869172237, 0.9211302285190174, 0.3316055233775297, 0.6346636170437663, 0.9222108606697257, 0.04687390869224439, 0.9492500594590932, 0.7471306281908939, 0.680044493087569, 0.8614454665155962, 0.7725881366989175, 0.987107631512749, 0.27020402387587983, 0.7529198434000497, 0.781754732190681, 0.3082889863811008, 0.7895779513467552, 0.08078432216728748, 0.8146513236892817, 0.46971139228216074, 0.6189353802472229, 0.41295319965989263, 0.22460881786605535, 0.9564246689962129, 0.44258176431560514, 0.9880874409187232, 0.29722306158277245, 0.12817022920129617, 0.9140441323874131, 0.42059466511869514, 0.22847830452364348, 0.4119610842514634, 0.7113366954089115, 0.19941396129632283, 0.641032762833745, 0.47289204861518586, 0.6759758887118974, 0.008718720084217146, 0.4655548667435955, 0.029484869033130634, 0.5939905152745156, 0.7327806189883668, 0.6509214035987446, 0.5469005091276443, 0.8837713630574862, 0.7893461088745999, 0.2743803158370257, 0.33246562321035134, 0.6228499895285661, 0.22259275100986287, 0.2493982087224207, 0.34030360487682587, 0.5634290663942182, 0.6690125292075392, 0.16590157806358818, 0.030598384148124325, 0.8331866576625622, 0.06267004634328122, 0.04461831306939246, 0.39984924073853767, 0.5714702316161419, 0.7909910970461895, 0.16510165510526154, 0.7679322964534806, 0.318758485345369, 0.689539906500289, 0.19116206882895648, 0.7763934819007634, 0.7433896157582688, 0.22800393372461492, 0.28418005779729083, 0.7997111407034376, 0.47281183886120715, 0.5347596762609461, 0.9734508391077668, 0.7929187931360065, 0.2982944687456719, 0.5731665272766528, 0.8080436258525333, 0.45358955089812913, 0.6720682725558319, 0.5060299743319066, 0.44443200397356897, 0.9236574826290647, 0.2801355378064325, 0.6616664512199184, 0.6152218277013728, 0.21058544457003758, 0.43426378340399663, 0.010909655932628048, 0.33107688949541236, 0.20221595292480443, 0.14328290077543893, 0.36258564070634547, 0.3889971027562128, 0.012491933489766849, 0.827223983628695, 0.6564126126884859, 0.2567083995795334, 0.0991125000629558, 0.3543650610836824, 0.8267432679471868, 0.5014815698090105, 0.8770669902088366, 0.22937592074354096, 0.8602378246116661, 0.7862373027624847, 0.979722787816797, 0.813712220979734, 0.3257307075212663, 0.04708893040783069, 0.5033173660783156, 0.5790411582300329, 0.26744430993680857, 0.2986709181411582, 0.01593691705910949, 0.47369040550650976, 0.47777128030381, 0.41059907705381327, 0.4657051065468053, 0.455488359689715, 0.4916685011603005, 0.6530036616567158, 0.6629860333864656, 0.37470635216121806, 0.9231068872272171, 0.288879620196251, 0.8892468340672477, 0.27372479484646106, 0.5084525077399834, 0.31525880841084075, 0.7248945046290102, 0.0864817002614412, 0.02926685674638252, 0.4656114714318915, 0.05462062518234678, 0.6269357637236574, 0.5953818308214862, 0.7927655154699697, 0.45597727537284716, 0.8681402332936986, 0.8699973980565971, 0.9663212221251822, 0.6501259364191676, 0.9673176340218109, 0.26308583455684653, 0.48383600436436214, 0.21733979250252722, 0.511381257738419, 0.7979841119671447, 0.16017731932311874, 0.4438578329015853, 0.6480750704056284, 0.781928480928972, 0.653970595810481, 0.5663835332610209, 0.5687454595401337, 0.135046270112141, 0.2468552857536953, 0.08531361657763425, 0.33766757751582377, 0.5562257488839044, 0.9348831815836737, 0.6541930397164413, 0.2973078794555247, 0.5722959873526157, 0.29970669457874377, 0.1859150661870339, 0.2782860083401706, 0.05025932883926776, 0.8788272107767934, 0.4237918802115884, 0.999151141972717, 0.9651568908315926, 0.069842819246701, 0.11180271572898204, 0.7288929986179961, 0.8420823454165433, 0.2920438599384061, 0.7077922654017884, 0.5161461192878866, 0.741421473779324, 0.8120411655269377, 0.7444594162991455, 0.4443430886614028, 0.0033111639554074257, 0.6528286864655087, 0.17416922591059547, 0.35933443081520167, 0.9383195741607478, 0.6203029958816592, 0.20084113746094223, 0.969490719538827, 0.5913410857290456, 0.6913443514965019, 0.5557987775844858, 0.6726817960235453, 0.6536633460250046, 0.2967501832222261, 0.8828787082044931, 0.4100836157793014, 0.14408871999494832, 0.14668225258187995, 0.6933172997286353, 0.7087809513640613, 0.8814780729337707, 0.48031842845956885, 0.5484570083450612, 0.2777796678628829, 0.9191301122335933, 0.3895662018122735, 0.8353160150775651, 0.13688685299957637, 0.7645124222987069, 0.7527841378691079, 0.6894371415622826, 0.1822703338365912, 0.13541493518168823, 0.8668596174976678, 0.6490737028693695, 0.1252871566907947, 0.6220402481295618, 0.9433877266115243, 0.42206251586668997, 0.12751525304951494, 0.02118955042763704, 0.5088164706703339, 0.6491175620066011, 0.060869056469380456, 0.8861481753090928, 0.575050950846351, 0.5104819242131287, 0.038440227725883735, 0.03264840156020277, 0.18057600037992494, 0.021499190611437013, 0.523835939766037, 0.903198372155097, 0.0752290815616774, 0.9283916105644384, 0.42831456276445456, 0.3135314407080234, 0.2310029290778448, 0.6863348061268555, 0.3202835158066979, 0.04808483471400704, 0.7405884523196336, 0.7310807898881576, 0.9487186150263888, 0.5492963551650961, 0.06525189962228417, 0.6103710607423283, 0.8223197762039585, 0.5242711198214939, 0.8007889701958153, 0.6814630642947904, 0.31276338036453144, 0.5808866824587087, 0.8034870996306315, 0.30238551461145646, 0.7478141180837382, 0.9793502401169609, 0.19875132107135574, 0.9768226600252914, 0.45317329277252194, 0.36646665005966594, 0.8211751093985001, 0.43037052813071064, 0.9999153263664422, 0.6455314951591193, 0.49106819224962683, 0.5906660820977604, 0.8126483461014574, 0.00042485843483830443, 0.7291699767329355, 0.47940173435814026, 0.8767248362522498, 0.6353222017112724, 0.295662369815461, 0.46962041078392913, 0.583039395722131, 0.10916912302543025, 0.24796170315156418, 0.6363974443507213, 0.6660082281626954, 0.9354205770467128, 0.09078480063278072, 0.9142648993968137, 0.6390678175742989, 0.3039184740033407, 0.4022797061741745, 0.7791726104810065, 0.5080290156844012, 0.02636619724269873, 0.41310111179794906, 0.5783046409168137, 0.29282624382679046, 0.48003652949187914, 0.1257268805227496, 0.1636762705329855, 0.36114715953854715, 0.23089866937326875, 0.47627152917139914, 0.7100076631778443, 0.11411050250661325, 0.5773703406417771, 0.9615852637069783, 0.4489451484594501, 0.11007452040608678, 0.9266192306570944, 0.30628156806668505, 0.9557190843182454, 0.5420458596242773, 0.23435722210137844, 0.8661854211096912, 0.6562277256226209, 0.22881953362133156, 0.09848844104557342, 0.3317908330200874, 0.12713843325349328, 0.7154881065035907, 0.9911093841422007, 0.38215226850041695, 0.16876729031737048, 0.33752611984979985, 0.032968424591059864, 0.10012965381924022, 0.6602913464848793, 0.5398051873393837, 0.16987130001558204, 0.0004230921453449721, 0.42780743795381904, 0.9099407445148199, 0.5224579586499906, 0.39238999775377026, 0.2822417518793986, 0.6408155061215521, 0.27393952571999636, 0.13952405468806117, 0.7595229617494312, 0.8097469529424357, 0.9819816234401848, 0.0903421203373993, 0.3330312321149498, 0.26001516698134697, 0.14302658403056812, 0.5561186607837003, 0.9135619467882997, 0.3503656364346388, 0.30634574538667925, 0.2627543718489813, 0.2088168885811036, 0.979399595739448, 0.8807335529065582, 0.9721651149037281, 0.018675661564527712, 0.12350360815583461, 0.6063284885758398, 0.008286929863098424, 0.11597775899745388, 0.1363305520443291, 0.05089050313225907, 0.4368714693763922, 0.35912891358256227, 0.7746311415830707, 0.7085058229820101, 0.3038424267448122, 0.3969095762630591, 0.2767557013319105, 0.9495702983130033, 0.5224234935116604, 0.35993089950853285, 0.5914382353293126, 0.6539370040231398, 0.7952597941468212, 0.94698167112255, 0.25975944379328064, 0.4491862415334822, 0.49486536898519295, 0.6069797728365904, 0.7999624365245899, 0.3355714731162299, 0.9040824540745713, 0.8276332650984156, 0.7684853590173137, 0.6759187090480809, 0.3630588900781333, 0.16024146054995925, 0.06047015645734799, 0.7196881583606373, 0.9389216648134425, 0.3965995784233699, 0.6417599168898527, 0.12449281045003069, 0.7921121932658712, 0.895548820240655, 0.05429267581579267, 0.860866717616672, 0.6025202868809085, 0.9493297884676747, 0.34855363682046847, 0.889941141518072, 0.615849116283748, 0.23788982703259598, 0.5951505542800343, 0.2967124416660841, 0.13913807400476996, 0.21351627608043977, 0.13940196134121274, 0.3536664908186462, 0.3259281419810357, 0.2093304771167256, 0.6714558283719928, 0.8960686898469074, 0.5838202969412728, 0.287727836652678, 0.07807742019377939, 0.0828996420072311, 0.6050232442339657, 0.7151720144877034, 0.20035698562802373, 0.28440200804865967, 0.6026125705547566, 0.3935982956986822, 0.08455137129053591, 0.9418077806082237, 0.12282743968328913, 0.5987978383106524, 0.4704756805830713, 0.1434388484204745, 0.18582844457133396, 0.3177884967371074, 0.7027954967613168, 0.287852283875086, 0.06688856856015402, 0.24785114186443957, 0.5217269352219747, 0.19662261436807282, 0.941506042288834, 0.28092243240679504, 0.6093361481888102, 0.7063832630172248, 0.40101654863073, 0.8752136804560176, 0.9928386009953042, 0.26510814207828537, 0.37095453569512304, 0.6053588116849377, 0.3311423617631115, 0.5446152888904262, 0.34825760038230735, 0.3250281519321211, 0.13986776520410305, 0.8778455201611691, 0.8158981901102226, 0.5316975374203329, 0.7829622367749058, 0.07004429140724, 0.9659940344781662, 0.5323593161379336, 0.5338703375148877, 0.37876393416791254, 0.20296225027994175, 0.1682963294566856, 0.8575628464661443, 0.619168454510678, 0.6149422316190772, 0.3101470187792482, 0.4234683426371787, 0.8192298473912376, 0.9833553298728621, 0.8065284609220125, 0.8754372808236832, 0.008212640226704093, 0.36884962623907924, 0.5786062410694951, 0.011357620449715222, 0.23117211825953743, 0.7039650823453015, 0.13215391679906974, 0.8701387509553505, 0.03531692190145619, 0.544945455737209, 0.8319972242046677, 0.22551109159030358, 0.23999332034465426, 0.33927094770359834, 0.2190101785919083, 0.46383641449605817, 0.4650048361324749, 0.8399139835372541, 0.809673441394111, 0.221330882273453, 0.7184555989496373, 0.3676069368997066, 0.573232873544331, 0.2748476006867664, 0.3060716443975794, 0.8934867185005629, 0.6790849605872146, 0.9213960108663208, 0.8428639263426139, 0.9625699084123055, 0.19612793720955934, 0.8789734849430393, 0.33960955730914155, 0.8892670858537124, 0.714702977857803, 0.677180313179459, 0.29843854690196514, 0.04473014711787293, 0.3856838707532916, 0.5543141177608046, 0.9361764510026214, 0.8295725274933177, 0.24483432145326112, 0.5146476126495858, 0.31255649893272885, 0.869371390298251, 0.046347963226919586, 0.3003549261841276, 0.250182803493481, 0.08590179345408921, 0.6231462298169739, 0.7212548218850597, 0.8694595928218953, 0.9453087821028756, 0.2648092285853868, 0.2204454055786932, 0.23044653733639664, 0.30196405556010897, 0.0010557952093626088, 0.3011073582611621, 0.08357833384318125, 0.1877230633761282, 0.02208700758267279, 0.485239860637492, 0.7612535074206911, 0.3938223099534347, 0.7049303486937842, 0.3104969371475137, 0.7693381353959373, 0.38648537291926677, 0.6222444754445434, 0.2816111902510742, 0.2367059081076297, 0.4147904838519435, 0.4586735369602041, 0.06775455372174444, 0.4611720060846498, 0.4467238993380511, 0.45004461658860906, 0.8785726807199863, 0.6954882412851222, 0.9821000176122797, 0.42666593640656325, 0.26506162464118044, 0.2850172666945465, 0.31035169565140686, 0.32699724839446753, 0.1738737185049145, 0.5870761541977123, 0.7631687637494289, 0.4574953373477939, 0.9461302692367002, 0.692635356849884, 0.7324279819695728, 0.43898020081931, 0.09518667054180507, 0.8319559950066411, 0.9548682506223013, 0.6642247018320866, 0.6916922167331724, 0.5853248834711997, 0.17844832605498584, 0.06354104091548307, 0.016090889739790004, 0.37972801600854644, 0.4230001147479141, 0.7474690380596667, 0.2113272624547088, 0.16163024926949643, 0.26408897362823547, 0.54187391371383, 0.02493626141708427, 0.4297947697932645, 0.7598390178604699, 0.6095393241756603, 0.6450600250706071, 0.9110240520593258, 0.14158489458260493, 0.6098861093971846, 0.32229909214529384, 0.6309983456690457, 0.6093477950019424, 0.3448936299047577, 0.517784904219196, 0.8789938782418483, 0.6589935480654028, 0.4560548695721188, 0.16894753181088107, 0.7219059688994698, 0.6794297210196398, 0.7342152925280389, 0.6587349284111328, 0.2876939263590652, 0.08678070995623799, 0.4396623099362842, 0.16516422065475167, 0.3162950948228893, 0.8024481166811405, 0.03656300745076946, 0.8910484126557362, 0.8561018600956731, 0.7440073768115886, 0.21939879720168998, 0.9559027505965543, 0.922099295722739, 0.7354892056839659, 0.43254554188257344, 0.4635341271925697, 0.019241377430357254, 0.7022116188895382, 0.9243332349365505, 0.25735005611070627, 0.08846653124809645, 0.08004583109213825, 0.36541008700086997, 0.6253935394392536, 0.9912036181419454, 0.04568833358491342, 0.3835861155411405, 0.2336570696889544, 0.7537899721629441, 0.5342432281601377, 0.2860958989999506, 0.9356881769597352, 0.9826536297998683, 0.7058720015413277, 0.6396168123531472, 0.22936535646821543, 0.8171975761964696, 0.7516659829964338, 0.3707962629576216, 0.5914775117043376, 0.861789136715802, 0.8074651222580143, 0.2295549171930269, 0.6147098925214011, 0.07553888294864441, 0.3478582467387691, 0.9693858926416914, 0.9345062171562777, 0.7508486519059437, 0.7830703001633069, 0.3522731432586189, 0.1028100639132612, 0.6842304046082244, 0.7096424407123249, 0.20109808472351953, 0.625642481529177, 0.6789979210807771, 0.9643637301627055, 0.3670143886906113, 0.9989566532008537, 0.5916694092293048, 0.5278409043951827, 0.5358859728737059, 0.09920604431774505, 0.37621598210161655, 0.10592119300095104, 0.6512327400949723, 0.8099091469572577, 0.6064787508112935, 0.14365311383690016, 0.9133977889425842, 0.008367051881124965, 0.9517625016883803, 0.8217576653479907, 0.923131604905927, 0.3017823405975343, 0.9873956403198688, 0.2399608309405351, 0.9944310440837569, 0.3729209002073083, 0.4747088600257705, 0.8777923358314211, 0.9642326459687716, 0.7051311477212205, 0.7347887627606559, 0.38002109946178764, 0.563607203141842, 0.26380736791032944, 0.6627444164280368, 0.7226655012210074, 0.9502809571639248, 0.21935944795119144, 0.683245698594698, 0.6142239218059674, 0.12691157807465492, 0.1922324066672193, 0.7668941262377773, 0.7803959337832578, 0.4976944310153294, 0.07016782689250978, 0.3389234469853524, 0.4983013639346864, 0.8293848456432013, 0.15817575363956593, 0.3884725675130949, 0.6701845266798293, 0.22923260057486927, 0.8917561204055273, 0.5842943646564293, 0.1720204942236877, 0.022025901858881536, 0.16299926729209668, 0.9185111460191212, 0.4272766917183033, 0.3905270328419479, 0.8241631589717386, 0.9079917469536011, 0.34384202013411, 0.5637512202907989, 0.7770250096214538, 0.12866863454585398, 0.02093479081040428, 0.6920129644460485, 0.6180617632800147, 0.46598765375426576, 0.5419122004343102, 0.6205512184666733, 0.9040576175104299, 0.8942681379853524, 0.8402215736869483, 0.6757535137413634, 0.7946184246541207, 0.859148983519612, 0.6245285604970908, 0.44449776036621746, 0.5506984658612541, 0.7402092821381595, 0.4246822891333366, 0.017168831498398318, 0.27572251843920226, 0.8956886210961013, 0.5628898050985605, 0.6435059521158861, 0.1970449573014582, 0.999733110232784, 0.06464504994620979, 0.34879270860660017, 0.7273685833002494, 0.2999777340254217, 0.695645723762153, 0.31916318635529317, 0.32532925658217626, 0.29135987015900144, 0.47452976361365273, 0.9255259631923357, 0.7874520035225273, 0.26775727062872146, 0.36832938214812516, 0.7899798872947901, 0.14649889165696028, 0.12481118690395199, 0.037365290741023016, 0.6758772905434087, 0.7456764275122418, 0.41632859063680605, 0.39913087044823947, 0.8335609414693188, 0.7342127108776755, 0.08470842296978587, 0.9780521860624469, 0.6250675275039523, 0.43009594531801965, 0.5284413227800957, 0.8148516342473083, 0.14031713380796906, 0.2282395392804002, 0.12615464145175614, 0.9339159886048405, 0.5121950347302401, 0.3248001255131643, 0.9748226320765894, 0.7099978885107786, 0.8702485905845442, 0.7934325040339135, 0.2325226102182767, 0.9930738902944597, 0.20142544946943797, 0.9306982451764392, 0.2953789519226434, 0.901261075185076, 0.6941009044662144, 0.0225262355894702, 0.6602362062873792, 0.45883975375207986, 0.48324822617348606, 0.6866482690443285, 0.40462663304316415, 0.11638323834483366, 0.46897586285245607, 0.46306079084960083, 0.1807747697972627, 0.6911752881764418, 0.9406006957133963, 0.5779718180854692, 0.008937096738701467, 0.8142458268384222, 0.4648507920927808, 0.2502054780578863, 0.08503918782064024, 0.6214083082170987, 0.34972692535915617, 0.5713355680893633, 0.8720051054542065, 0.017431944867040472, 0.34933865365210925, 0.19515453190269794, 0.3365659633917646, 0.9954274092058714, 0.5838625232924094, 0.5770917216486959, 0.6564703895730359, 0.5920927940500629, 0.11570800732462472, 0.39410485795510386, 0.48177652223661216, 0.8370993861771847, 0.15130774239809586, 0.7820921335436798, 0.7554367014383654, 0.12554854857794073, 0.1644654387684672, 0.255675107633728, 0.30818693488270665, 0.6332812123433378, 0.6849235468249941, 0.8892375675790285, 0.9808948191257363, 0.359370611571624, 0.8234818636553567, 0.8250537071515708, 0.2802780199083157, 0.21886193830074985, 0.32416983496029994, 0.9538281287453736, 0.765763604578964, 0.456585971717539, 0.2204804855896355, 0.2737283280483348, 0.5421366664209882, 0.924369879323328, 0.27810589961637355, 0.9584989504453698, 0.21379284677091182, 0.23362373212421872, 0.7179881201009813, 0.615195586907155, 0.4777230231176197, 0.754653173781321, 0.451220367229778, 0.6183405270369772, 0.6614659492339133, 0.2766064899192586, 0.587010667879293, 0.07400744955916494, 0.2975626417989201, 0.15351281180948328, 0.6782307601643112, 0.06651681374966367, 0.5919269618546438, 0.19116621120541344, 0.4464322384495031, 0.3540303623393145, 0.7177267688143658, 0.6921369133683225, 0.7912601880797802, 0.5125103710638433, 0.4557823980031579, 0.499160915766387, 0.623684391195036, 0.3015812878141201, 0.045545096206565994, 0.04480650086487581, 0.9529623673763133, 0.6309048353226158, 0.13392812067622073, 0.7689091768818243, 0.5319612611745959, 0.26271410384027893, 0.0003747897918729981, 0.3506484830802574, 0.33033957986504214, 0.5837015989398733, 0.8889221076944789, 0.3884101962054195, 0.35897549537597095, 0.17817858929384567, 0.2878889781776086, 0.49761221263740785, 0.15112023690206522, 0.18202551593124927, 0.8744535159460769, 0.33392861887108216, 0.4462953419790687, 0.19393391003169935, 0.3004217676042381, 0.18611030640454296, 0.4150664230906812, 0.19179743239255287, 0.7982872794066881, 0.3293949694520325, 0.8190535368755737, 0.8256972681439758, 0.14777306310144056, 0.9235941631300176, 0.3839114668839503, 0.12762496143214486, 0.4207960320208878, 0.3310027477705274, 0.7147794425674557, 0.8485519600980798, 0.8176305325910753, 0.36160729691400206, 0.2141709241450106, 0.576440667049033, 0.5029035686141302, 0.9153725024718685, 0.8402877020423358, 0.3473938980725513, 0.4040512583303044, 0.7072352209207593, 0.6915772995290472, 0.7995946006983268, 0.7579944825674925, 0.6081681991492307, 0.07610579335976875, 0.7199575014584627, 0.5901630515955664, 0.5557291381724652, 0.9428157845751367, 0.5316104118175473, 0.05700942955741617, 0.08663208041074766, 0.1320906031661595, 0.44058968646743935, 0.1527941475642154, 0.6339273097228134, 0.8808780025537328, 0.44791961006992453, 0.16113398396502787, 0.8647786968019574, 0.8081612602215861, 0.7559506346159486, 0.8683422070530552, 0.02747320704901768, 0.020251492960705608, 0.5798184598902152, 0.6234994677379694, 0.9453684600774928, 0.14202583350734865, 0.008282614299252589, 0.10941486166315195, 0.12242038998303617, 0.9177933307111805, 0.9201630820139408, 0.5029317127787026, 0.6178568587706978, 0.4152215496381566, 0.8533435139145221, 0.009083769341904913, 0.2116572342036409, 0.5413099640431789, 0.5531764814844607, 0.6202831078761286, 0.7345080872213662, 0.5826100647982476, 0.24777769557582863, 0.602219928873727, 0.9883638350803401, 0.5633941032780567, 0.3170983583899176, 0.5159685164167984, 0.565864377248421, 0.9309718593939377, 0.42105112199504635, 0.8142289280794652, 0.7194357335850226, 0.5728725576641537, 0.6777610902987512, 0.7361344604478651, 0.06118002886966345, 0.6080470513254209, 0.842092857108678, 0.9999132987138277, 0.03724091256583906, 0.7578653717507394, 0.4007724075438388, 0.1386835086354593, 0.9368618058914616, 0.5132586471811479, 0.06235186671503068, 0.7419543806507589, 0.9551354303775291, 0.25610581794418863, 0.24822850183194956, 0.9030204436142787, 0.7540551324147834, 0.6407174772402962, 0.09152004874364184, 0.3977288208774188, 0.1256151878174271, 0.30241400601633084, 0.27809807761956584, 0.6116402359754445, 0.5220466841470944, 0.7418470086087455, 0.2803895628147868, 0.1602258297421998, 0.6743012815069029, 0.09418370542074972, 0.4354258518359896, 0.8163869372168596, 0.17504737578635543, 0.7248423276445806, 0.9347789804558132, 0.7789690815799585, 0.31559943268525126, 0.2461969010906645, 0.12593070273039686, 0.30637205064766915, 0.9055609729994056, 0.4499388435263393, 0.18367807583304474, 0.006741784776003401, 0.4789179193040628, 0.7436438013476354, 0.23855248253749384, 0.8814374067980864, 0.5452300216737321, 0.6796936462192305, 0.5945821495470649, 0.3620499295604058, 0.8965396011154247, 0.8653235320664978, 0.8796479224055832, 0.11803156552220073, 0.4853866024776047, 0.39953182452706426, 0.8118849473908829, 0.06948218307451393, 0.1580301173494565, 0.3754465843107865, 0.6953227504951309, 0.38528271904272915, 0.607908595949634, 0.6629310134277564, 0.2466831092575259, 0.6759704371080977, 0.7932276271609912, 0.7108462457031446, 0.7095122784060419, 0.8862836048370869, 0.49581949634089373, 0.6606659314350135, 0.542853019577869, 0.47830985499097545, 0.18303968673088988, 0.21386642602244466, 0.8050472439274742, 0.47076922840353563, 0.9452080355837275, 0.7936111680912651, 0.7881785385235073, 0.062438265880243704, 0.851518130456682, 0.6628224278075564, 0.6748262596316585, 0.8036365310929152, 0.4633492187232483, 0.829678463240251, 0.12941091234613356, 0.47158088360090256, 0.18654881115540978, 0.40242435756363915, 0.07254259261070728, 0.7800497704566235, 0.7396118638366521, 0.3685213904021153, 0.8194208317821208, 0.16552976731400026, 0.38438890194454756, 0.3440327963552161, 0.20107816306369108, 0.07237209297176406, 0.5533473076814437, 0.7100488350710603, 0.8462225744026037, 0.5468007832573771, 0.3851106904465913, 0.7088064982000124, 0.27425972945591326, 0.1169766610358548, 0.07822129502701025, 0.8739081981301912, 0.0973998145679913, 0.4584505420250522, 0.6354338066659999, 0.8028559906558469, 0.3424605669354409, 0.05413891882349042, 0.4800304051223142, 0.7576545181962105, 0.1725877744460962, 0.507799632939698, 0.5843675150926336, 0.9895940896226186, 0.06574210130356306, 0.7089896513182606, 0.2949196548157563, 0.6623514320052696, 0.596767587510727, 0.05713195336959176, 0.693518986582665, 0.6647858478646868, 0.8459904019148866, 0.13979118025558956, 0.4893706589259025, 0.5798949951813869, 0.03350087387409795, 0.872164596562908, 0.8376580206911174, 0.5520200481458989, 0.9125491728397077, 0.4991577425137155, 0.8030875515298322, 0.6287916645345948, 0.3336273610044982, 0.6764565984067766, 0.101425715073453, 0.9871741093810946, 0.15971466677822221, 0.7494976797322253, 0.9148063822378524, 0.40361874046313007, 0.29965166186115877, 0.6304180723948019, 0.3773359268146592, 0.7306814040598718, 0.4683223553300392, 0.36466571243282253, 0.5592517262436445, 0.9728180526897988, 0.6321311102291521, 0.5514321880025119, 0.5542377398234707, 0.6112604598205136, 0.517183544201946, 0.6689758109046389, 0.08523638995165295, 0.1387519611233905, 0.9846593853483611, 0.44572723319193697, 0.991887608481508, 0.6056682120530005, 0.44456395400840376, 0.5467323570652075, 0.9372615765327118, 0.9343268099377771, 0.292185382048639, 0.15506542598526862, 0.8190360706220609, 0.46315666108543274, 0.7111788279703914, 0.28730787038931527, 0.5571455119948315, 0.808971275722124, 0.6832099335393259, 0.46620694544719443, 0.5848043584109123, 0.03180647654221258, 0.5611581800823306, 0.9979937377243714, 0.5853250669921592, 0.8162548543209888, 0.24959019118905046, 0.016468316089359725, 0.4624643518071161, 0.8551092442281338, 0.5774149313953483, 0.5464632412017325, 0.6583015663585372, 0.6742115381494532, 0.3676025467505013, 0.6062732151972472, 0.25175691746613305, 0.737697643885093, 0.631519986879602, 0.5227770183836999, 0.18660557022609214, 0.2271874624238116, 0.9376521230969467, 0.07994597189488106, 0.30993006116941046, 0.7468103749695393, 0.6475809281468263, 0.931157839634579, 0.11816798556507924, 0.8260583198580113, 0.601072773991263, 0.12038403376095319, 0.06267547885425362, 0.3261432174974893, 0.6940308155129246, 0.2082641939399884, 0.6703986129561742, 0.28865109804260236, 0.3352598047532722, 0.2870537306529122, 0.6411473970581102, 0.09141220969421926, 0.02818472932446736, 0.8799514485838561, 0.8506554439379281, 0.9683730091299301, 0.291851139508049, 0.09420018614170411, 0.7807246110786167, 0.8852296419858809, 0.29917358038287745, 0.32913805962294174, 0.47485337360383095, 0.600909530203475, 0.23335889469708992, 0.22173150852598067, 0.1846249396894667, 0.0029155378722193204, 0.7052276410997667, 0.23600883386008342, 0.13006718864090372, 0.5929496407777769, 0.6383084359282303, 0.7785663054249573, 0.6116025300201638, 0.7899906857622869, 0.5602054275547449, 0.8893195282442845, 0.13918873203473048, 0.31443006047987876, 0.5531403917588598, 0.2704606322011709, 0.692384785967692, 0.07282967303399457, 0.7622149999195523, 0.691958599236187, 0.2882758477047238, 0.47782453390640267, 0.5752160846328667, 0.4057677331621856, 0.9776872056541267, 0.31199939811090804, 0.6138843258377727, 0.1801618969087253, 0.936841337844738, 0.29631576377181756, 0.8090689605024962, 0.24507586476450383, 0.710109624214043, 0.9890662183980887, 0.9598551333802696, 0.6068546339460951, 0.982874101923287, 0.7604519318808606, 0.8990712886394266, 0.7378118907864663, 0.7556098500288534, 0.9521574837291876, 0.02722870512951492, 0.07361912404246473, 0.06262763279347705, 0.4165887836876707, 0.2441572419041098, 0.10598682215604449, 0.4014904189045896, 0.011736037275709377, 0.7275712020358646, 0.7095157871531407, 0.19187626164382976, 0.11995443936327244, 0.4382663563669187, 0.9337964495820781, 0.9213211452755596, 0.1538673048859528, 0.4468961151725178, 0.7541633647339301, 0.18742192293726911, 0.25558392967579124, 0.09887964019397999, 0.8097272357182794, 0.16876424898017472, 0.6656290547107802, 0.33578218734276033, 0.39059290941228497, 0.27555991809828473, 0.2385163169847173, 0.13958375186782956, 0.9391558918219126, 0.06730040079295407, 0.4371950133369763, 0.5297718810212476, 0.7687167517380191, 0.225431466365152, 0.8692002818834343, 0.5336867810991828, 0.4250242923051495, 0.8571758593990048, 0.5146367208979732, 0.42755743335975704, 0.7023278989676625, 0.20308321072735402, 0.80500991002217, 0.2590178320001345, 0.44607666858129835, 0.402268000935441, 0.3759465470449269, 0.945507760069474, 0.25358858134830975, 0.09577947581341095, 0.6890833942799522, 0.5485443211584895, 0.198017866671247, 0.16654955170709318, 0.826233444330211, 0.10556072495410584, 0.5168529485608847, 0.3859878175140806, 0.4249711792469879, 0.1773437066188157, 0.03852500065659681, 0.12650923063418607, 0.242796427529689, 0.5389168356937171, 0.6478286835685756, 0.3780946237714663, 0.3570816855415616, 0.46123421342679205, 0.8878569646785514, 0.8671529108672372, 0.9017491702907409, 0.433891781923354, 0.11207804772953034, 0.9068858852483496, 0.42041764964767325, 0.39354141214405347, 0.8156966000788753, 0.6393379150981455, 0.034065513177425566, 0.9767326247195421, 0.9889657995264035, 0.7965094314324029, 0.8739989693306051, 0.018731767668696553, 0.8779005010388515, 0.5518682586469686, 0.019636945767604996, 0.20020363130451613, 0.8005486594736425, 0.764074238545738, 0.0604461400359978, 0.05492419434072515, 0.7888904932583053, 0.30727107208423177, 0.35662582199627724, 0.9183280689918817, 0.3558577194884053, 0.8300400881132627, 0.4710746534278766, 0.8103554271880582, 0.06952676919089262, 0.7628221562309467, 0.22677432302335432, 0.31395228611493375, 0.22621611702925548, 0.060846865857064225, 0.12926411238082836, 0.35469364562138006, 0.6984903259546554, 0.531395701460707, 0.6366584950489879, 0.08074604544336128, 0.7924425357253162, 0.8304494809414379, 0.7365496189850226, 0.03404330372731201, 0.2828527838817141, 0.1705653421047112, 0.1589442128612395, 0.261676172380641, 0.4433855366301387, 0.053516954404803085, 0.28588614812920066, 0.7553835032614751, 0.833050052709607, 0.08653029002207702, 0.07997089126843893, 0.8126538555342803, 0.4644638228177247, 0.9903508487163369, 0.6079234178130307, 0.22234032616855104, 0.6437927736938909, 0.17967232153096346, 0.9841730263392824, 0.5947419496646084, 0.5100773806797441, 0.4729532342960644, 0.7782163963569391, 0.44053096114717394, 0.27358896675172206, 0.5415370435961107, 0.584468892052483, 0.14921153782875574, 0.9909603943449592, 0.22565237473965039, 0.09833432700805067, 0.45919173228302146, 0.2653166699830497, 0.9330446282275805, 0.07392394127596624, 0.3462472578623432, 0.543746506532701, 0.7536505716329471, 0.2707213115673418, 0.7965472310070408, 0.7587777806006012, 0.5072695120811901, 0.6544751438966476, 0.34548960109003146, 0.07149267714687091, 0.09369364118197598, 0.4327754661110603, 0.020913431857928932, 0.4980517993164003, 0.43515842031033536, 0.8072915552666408, 0.7267257124961534, 0.7618401534638903, 0.05059071735014309, 0.7169979996414327, 0.1231522074618, 0.04747239203727582, 0.2217314770254769, 0.7153761800657537, 0.45263741756651277, 0.3345417156785001, 0.8455841104602757, 0.6873115331934923, 0.6716467619290598, 0.5922985620069042, 0.14441682384402155, 0.08920596538626147, 0.09957668804035547, 0.1269522365968183, 0.7466823201825391, 0.0016946734408611608, 0.626829172482115, 0.6937472736157346, 0.833644063975718, 0.4728739379002942, 0.5893112814723012, 0.5706332892845879, 0.8497790318548287, 0.5455717106631568, 0.8409460652358997, 0.3457483571791141, 0.9736806771797271, 0.8295865085782717, 0.29046832708437476, 0.8871655319217767, 0.09733892897742125, 0.5660406013844885, 0.4162499871125407, 0.7467841071220628, 0.8998264636989004, 0.865211055767505, 0.34592982413774476, 0.46825600033622994, 0.9110767170757521, 0.3439089866342816, 0.8980063188028511, 0.10813281092399718, 0.5932318099175176, 0.22015144535616826, 0.3877475731740123, 0.5828505743710275, 0.017361315354653795, 0.44715509825397426, 0.723868739802054, 0.9727571312347937, 0.7479578534624409, 0.3227767946172593, 0.8622999238028816, 0.6622342178602085, 0.8099817460728747, 0.27627762476129925, 0.12525237143369716, 0.041352457872506965, 0.45514370558070905, 0.10633708491298532, 0.11699887208107218, 0.549265471063076, 0.3612290452908129, 0.35227115356990324, 0.518298370668639, 0.4539308807054634, 0.8242911340852279, 0.4382585398903127, 0.17814197684973676, 0.8560304356767345, 0.14561709020885694, 0.5774414596645723, 0.7649128944060339, 0.0911539422959824, 0.3846474279435098, 0.4505298318424744, 0.47080891293358196, 0.6738019649678311, 0.7351683394967312, 0.7829630976126688, 0.2955265745277065, 0.633668372729966, 0.348066322582228, 0.33161446373701653, 0.9232587245962403, 0.40918734219895947, 0.5425860167655181, 0.6724706652072078, 0.1696645341048354, 0.14778143263453225, 0.8568185021419804, 0.9656734998527006, 0.8075187958385055, 0.6655433140253972, 0.9673886336568474, 0.4207388792390585, 0.3209756706344148, 0.24582381922697072, 0.34078892759200996, 0.8335031649734352, 0.6332544939201742, 0.9173786044518303, 0.8105612471895451, 0.5545559571798269, 0.9118329495919917, 0.9774996061488908, 0.22764095763077685, 0.32748067831148153, 0.6879400532697114, 0.2828561518621435, 0.3181015458803269, 0.20364462466759192, 0.6538064428885905, 0.032456901030673224, 0.7338262528974172, 0.2917345744495695, 0.13886311467799384, 0.6374037799192738, 0.05936466183761624, 0.5529010914509211, 0.7750394087801314, 0.21983056878112262, 0.12797003630767712, 0.3671740680195359, 0.22180476178396002, 0.37056148199981764, 0.6288984312713897, 0.310328649020153, 0.26128529628183217, 0.2852059783850327, 0.8463945630188805, 0.3314438475360407, 0.110930757958422, 0.690808313556842, 0.4451446291503459, 0.43282302496175384, 0.8377595650979278, 0.7526989514558708, 0.5400827291892724, 0.24365524024163476, 0.020342609605574102, 0.01696661125068022, 0.3382797465339521, 0.33801576055666926, 0.3297194418718683, 0.47501701540903163, 0.07727248351166316, 0.6883819375950192, 0.9760150592884697, 0.8395594002200741, 0.5872357967182333, 0.2872040125770199, 0.798806073917326, 0.8632789224264875, 0.029528370646684343, 0.8464768702555201, 0.028945354805967716, 0.5846187266191275, 0.1872630906670545, 0.1485170780020203, 0.5697124243392516, 0.13902294287035466, 0.4814610862638544, 0.36745492513415723, 0.5827502014327838, 0.18462574850986846, 0.10501243170081853, 0.3002668206944342, 0.6345863451184436, 0.6414256111812998, 0.1822126977360693, 0.8092418357596263, 0.26374756244544983, 0.6265235420512881, 0.7022563301787921, 0.9568537013136028, 0.5906164755017387, 0.6694531653914805, 0.38559008005174633, 0.7807226417245029, 0.3773490052894145, 0.5660601795300496, 0.5427857383558212, 0.1596416952009393, 0.06024831108711415, 0.00254113252859145, 0.2295898670351063, 0.4181557246998435, 0.27111327818062203, 0.9799060157219619, 0.9196729743072739, 0.7737841882234092, 0.5903375765620701, 0.9578150467718339, 0.8594343347258686, 0.36879955114890783, 0.7564195262812545, 0.6300889755336239, 0.29226205782540526, 0.6643516006915954, 0.6036523231427452, 0.054215752740161105, 0.840571047143982, 0.6399554568029899, 0.24311474030782854, 0.0033190053133731467, 0.037803118478007214, 0.16103758017665992, 0.9621294335740732, 0.8354254461983514, 0.5450372562004008, 0.9391620859599465, 0.47460302889830275, 0.12279157795650975, 0.35217375256083794, 0.8476154001256672, 0.5117987813657424, 0.961046146713764, 0.08344987748571764, 0.6023993571853921, 0.7155947236056089, 0.6899591146693466, 0.04486727071508101, 0.19312266635896325, 0.8389710803138825, 0.8412634243902462, 0.08622548672809782, 0.9115442514757873, 0.5761858114884264, 0.9461204265688314, 0.4063663775983066, 0.8367549543536886, 0.4307190231728212, 0.9773792054477936, 0.7582570446368385, 0.8786831531691179, 0.7078583943864725, 0.45170704531207784, 0.08797767883681729, 0.05310134413290102, 0.8194985495291011, 0.024537271264906124, 0.38952116000804493, 0.14635764983658361, 0.9207681709529887, 0.5096165093198253, 0.49956223142350376, 0.6202395013182431, 0.09390378396690602, 0.409181696051357, 0.040410801978551736, 0.8004982057684549, 0.18560721833540916, 0.34138962900503045, 0.25047408567877305, 0.9379503999727209, 0.8593096205935943, 0.8685564388796247, 0.8303846643744426, 0.781226125040569, 0.04216808948477979, 0.8125536437626697, 0.8145597715596178, 0.27184242418475923, 0.18292484741468706, 0.8211802621276423, 0.21091921707093575, 0.861077321927308, 0.4220030026068835, 0.8754623655871231, 0.6241535519939349, 0.9076897485184096, 0.5332516096990181, 0.028380498891353412, 0.11026803517429817, 0.7069208646928796, 0.2233503504968024, 0.07341453117299268, 0.25979706907271727, 0.7702553932738548, 0.827246445342617, 0.06220863911504371, 0.12681680179627097, 0.9313690791527431, 0.014683878148710305, 0.2746820449188121, 0.22202341084381383, 0.9274672586210028, 0.7992658118405652, 0.10581768214566623, 0.7739807130774742, 0.5575741781901511, 0.43306380584989546, 0.6476457296124148, 0.4587138420120762, 0.4315226949316231, 0.02292193031815626, 0.6464351880748198, 0.42950821817908735, 0.8163093779160118, 0.5153725833607692, 0.3170821329370904, 0.6429934433870378, 0.03809029385534257, 0.07297338360796046, 0.3208462974633123, 0.461933126879849, 0.9959400620592442, 0.5308365517797048, 0.13677327246599802, 0.8746430144567079, 0.4606349298275072, 0.8011360100326848, 0.7619891421815735, 0.7455453942492571, 0.46584896622651195, 0.05162477452655834, 0.5199590611690008, 0.9831552802031811, 0.6115945207207919, 0.9315879488165297, 0.23984098754224203, 0.25630814189020934, 0.6813728268150752, 0.4667200579620332, 0.8659405204777336, 0.4612491563376999, 0.6703490279376251, 0.35443947575612444, 0.05980677327662831, 0.8219727494436015, 0.4594616360910896, 0.8468827069154891, 0.12126799182245807, 0.23287254811961566, 0.8459878448588188, 0.018795558132310708, 0.05677870423505538, 0.37389766851318085, 0.844198772644552, 0.8527069882289616, 0.979202387822473, 0.1122175898791814, 0.2544350521890698, 0.9825845082525071, 0.504042667682873, 0.5700640689894773, 0.4587896733128366, 0.12780942190475109, 0.7230912636084857, 0.886463613610466, 0.5399433345050397, 0.024392453302674477, 0.0986399651448191, 0.2012748612770463, 0.06647539253320212, 0.27947048833098664, 0.9283976208495227, 0.39834708833129195, 0.7303055518599255, 0.5134671408529339, 0.3995083207926705, 0.9506151793923283, 0.0591853297702577, 0.41659705526485924, 0.838947807409592, 0.9818880047478566, 0.015433040112656227, 0.8068455381285518, 0.2137337356146075, 0.0814108656559398, 0.13668010959621701, 0.4194157871974262, 0.5179614678398246, 0.9616086384752488, 0.9326918235091929, 0.006454249958017022, 0.5223830541011204, 0.5132821231412731, 0.41282053444036004, 0.413789795576728, 0.9120155602648606, 0.8016934980638563, 0.03744607452697424, 0.011381458044821824, 0.47738408814257927, 0.8771608855718277, 0.2439515543644588, 0.31412446195556165, 0.8126821653437373, 0.5511960618007463, 0.005429531894091455, 0.15940324336545897, 0.23675934523040965, 0.09185604967823258, 0.9223793912940892, 0.09097024069038995, 0.8202395306368362, 0.1544116341516245, 0.11612475117430132, 0.8596214251818927, 0.12665982083468985, 0.0010967471982112897, 0.8182920324953031, 0.7787636009627387, 0.6481491845513863, 0.050927349609842576, 0.723423361146636, 0.5741015927527934, 0.8969138442003914, 0.1634801437578155, 0.6978092832065871, 0.4747812830514049, 0.31367824347298434, 0.006153081460056553, 0.7456325894771638, 0.9094478466049399, 0.8464030423128526, 0.44220558825416667, 0.9793303576446697, 0.08992741051583408, 0.9459653125184905, 0.6947140107426448, 0.32432413835814666, 0.5383753789661427, 0.36915493851579784, 0.09085671761869507, 0.5431256033296442, 0.40763577588775224, 0.763278645950876, 0.2431307613069995, 0.25310238938136276, 0.08256151059745376, 0.40711378675302234, 0.6994306388722761, 0.6629697815141357, 0.8099212171415816, 0.7124630918739742, 0.4111139437777843, 0.36509861480170724, 0.41109124468622316, 0.6510247039548258, 0.03391163643679651, 0.30782760603972237, 0.15796670069643015, 0.4216396859248652, 0.8883236664785131, 0.5729224422848366, 0.5110127314419677, 0.3715669068426096, 0.5650212789321007, 0.05010595319551647, 0.8396897438120453, 0.9008587005162875, 0.25136049858795495, 0.6403916428917253, 0.6918490837804697, 0.11987549386198226, 0.7491990565885964, 0.046253298717966906, 0.10178015972493293, 0.9682851003467127, 0.057210520810828225, 0.01818648544492929, 0.26448185420487214, 0.9632142816815019, 0.8202064363195452, 0.2034492273663362, 0.6107114689692451, 0.12349457506416595, 0.2664000252801746, 0.07088613872296434, 0.9643125520056749, 0.1088068810356494, 0.48023710649855644, 0.5485510051461759, 0.6940269397614108, 0.4658828459495191, 0.8050600794585474, 0.12286421066858666, 0.7243018012869743, 0.9747175185711751, 0.4964633871497235, 0.754103327466223, 0.8529757343220867, 0.7387688274859088, 0.8908968198062267, 0.5567361263597468, 0.6560073540267237, 0.0011168245501739227, 0.1817733043485299, 0.10367164893786518, 0.5546477150703241, 0.7760601670019779, 0.14155867425942792, 0.19849181083870038, 0.7677279976776257, 0.5815711534486374, 0.054270333798627224, 0.9532484017490798, 0.5613253538410773, 0.15145976970503827, 0.92847368648201, 0.5558867679393421, 0.4485906496052696, 0.9045989690841562, 0.3723531927053747, 0.6585755421509868, 0.9111415590893855, 0.3505745607266465, 0.031001954825864098, 0.8270408215424493, 0.0648064592346812, 0.7571832429476366, 0.5654538715780072, 0.06757874099231242, 0.0003708082232328769, 0.5087850928998505, 0.9950002629516199, 0.1740082171265156, 0.07447132928261391, 0.7707301342236514, 0.9027289170629809, 0.4605991969488503, 0.898812479370747, 0.34780107546023853, 0.166942632664978, 0.16277430173161833, 0.002603219107089383, 0.22926707621508147, 0.7176525173988854, 0.26893142208744225, 0.7270807586077676, 0.9919558298178999, 0.4678512962260585, 0.07683178224175935, 0.42941735384546253, 0.3362343249234989, 0.8790769221304301, 0.34009099426245226, 0.05178408760422004, 0.2799207355238691, 0.48136860309289264, 0.5918314053937684, 0.3845942551496009, 0.08406649260137133, 0.2691482677791295, 0.557245273864189, 0.009100177295293888, 0.9859503533146767, 0.6781223234671088, 0.33630313452776495, 0.4282766775617134, 0.1109296407096877, 0.3972882496191791, 0.5422818958418039, 0.583645865504963, 0.984244264447943, 0.613276255794309, 0.7192999744564738, 0.9601560975756619, 0.9624256208531214, 0.9138014015748818, 0.17273580049864679, 0.6522147649156117, 0.03220449982055107, 0.4055279001233425, 0.32403761534051556, 0.9990892935059972, 0.698599918387762, 0.6099846637508994, 0.2538764596460139, 0.4165753393426589, 0.032070985018164966, 0.5602217989429753, 0.17290482665175944, 0.2981659604805885, 0.1180389886768034, 0.1589653968435023, 0.5948933933935953, 0.22490996311678846, 0.6498595035824835, 0.5216349677965954, 0.9481436467144531, 0.8625922061742427, 0.8180808783223681, 0.42643457976656474, 0.09067849019515095, 0.14913150870289715, 0.23674222417922963, 0.19773528940409546, 0.7095158469821005, 0.3553023145774098, 0.8864255389702668, 0.010139836633885957, 0.7835403851627044, 0.5560123099219481, 0.6877426637202967, 0.2571511953808001, 0.9155287686643839, 0.25531023786632345, 0.7276939056934125, 0.45143379257672067, 0.1553856268252709, 0.20883177622301985, 0.8125675784791012, 0.21708497464465948, 0.4612431828943866, 0.4774966585317454, 0.9625825557140226, 0.564305741690516, 0.10042819407505188, 0.6039081091397009, 0.6156123559274281, 0.9338214262668999, 0.5698732114213176, 0.5420374806912318, 0.48410729768992133, 0.6523934461735295, 0.5060270191067866, 0.22144625360400239, 0.756522827064745, 0.5545701506850171, 0.8440819081114537, 0.9331999599860656, 0.7753244180949762, 0.06767519492207319, 0.1787165277832008, 0.4072220295445046, 0.32733889574475605, 0.6633668704576926, 0.9660420485268318, 0.7101853693715667, 0.999772489175517, 0.26125999748212647, 0.3043215661879901, 0.7346474028572568, 0.09588968859348213, 0.27550542762271935, 0.057116520609018395, 0.07506112189721437, 0.5561934187947826, 0.6039021695391226, 0.22556663373706443, 0.5402543300731295, 0.8427200421698068, 0.18634713665716662, 0.2913617477131699, 0.947378462455855, 0.9236846951037329, 0.34092331080595906, 0.23080193200664312, 0.31594399023355535, 0.7183462873942029, 0.3885182786978252, 0.4531215314000705, 0.9316706723144385, 0.2654508151954278, 0.12958311059320948, 0.4506899556204369, 0.7795772117048084, 0.34671148568251764, 0.20422437473605226, 0.5377693849310282, 0.4970318330567972, 0.3322377885936558, 0.549993072814153, 0.27525132749390346, 0.3994300638675494, 0.29447256943546063, 0.777443923006828, 0.06772705525085032, 0.19666888977305108, 0.3930603766177605, 0.954733103284976, 0.5100441524256002, 0.15730699094429668, 0.7134405634190532, 0.6142236158545379, 0.0865887302015812, 0.5818591914298156, 0.02792938901347153, 0.24515455063960456, 0.47074698015968, 0.0049033799701406755, 0.6433671325300382, 0.3936324934991462, 0.6522323382691737, 0.5912850052960634, 0.1380221418735561, 0.9564035185396521, 0.8808611227978862, 0.7276853776736502, 0.045332222880015594, 0.15127032840903654, 0.5524982102933496, 0.46652110249138, 0.2165224018273486, 0.029586256922642717, 0.1318701482950565, 0.8826511645095679, 0.09268562235137534, 0.25029708823481456, 0.8679553909446781, 0.49289344582943384, 0.6566055243534458, 0.7593083011873659, 0.8892623812342517, 0.6931071075688627, 0.4406253916246018, 0.4756585565947571, 0.26300030215098513, 0.20439530811258966, 0.755139531367169, 0.6175898890583353, 0.248547773126503, 0.5930995187307458, 0.4339158998510779, 0.6266121296200581, 0.3160754187639686, 0.09669909976308244, 0.9388072031369642, 0.33973407828675084, 0.39038558519530964, 0.5755665999799082, 0.21316280162662615, 0.08998742244022517, 0.34206109757144687, 0.32315971184882, 0.4195844589763834, 0.1167156666559569, 0.7333196011974377, 0.8305329958182676, 0.46905971881456365, 0.05273445384657749, 0.8799230215629635, 0.5473159316754805, 0.14049146284475733, 0.9936974982753285, 0.9606817777326112, 0.9016103433296501, 0.6440756285638427, 0.6954587444535716, 0.9116609810065793, 0.26244240429055654, 0.08624305941012667, 0.09525686812782808, 0.7293777281331945, 0.19155051934989598, 0.762759592155012, 0.9065820537288213, 0.08542642000122502, 0.2965457707478548, 0.07682806760679939, 0.5863724715552465, 0.22733986725671274, 0.39870847017310906, 0.5266099203451466, 0.8174643569071103, 0.9249757698704888, 0.14017554613979033, 0.5870177708137464, 0.50669950144187, 0.9977097143253637, 0.044148190662630205, 0.9158712607984779, 0.24564599386109087, 0.5234033561065421, 0.544019886186457, 0.12896218790949499, 0.843023704927161, 0.2816359744669078, 0.9183932700623492, 0.5822073523494268, 0.07857265511363232, 0.10553857619332896, 0.14876396039684836, 0.26422614100555863, 0.04904302517046366, 0.5498170221349151, 0.47919228116477386, 0.48665172742346474, 0.936053012072458, 0.10200232356770789, 0.9365308681480837, 0.9195737665890985, 0.8017870698510179, 0.004085237989414847, 0.48751959975284964, 0.3964125070061615, 0.3775209580686504, 0.9626360872886781, 0.6603301531998995, 0.8857767958215211, 0.3249802333018521, 0.38123485343045027, 0.7041435678160498, 0.26962419603430987, 0.6333726938398903, 0.35227283978021673, 0.36187063244295004, 0.8213838414567637, 0.4932806285803394, 0.4338295314533117, 0.8940564877355164, 0.12988505359015, 0.23713757280332992, 0.3882711477649434, 0.031848259519956734, 0.820645018378229, 0.5520873268316393, 0.4954914349226667, 0.06172261198685891, 0.6156709186772693, 0.8398234282234573, 0.31989551081405254, 0.04125482977303385, 0.8314867559796402, 0.1426244496189616, 0.21686497285648765, 0.6036222125882527, 0.20587454250458403, 0.6405673174785418, 0.6819568965475927, 0.954612498884284, 0.27758939133231286, 0.847161703541247, 0.7170107222217164, 0.44953113604921024, 0.8339137915215669, 0.5222600016622002, 0.5540276782441276, 0.3525064232121847, 0.7336333686146613, 0.09547729154589557, 0.02428468136854922, 0.42520349734290797, 0.8928427907059184, 0.8986703075452891, 0.015866593981842203, 0.683614212835507, 0.9626468749723165, 0.17608241256256596, 0.9644618694605885, 0.534920137557233, 0.6260197625029977, 0.5572581735537375, 0.6974101635813892, 0.13738343197828728, 0.3976867820706602, 0.18777903539312635, 0.3683733796580464, 0.5908546662915413, 0.5207204463312108, 0.36782748899315176, 0.9082524910129438, 0.4224555965364405, 0.16404107679678803, 0.24479648346554672, 0.6041050792052362, 0.6577200326232374, 0.40814245094888835, 0.9782180745124044, 0.13195422302471016, 0.8633470453178426, 0.40272069888255513, 0.8171830645616649, 0.7840427857930592, 0.9675407190517757, 0.18720822516599067, 0.5000662353882778, 0.9225863996545676, 0.2170025980104503, 0.8666738070433311, 0.1280693000782236, 0.6031011679507304, 0.7031799647201145, 0.9914691392247249, 0.6865970106430274, 0.8302720175653464, 0.4349903652268772, 0.46974139657439673, 0.8353305352138178, 0.600231630451866, 0.14822707622861586, 0.8723504336945954, 0.3306004878403601, 0.32617808251866875, 0.3767993675061597, 0.7181513604672985, 0.5730313087799653, 0.7157058767248388, 0.7296975416905477, 0.6724695778880287, 0.5210476087644442, 0.6196172957574517, 0.5872387597667875, 0.08267319384207528, 0.4052836632711144, 0.9079794867227876, 0.6302854798727937, 0.8813879446499749, 0.6764268472366507, 0.5740228667869188, 0.8611976053492724, 0.6779497395708788, 0.3463882467715108, 0.4253699274485008, 0.5880998835699469, 0.34150753454923544, 0.5894121639419899, 0.45430342467761553, 0.8649272343035554, 0.3926340171313132, 0.830566072967741, 0.5002357585977224, 0.6141780714863025, 0.6261499120815042, 0.10127151566204062, 0.9306731482030829, 0.6202730794705682, 0.713891028538032, 0.9953903765525162, 0.34041839507465677, 0.15717867830768628, 0.30659379318928215, 0.45756474740012276, 0.38997658906604005, 0.1366359473256027, 0.682428184998698, 0.5572119719311083, 0.7502752969821697, 0.1887715359099662, 0.4679763829082949, 0.08340575321927057, 0.8381152295023375, 0.7544447932853406, 0.8287696318593107, 0.9090598078497647, 0.24086489060825034, 0.8487058568530956, 0.9981321672371412, 0.3158656020107927, 0.6678960953778807, 0.9855105954557765, 0.053070384568574824, 0.9839961700419992, 0.8017392026741313, 0.41270470804423487, 0.2239050643941356, 0.7264915435218124, 0.9612374318273795, 0.6695744024080721, 0.5879396556539058, 0.3884051987126407, 0.5135177070761922, 0.7281113261179777, 0.41384457819527976, 0.8500555867488739, 0.15221491221874062, 0.10676287325420986, 0.9897624958331906, 0.7431171613610977, 0.5609537684420818, 0.6525424139916918, 0.3275883974118876, 0.447902572559849, 0.23839806720929224, 0.6096382760314125, 0.9968448944655046, 0.2299404716046971, 0.47122939431747035, 0.06037049521821469, 0.19798051790906768, 0.8825431327188671, 0.07961015097821655, 0.7027622032976732, 0.1902505037896769, 0.000884834199556872, 0.7664317094869318, 0.6100759981172964, 0.9536949137792946, 0.7457171692260655, 0.4986838981407302, 0.22969873365686944, 0.2727679459895923, 0.037199722930646884, 0.6984896928172473, 0.30544100672915864, 0.05359862539431248, 0.13811683611760905, 0.32110636495320155, 0.8832067427768685, 0.8271463110473699, 0.7259830633509233, 0.7884606031766666, 0.5511832555932904, 0.504426283392532, 0.138591662326071, 0.08272592109021981, 0.5724851303539811, 0.6183117069303895, 0.4369847370434611, 0.21556816135693668, 0.8894440511404537, 0.582466895136226, 0.9437493635128115, 0.5633024082014233, 0.3515869754344346, 0.808052576490332, 0.6710855676055173, 0.4423688780726318, 0.1709623093685031, 0.6627800322482708, 0.009017977703624336, 0.32730380850243235, 0.5205570996480778, 0.33221069434409867, 0.38618036991121996, 0.5267309153465687, 0.29042642949070707, 0.40759700475846383, 0.7423237992907337, 0.6698317223372525, 0.755653716894793, 0.4775067277491156, 0.582024470937756, 0.9393524193989091, 0.2433410913807258, 0.0749974662876085, 0.1233204490148575, 0.28799216184199894, 0.06173251839537519, 0.7472808454466582, 0.17580565033379647, 0.5100074987733773, 0.3206311620566423, 0.47262558738648075, 0.16564025973367058, 0.551198149126835, 0.5153579458635597, 0.14746592802077196, 0.6011892397264736, 0.19067683850999273, 0.5423268780951959, 0.9220784078809656, 0.47839748154900186, 0.6990929073511639, 0.14345712808911448, 0.23111511598595746, 0.008915296877206713, 0.2523443066769322, 0.4992383428536581, 0.6758903232968791, 0.31245313398702146, 0.9461199039875706, 0.9769192962871386, 0.027417396437333763, 0.370661445838506, 0.003920862529229185, 0.0984982352000805, 0.6241829332249328, 0.418197903924177, 0.5307312344801459, 0.30998367050523434, 0.8848967137535447, 0.7240105160259881, 0.3065919741108113, 0.8089661820718321, 0.3067616491116675, 0.6616127070975113, 0.3441444398616693, 0.44540705411556913, 0.4800531623027733, 0.8354545966884633, 0.2501965234482615, 0.0926890079600372, 0.1282667102240619, 0.2361951624423, 0.7463200318832991, 0.8509659890376436, 0.8957513353294814, 0.9960960577982291, 0.7296090254123324, 0.2723648678068138, 0.14143237287922594, 0.8472677186043905, 0.7121706492257459, 0.6467306512720323, 0.5301357431566436, 0.9893106000321761, 0.6884327609024268, 0.8910344687001711, 0.8127905272409062, 0.9154584975685144, 0.9414654606881481, 0.8862171281954597, 0.7689508075620541, 0.9165478060026575, 0.03024028029230663, 0.37276051653794395, 0.021570305517441768, 0.2482856567677616, 0.3589747723654366, 0.827547686677097, 0.49789739601642946, 0.9208756742036558, 0.04035514700569032, 0.6811321923264964, 0.055945715090529036, 0.03828367071469574, 0.25688504362046105, 0.3635579944662316, 0.24820415087874603, 0.0787838645196609, 0.8535311508885369, 0.29265737336890096, 0.3268816718675034, 0.3305806590895404, 0.7453169382646818, 0.2587773848518149, 0.06042024774945398, 0.8436988335619788, 0.28468607210813734, 0.6721112326819884, 0.3653445674346274, 0.0803117968809306, 0.857289235968399, 0.13419618050233617, 0.2727819229195708, 0.32966256774321867, 0.8230797381640954, 0.6100544651198844, 0.44562657618728607, 0.2713813375542563, 0.7618621576615145, 0.7667057370936186, 0.6112416677870458, 0.9055044750838451, 0.19527410679230317, 0.31808162860349876, 0.12561839585549406, 0.9540643901112587, 0.3961843699815718, 0.380966485562129, 0.020670380506950692, 0.6699101618031627, 0.22644309894681658, 0.11216582722601998, 0.9127278007468165, 0.11968722485539907, 0.6063743440911602, 0.318614226129744, 0.5134715091085392, 0.3727441210496717, 0.38380626457489186, 0.2285157158093334, 0.9517207089160775, 0.7181981883138797, 0.7498151121260421, 0.6238131582131871, 0.9690919385955195, 0.6122037152443253, 0.38546063962837196, 0.5669491121602195, 0.012179472520078338, 0.021379363760881342, 0.5207402835813464, 0.6406022987463682, 0.312181877920259, 0.32974586978830867, 0.6396465999216777, 0.9152067816813518, 0.8979714833049437, 0.9280887071563995, 0.5104906134919323, 0.1299513950887975, 0.36827977851501836, 0.9225967085108682, 0.9554269552002397, 0.822753112384586, 0.9813591766156683, 0.6155573446067919, 0.3734987208920073, 0.35995985853740253, 0.6424079905596725, 0.2638143580400858, 0.7226913507985221, 0.3359109298442601, 0.13030855939138197, 0.3446928146459042, 0.3290554803045629, 0.5424114936434599, 0.6648738091274211, 0.6763468145659169, 0.168598341518299, 0.21264610683155494, 0.011864153780756115, 0.42420885940725706, 0.8764784826039058, 0.2783578740832279, 0.6089733670368161, 0.134279914833207, 0.6937219492638692, 0.4931382947336861, 0.23603190295045184, 0.10386071867563873, 0.7857020168441992, 0.751147243618723, 0.546297101305559, 0.13649421563128028, 0.5379588771456095, 0.6096631845063101, 0.46636005053539287, 0.2609210016291367, 0.07198607956417702, 0.24188299996387808, 0.46677006644889774, 0.5896590399956236, 0.7906095501849726, 0.005998114215204242, 0.4621558235801012, 0.811628329545968, 0.4030746810466531, 0.6972427604564424, 0.24804124279713058, 0.3492066599521434, 0.0533710594615846, 0.9269280549234081, 0.8968844524257553, 0.11437542914987531, 0.24879435574248643, 0.27462053889963933, 0.06832500822227172, 0.04942334968255335, 0.22674012763215845, 0.5452685701392046, 0.9821994413892167, 0.8102979881193086, 0.93513335956502, 0.2912913889786378, 0.4145662632968472, 0.10682412247591, 0.0799928916440622, 0.030025963063343708, 0.48412193075206666, 0.11642852665071257, 0.771970407189774, 0.7085038970108827, 0.3821230555088496, 0.5852898597264268, 0.8149629039720837, 0.41935568203314255, 0.06938386891671144, 0.6600727395323842, 0.377939532767523, 0.3743597465052547, 0.23284171614958127, 0.6436029423795108, 0.5961913516426289, 0.46323775600608474, 0.2523917076006158, 0.5550659753698448, 0.31434534649912993, 0.45760811088195075, 0.9728141569143459, 0.8693106542560011, 0.6131809265786807, 0.8146757445345774, 0.386919437990794, 0.24384369357873925, 0.8691475754325109, 0.8937032842951955, 0.0666043235173378, 0.8962091195032097, 0.4184908706822421, 0.9330025130113085, 0.015490997182437183, 0.7367691528070233, 0.6398561459980472, 0.01050881493470901, 0.11868618611504489, 0.3984533251536233, 0.3126798866974594, 0.13348899610966525, 0.3051212094686876, 0.6145023990527242, 0.22571018777981255, 0.14450349629154913, 0.9116802877024528, 0.6128113588855044, 0.5973803992644685, 0.10037692447708113, 0.4619574401250218, 0.7565548503156055, 0.5854113636490565, 0.9507706514517635, 0.7354159527208409, 0.6688040647331062, 0.7422603870088396, 0.24401244087076046, 0.2923780216421159, 0.9348252844722285, 0.11301872742351948, 0.4477013056148015, 0.8697040522628854, 0.39911067008710477, 0.5201254801214129, 0.6672325376883556, 0.35732772149034464, 0.8375908326148416, 0.8028844069349323, 0.7297601687475734, 0.02105831166596317, 0.5624588255634511, 0.30072598791096616, 0.04014403757264129, 0.48915726204616106, 0.3803275282289065, 0.20068794894673747, 0.2368154892146972, 0.4945056322603064, 0.5257667692380559, 0.43751580995022954, 0.7616482043349457, 0.76495210780964, 0.8920287971712507, 0.14424815138879643, 0.4981142965760835, 0.8736965009101012, 0.8937153203534742, 0.7062446490912507, 0.5208275847164222, 0.972769776837921, 0.2705081163749846, 0.8870197351470691, 0.32828158045875266, 0.0987847405533332, 0.3289614838894095, 0.4455212810821444, 0.5728605355509616, 0.4327905194915903, 0.9593129508650744, 0.4477175044119944, 0.8930334778512545, 0.07777492197570468, 0.6445812184425798, 0.936237606385642, 0.2587563192277955, 0.29448481435530593, 0.8672385996594926, 0.0711550069550062, 0.6518728090736645, 0.9001228279633714, 0.9549777974208307, 0.7098263384582904, 0.4023933594236625, 0.6553264553165762, 0.25354842905397224, 0.14101432593320085, 0.4581682527627987, 0.094167116200774, 0.6671675847420522, 0.009128608135514749, 0.9839593494718776, 0.8172613629024598, 0.4901131118214187, 0.25312933083080047, 0.7489581163239244, 0.2299811113085526, 0.46319639082916375, 0.031369897189086005, 0.8336836124288721, 0.7924809451521734, 0.8562955630089822, 0.35246954598310865, 0.7673772914904405, 0.5368060222999188, 0.43228298662268494, 0.13580849837732611, 0.21725482050421296, 0.6498804028582615, 0.539189717464691, 0.2391423652624568, 0.5656523817315556, 0.3029119403054198, 0.9151395059956066, 0.26957352281603586, 0.5712363672002836, 0.8575608245791893, 0.4236710309844719, 0.17214368368998845, 0.7312120874045487, 0.5066183643697241, 0.8253276106790834, 0.7642360825254548, 0.8633102787975195, 0.4004933266207147, 0.3260568247149377, 0.5497511224500818, 0.6329762476810478, 0.2554779851397221, 0.19092312967051372, 0.23742150977757348, 0.29832917652556756, 0.848450680411585, 0.6159200949449012, 0.7681310181187507, 0.7596706519462094, 0.18532053882700805, 0.3839363874036774, 0.9621390284453307, 0.8848232036409449, 0.5306041711999302, 0.9121018021583038, 0.25932068756386284, 0.4819204732539554, 0.8155724243507337, 0.2730603941848567, 0.866372692768254, 0.729758558159121, 0.02983914895602935, 0.3477855739230461, 0.09182524667782621, 0.03901343854151751, 0.6833371642714093, 0.22919580689739427, 0.7896076676463678, 0.7371845652209172, 0.668026551464385, 0.583688908328554, 0.21339065281025138, 0.6241838586844674, 0.2825537078846676, 0.5505401655550659, 0.6433064120737119, 0.13692472572292314, 0.5431719642188702, 0.8104266791616118, 0.6353229670970308, 0.7465245567593877, 0.35716096462038427, 0.7015915724474534, 0.6740578968258388, 0.0030697525240159784, 0.9085082804204647, 0.4841677552049475, 0.8778251562944949, 0.8399528985805409, 0.7296739056191348, 0.5058342422593158, 0.9636132757725464, 0.7875941785535768, 0.6370165090706185, 0.3129738638543933, 0.6291895681369682, 0.668895325216821, 0.7495782436415361, 0.6194782668135408, 0.14842714294167592, 0.30953093840863044, 0.5644564673196594, 0.9176849270976024, 0.9652971660549985, 0.4883690126977558, 0.4145458395388918, 0.6732227154717244, 0.5605131296950994, 0.2183480728789835, 0.48572714963508024, 0.9492688382209955, 0.934102294670056, 0.6904636385424402, 0.9710143268713315, 0.45346185710622056, 0.377574392146907, 0.5276387717186749, 0.3526285773146758, 0.493356362649376, 0.7861873063085416, 0.11234426963856448, 0.3168460008507309, 0.6068072376352376, 0.5765292390305872, 0.1879626166485785, 0.11004660187704618, 0.30631185490195945, 0.1612810633146039, 0.5326715076238665, 0.1408586744501119, 0.23204755026663826, 0.9412080316999155, 0.18392690840862025, 0.2951054441701946, 0.45194995882584954, 0.3822425723417552, 0.849468619090295, 0.9606383128762954, 0.8711489746985354, 0.2025633628065936, 0.446721760323157, 0.3792173980078888, 0.2761248056950949, 0.02869820888168151, 0.6970017748173557, 0.8059537307072243, 0.9886885994676778, 0.7633099164264165, 0.9041225627990237, 0.5646315264766233, 0.025071505882917844, 0.6070142557278183, 0.3121011181908624, 0.6489987420651707, 0.6244619271650186, 0.6863937724170494, 0.30123810235414195, 0.7461338348853724, 0.2287108517223161, 0.5506017326955819, 0.11568095537906642, 0.41430319583090847, 0.11175918089681824, 0.1635899654959776, 0.1489518664986922, 0.3969620563854265, 0.834343239559824, 0.9494039183951688, 0.9536009888292165, 0.7763679837277325, 0.8927306046922773, 0.2417707351129681, 0.6560657707718545, 0.7785001856180831, 0.6617613709841839, 0.7456804030426861, 0.18941061655189384, 0.5646054202155167, 0.524681352484325, 0.7697508823002558, 0.11718931302752944, 0.7470545475708843, 0.4617403315607139, 0.9902649664308875, 0.3487369065838152, 0.6547878513334022, 0.7589341945948153, 0.42880745416262267, 0.8350936659978895, 0.34236765013870984, 0.47954106921377315, 0.1461508783245199, 0.8891617019742558, 0.5342735128271089, 0.3743625748467746, 0.28947441352002123, 0.4533686729867341, 0.855889662716355, 0.6402221436275749, 0.37178141596116954, 0.7886641620401762, 0.13211079040212947, 0.9237201872734282, 0.4374571312778125, 0.4668559420130147, 0.6044976628593841, 0.8535705066055073, 0.9602690853594803, 0.8972575115520618, 0.5064028278702374, 0.6027809081877236, 0.5554820478264849, 0.14283720741568295, 0.5931184019826987, 0.6377447504612345, 0.6629218843971707, 0.791259759979077, 0.943504004099833, 0.9548568155534395, 0.8047031790576781, 0.6927964590401484, 0.46027494977938543, 0.7071320014661954, 0.1687412303907344, 0.3133095825843908, 0.4379184065164585, 0.18785331829268415, 0.317318112884319, 0.9802555448989502, 0.22786629915867407, 0.9449400573464685, 0.7310076892446025, 0.8131948982309405, 0.40870389283533803, 0.753326057190225, 0.5147080959958232, 0.11695296180451109, 0.4924437522829178, 0.15073126743415055, 0.03003975878585019, 0.9479378962144185, 0.4906331013499884, 0.2866181464596611, 0.8047710692903677, 0.8834696298490174, 0.47830658821285765, 0.42991578275467, 0.1794875512186026, 0.5552106910514433, 0.4171386111964219, 0.741821738928899, 0.2515975576804391, 0.4985591090737589, 0.20282800226024778, 0.1781511230206162, 0.5678736131046611, 0.10219376986525852, 0.805364340214772, 0.923807011956983, 0.7215407901787488, 0.572719329999738, 0.286275964425171, 0.7051320848388075, 0.6636683760354332, 0.1923993631899823, 0.6290410860073637, 0.6227403373399821, 0.15428767797735965, 0.5609147251074094, 0.9887942166377379, 0.8303359233714074, 0.3321747168457002, 0.1869209250738494, 0.10737297146984537, 0.2325822937578923, 0.47793087074506535, 0.3856735937494009, 0.5433506420826816, 0.8780818513177716, 0.9115194951061416, 0.48393999627919526, 0.13413257798615252, 0.29137794196004196, 0.5976191318313528, 0.9079453512390248, 0.04548551025968672, 0.7730723347089525, 0.69889925656384, 0.13227767560646142, 0.5110739084697649, 0.6438061236307363, 0.47191603920928693, 0.9092710333940655, 0.7733194667251455, 0.7181328462814569, 0.674286246545462, 0.5182859575199384, 0.9141632127949657, 0.22505473456815173, 0.9152406376433965, 0.7472683284369911, 0.14052351196515156, 0.7090642145700722, 0.205675244846245, 0.412951003896314, 0.5999965715373983, 0.02524832433781965, 0.05753175135693789, 0.2406538822419254, 0.9251947321094436, 0.5846360462102671, 0.6913096302596584, 0.2935080601157981, 0.3660773906094057, 0.10556691626608972, 0.18073412269514477, 0.5123052706400077, 0.47285609134450135, 0.2111900562881227, 0.2756423854983824, 0.034332854948267766, 0.7620394682955464, 0.9924156880132442, 0.9381548264613588, 0.24707408520286023, 0.6312552753759404, 0.3052063362651173, 0.36457634702563124, 0.8058977196169654, 0.2173486309315953, 0.12216908222517642, 0.3063859383919044, 0.016755296203816883, 0.3605456784027704, 0.03250624998535656, 0.4046048960158054, 0.37645675770473863, 0.7102025409221722, 0.12122080702580273, 0.9700389345073516, 0.8058772028398156, 0.5575358737383249, 0.7776241392745831, 0.99771476773248, 0.9477963393403359, 0.18448431617111571, 0.2638254984145745, 0.23304704161639322, 0.8287547280793595, 0.34419852976977483, 0.041925896985608, 0.722486894514271, 0.6464819541395491, 0.5466668177443749, 0.5320064734404426, 0.30921911380383993, 0.6740981018700083, 0.2090636223733704, 0.035603625874156664, 0.6198339799046911, 0.3603774380049807, 0.8395185133166561, 0.6013013215627692, 0.7807627897386904, 0.6397298802092857, 0.6785494310414133, 0.20976287968602814, 0.9360912913759298, 0.05208105854948786, 0.048228580935098964, 0.8609929675884624, 0.36487546213263555, 0.05663375541474969, 0.011950514089095088, 0.301040261347731, 0.5484743146861143, 0.6227070986097505, 0.3194253801302732, 0.20595813806836327, 0.4831044166641766, 0.017754608831957897, 0.566968376813072, 0.5464602026832115, 0.5331247760745288, 0.762177076670948, 0.6458674256193904, 0.11943959616272781, 0.07404445020343386, 0.6866483806779157, 0.15393358808608082, 0.6852337127852843, 0.7655593831659805, 0.31726524240447984, 0.9068869736364771, 0.9169722106074224, 0.05570824563169263, 0.31427065121308184, 0.5224666846834795, 0.7237893580644688, 0.7767727415559178, 0.17130931344276445, 0.9406414206093984, 0.08216650344474574, 0.48595869656252866, 0.6439260091632447, 0.7248860525165164, 0.42340262243052884, 0.15138721397743193, 0.9053584840159316, 0.6844547043406097, 0.854466802816271, 0.9509438971914103, 0.8392573325862934, 0.7598872231545389, 0.31774542473834044, 0.9950338620153182, 0.3572769707142598, 0.08084698245252986, 0.4544447387772419, 0.6980987257831167, 0.6174600650966673, 0.8564935720550988, 0.46804208485375987, 0.5099918947520238, 0.4318188598101801, 0.3800996851230565, 0.18801454449792498, 0.5183654094689596, 0.9685780746107157, 0.4242899711201359, 0.03556255639214667, 0.6584168036749171, 0.10515415148431284, 0.7074144721314237, 0.5985229533200505, 0.44693212478234223, 0.2853912331727242, 0.04147191605063072, 0.964880457303753, 0.1786078548662292, 0.9564320571831838, 0.41316706322416996, 0.5997431565295528, 0.350638016651992, 0.4670729453682997, 0.902137176978549, 0.8053116201202635, 0.21858464020349921, 0.08371345890767867, 0.2380820805012691, 0.8018928060338402, 0.9603232509341268, 0.5403513544174846, 0.9269087934749289, 0.9418530001294542, 0.13726648174414136, 0.597207515054977, 0.7193965120419377, 0.3146206850981176, 0.022382493141249515, 0.9946861503280549, 0.6949290952887254, 0.33148553836716366, 0.3636576451898995, 0.7681278772211149, 0.02260384834438567, 0.9950101485181687, 0.04320129540858153, 0.6084388233528866, 0.11617115605684714, 0.66088654468997, 0.2224343377983663, 0.7089945035159575, 0.2652416937767904, 0.923327230704123, 0.031150955562209703, 0.33848215407454396, 0.3042002061048533, 0.04194302377214032, 0.5356358451181507, 0.4741673863509862, 0.18817073698093312, 0.571443808358376, 0.9685398661931673, 0.6964864653185331, 0.6969516047616318, 0.00027750388093672473, 0.8272833812226671, 0.01333713384630042, 0.6383775023383632, 0.6007885082721628, 0.41178946199293176, 0.7503143772795554, 0.8944246554194951, 0.6174993503356188, 0.8729697603318408, 0.46866723136192145, 0.297425510638303, 0.8865492188962615, 0.5781638319205575, 0.49137608987970516, 0.28714347170176024, 0.48108382226908886, 0.634726097392349, 0.10570813647955601, 0.24398698943291108, 0.961647714692409, 0.9707752564798761, 0.40811278496793857, 0.8020600776673442, 0.4773336571591833, 0.2563630440264095, 0.07587153377071665, 0.9798119433117315, 0.5044138038133686, 0.8981383712157771, 0.2663884324387371, 0.17412821922066246, 0.0095176773354545, 0.763488573300894, 0.7622669333651556, 0.06309370040208462, 0.011742896284799631, 0.7504203624887017, 0.8487914216667027, 0.9513503059287794, 0.09966928635380001, 0.5265809059408709, 0.5355288473266351, 0.1386719282893525, 0.43398972846172235, 0.5409769341290847, 0.8767311442206525, 0.4659770088401267, 0.39912380167610273, 0.8391905746817927, 0.9653340293062898, 0.008147629362082687, 0.2544909993534993, 0.979899088632922, 0.054103122803665804, 0.2168434340605805, 0.9192509665811535, 0.6175163510545654, 0.33977930535014966, 0.9380369149608836, 0.7443765776853473, 0.5613579952973131, 0.04555386902159264, 0.17827630715848075, 0.4172138593630276, 0.02366904314370155, 0.41254631226295113, 0.29983186392671235, 0.6934493142076218, 0.08283971112649924, 0.6995144218811282, 0.3047336521541034, 0.8491913953822732, 0.6483857228004026, 0.9390716603137516, 0.8598688035334374, 0.42612151497811024, 0.9000842121511413, 0.1441939418569571, 0.4951125150371125, 0.37101942886421324, 0.9950038222614181, 0.9286158607313713, 0.7681567886690925, 0.6168255658121147, 0.47581513995790325, 0.8124397048811782, 0.96922171032316, 0.09114484330856254, 0.7291829168701586, 0.7195512309391559]\n"
     ]
    }
   ],
   "source": [
    "weights = [random.random() for i in range(len(df['Estatura']))]\n",
    "print(weights)"
   ]
  },
  {
   "cell_type": "code",
   "execution_count": 65,
   "metadata": {
    "colab": {
     "base_uri": "https://localhost:8080/"
    },
    "executionInfo": {
     "elapsed": 269,
     "status": "ok",
     "timestamp": 1646416372425,
     "user": {
      "displayName": "Pedro Oscar Pérez Murueta",
      "photoUrl": "https://lh3.googleusercontent.com/a-/AOh14GjAp4grs-Dbvo16yvVecmZ6TtiIdA4j7shQwFHpqA=s64",
      "userId": "06271884207723677071"
     },
     "user_tz": 360
    },
    "id": "Ygd48u8_D_uG",
    "outputId": "c94f236a-dce2-4cf0-9ad9-d20d5e5dfbf7"
   },
   "outputs": [
    {
     "name": "stdout",
     "output_type": "stream",
     "text": [
      "Media ponderada:  168.51758870589953\n"
     ]
    }
   ],
   "source": [
    "accWeightedValues = df['Estatura'].values.flatten().dot(weights)\n",
    "weightedMean = accWeightedValues / sum(weights)\n",
    "print('Media ponderada: ', weightedMean)"
   ]
  },
  {
   "cell_type": "markdown",
   "metadata": {
    "id": "NZJYwRkHEFGo"
   },
   "source": [
    "### Moda"
   ]
  },
  {
   "cell_type": "markdown",
   "metadata": {
    "id": "wJFn_6MEEGcG"
   },
   "source": [
    "La moda es el valor con mayor frecuencia en la distribución de datos. Si tomamos como ejemplo una muestra compuesta de los siguientes 5 números: 3, 8, 2, 8, 1; el valor modal es 8, ya que se es el que se repite la mayor cantidad de veces. La moda sirve para definir lo más común, lo que más se usa o lo que es más frecuente, en términos matemáticos, el valor de mayor frecuencia absoluta."
   ]
  },
  {
   "cell_type": "code",
   "execution_count": 66,
   "metadata": {
    "colab": {
     "base_uri": "https://localhost:8080/"
    },
    "executionInfo": {
     "elapsed": 301,
     "status": "ok",
     "timestamp": 1646416410414,
     "user": {
      "displayName": "Pedro Oscar Pérez Murueta",
      "photoUrl": "https://lh3.googleusercontent.com/a-/AOh14GjAp4grs-Dbvo16yvVecmZ6TtiIdA4j7shQwFHpqA=s64",
      "userId": "06271884207723677071"
     },
     "user_tz": 360
    },
    "id": "vq_xbCqGEJ6y",
    "outputId": "fa37bb21-4f80-4f25-8084-c007f4a86272"
   },
   "outputs": [
    {
     "name": "stdout",
     "output_type": "stream",
     "text": [
      "Moda:  137.82835865820002\n"
     ]
    }
   ],
   "source": [
    "moda = pd.Series(df['Estatura'].values.flatten()).mode()[0]\n",
    "print('Moda: ', moda)"
   ]
  },
  {
   "cell_type": "markdown",
   "metadata": {
    "id": "AXwXOqouEOd-"
   },
   "source": [
    "### Mediana"
   ]
  },
  {
   "cell_type": "markdown",
   "metadata": {
    "id": "R5wWTBq9EP9Y"
   },
   "source": [
    "La mediana es el número del medio de una lista de datos ordenada. Si hay un número par de valores de datos, el valor medio es uno que no está realmente en el conjunto de datos, sino que es el promedio de los dos valores que dividen los datos ordenados en dos mitades. En comparación con la media, que usa todas las observaciones, la mediana solo depende de los valores en el centro de los datos ordenados. Si bien, esto puede parecer una desventaja, dado que la media es mucho más sensible a los datos, hay muchos casos en los que la mediana es una mejor métrica para la ubicación. Supongamos que queremos analizar los ingresos familiares típicos en los vecindarios de una zona. Al comparar un vecindario de ingresos altos con un vecindario de ingresos bajos, usar la media producirá resultados muy diferentes. Si usamos la mediana, no importa cuán rico sean los que vivan en un vecindario; la posición de la observación intermedia seguirá siendo la misma."
   ]
  },
  {
   "cell_type": "code",
   "execution_count": 67,
   "metadata": {
    "colab": {
     "base_uri": "https://localhost:8080/"
    },
    "executionInfo": {
     "elapsed": 350,
     "status": "ok",
     "timestamp": 1646416451444,
     "user": {
      "displayName": "Pedro Oscar Pérez Murueta",
      "photoUrl": "https://lh3.googleusercontent.com/a-/AOh14GjAp4grs-Dbvo16yvVecmZ6TtiIdA4j7shQwFHpqA=s64",
      "userId": "06271884207723677071"
     },
     "user_tz": 360
    },
    "id": "a1x9HDNBETrv",
    "outputId": "8f6bd33c-9442-451b-e96b-114c1703ddb5"
   },
   "outputs": [
    {
     "name": "stdout",
     "output_type": "stream",
     "text": [
      "Mediana: 168.4478980032\n"
     ]
    }
   ],
   "source": [
    "print('Mediana:', df['Estatura'].median())"
   ]
  },
  {
   "cell_type": "markdown",
   "metadata": {
    "id": "xE7hz5o0EXK3"
   },
   "source": [
    "Por las mismas razones por las que usamos una media ponderada, también es posible calcular una mediana ponderada. Al igual que con la mediana, primero ordenamos los datos, aunque cada valor de datos tiene un peso asociado. En lugar de tomar el número del medio, la mediana pondera es el valor tal que la suma de los pesos es igual para ambas mitades de la lista ordenada. Como la mediana, la mediana ponderada es robusta a los valores atípicos (outliners)."
   ]
  },
  {
   "cell_type": "markdown",
   "metadata": {
    "id": "o3BoWIEIEajY"
   },
   "source": [
    "### Valores atípicos"
   ]
  },
  {
   "cell_type": "markdown",
   "metadata": {
    "id": "HJc2JXxAEdEA"
   },
   "source": [
    "La mediana no es la única estimación sólida de la ubicación. De hecho, una media recortada se usa ampliamente para evitar la influencia de valores atípicos. Por ejemplo, recortar el 10% inferior y superior (una estrategia muy usada) de los datos proporcionará protección contra valores atípicos en todos los conjuntos de datos, excepto en los más pequeños. Se puede pensar en la media recortada como un compromiso entre la media y la mediana: es robusta a los valores extremos en los datos, pero utiliza más datos para calcular la estimación de la ubicación."
   ]
  },
  {
   "cell_type": "markdown",
   "metadata": {
    "id": "lfSZ7gMMEgd3"
   },
   "source": [
    "### Desviación estándar"
   ]
  },
  {
   "cell_type": "markdown",
   "metadata": {
    "id": "kOR_KNq6Eix_"
   },
   "source": [
    "La ubicación es solo una dimensión para resumir una característica. Una segunda dimensión, la variabilidad, también conocida como dispersión, mide que tan agrupados o dispersos están los datos. La variabilidad es un concepto muy importante a tener en cuenta: hay que medirla, reducirla, distinguir en la variabilidad aleatoria y la real, identificar las diversas fuentes de variabilidad real y tomar decisiones sobre ella. Asi como existen diferentes formas de medir la ubicación (media, mediana, etc.) también existen diferente formas de medir la variabilidad.\n",
    "\n",
    "Las estimaciones de variación más utilizadas se basan en las diferencia entre la media (una estimación de ubicación) y los datos observados. Para un conjunto de datos, [1, 4, 4], la media es 3 y la mediana es 4. Las desviaciones de la media son las diferencias (1 - 3 = -2, 4 - 3 = 1, 4 - 3 = 1). Estas desviaciones nos dicen qué tan dispersos están los datos alrededor del valor central.\n",
    "\n",
    "Las estimaciones de variabilidad más conocidas son la varianza y la desviación estándar, que se basan en desviaciones cuadradas. La varianza es un promedio de las desviaciones cuadradas y la desviación estándar es la raíz cuadrada de la varianza."
   ]
  },
  {
   "cell_type": "markdown",
   "metadata": {
    "id": "ffDvxbfLEl7h"
   },
   "source": [
    "Varianza = $s^{2}$ = $\\frac{\\sum_{i=1}^{N}(x_{i} - \\bar{x})^{2} }{N - 1}$"
   ]
  },
  {
   "cell_type": "markdown",
   "metadata": {
    "id": "koc-1DPPEqBv"
   },
   "source": [
    "Desviación estándar = $\\sqrt{Varianza}$"
   ]
  },
  {
   "cell_type": "code",
   "execution_count": 68,
   "metadata": {
    "colab": {
     "base_uri": "https://localhost:8080/"
    },
    "executionInfo": {
     "elapsed": 2,
     "status": "ok",
     "timestamp": 1646416555084,
     "user": {
      "displayName": "Pedro Oscar Pérez Murueta",
      "photoUrl": "https://lh3.googleusercontent.com/a-/AOh14GjAp4grs-Dbvo16yvVecmZ6TtiIdA4j7shQwFHpqA=s64",
      "userId": "06271884207723677071"
     },
     "user_tz": 360
    },
    "id": "jx3Q4CHwErk4",
    "outputId": "7c8fbb5d-0d17-4d63-ff25-cd3f48daa0bb"
   },
   "outputs": [
    {
     "name": "stdout",
     "output_type": "stream",
     "text": [
      "Varianza:  95.50608408624122\n"
     ]
    }
   ],
   "source": [
    "print('Varianza: ', df['Estatura'].var())"
   ]
  },
  {
   "cell_type": "code",
   "execution_count": 69,
   "metadata": {
    "colab": {
     "base_uri": "https://localhost:8080/"
    },
    "executionInfo": {
     "elapsed": 271,
     "status": "ok",
     "timestamp": 1646416568279,
     "user": {
      "displayName": "Pedro Oscar Pérez Murueta",
      "photoUrl": "https://lh3.googleusercontent.com/a-/AOh14GjAp4grs-Dbvo16yvVecmZ6TtiIdA4j7shQwFHpqA=s64",
      "userId": "06271884207723677071"
     },
     "user_tz": 360
    },
    "id": "sTGVA7rlEwR_",
    "outputId": "c47bb10b-01ba-4781-f6d3-69db915ab464"
   },
   "outputs": [
    {
     "name": "stdout",
     "output_type": "stream",
     "text": [
      "Desviación estándar:  9.772721426820741\n"
     ]
    }
   ],
   "source": [
    "print('Desviación estándar: ', df['Estatura'].std())"
   ]
  },
  {
   "cell_type": "markdown",
   "metadata": {
    "id": "DvPFShNAE2FP"
   },
   "source": [
    "### Desviación absoluta mediana"
   ]
  },
  {
   "cell_type": "markdown",
   "metadata": {
    "id": "53QMonDzE4QQ"
   },
   "source": [
    "Promediar las desviaciones en sí no nos diría mucho: las desviaciones negativas compensan las positivas. De hecho, la suma de las desviaciones de la media es exactamente cero. En cambio, un enfoque simple es tomar el promedio de los valores absolutos de las desviaciones de la media. En el ejemplo anterior, el valor absoluto de las desviaciones es [2, 1, 1] y su promedio es (2 + 1+ 1) / 3 = 1.33. Esta se conoce como la desviación absoluta media y se calcula mediante la fórmula:"
   ]
  },
  {
   "cell_type": "markdown",
   "metadata": {
    "id": "LrSyKwZTE52H"
   },
   "source": [
    "Desviación absoluta mediana = $Mediana(\\left | x_{1} - m \\right |, \\left | x_{2} - m \\right |, ..., \\left | x_{N} - m \\right |)$"
   ]
  },
  {
   "cell_type": "markdown",
   "metadata": {
    "id": "RAMmFCj9E8jp"
   },
   "source": [
    "La desviación estándar es mucho más fácil de interpretar que la varianza, ya que está en la misma escala que los datos originales. Aun así, con su fórmula más complicada y menos intuitiva, puede parecer extraño que en las estadísticas se prefiera la desviación estándar a la desviación media absoluta. Su preferencia se debe a que, matemáticamente, trabajar con valores cuadrados es mucho más conveniente que con valores absolutos, especialmente para modelos estadísticos."
   ]
  },
  {
   "cell_type": "code",
   "execution_count": 70,
   "metadata": {
    "colab": {
     "base_uri": "https://localhost:8080/"
    },
    "executionInfo": {
     "elapsed": 2,
     "status": "ok",
     "timestamp": 1646416636486,
     "user": {
      "displayName": "Pedro Oscar Pérez Murueta",
      "photoUrl": "https://lh3.googleusercontent.com/a-/AOh14GjAp4grs-Dbvo16yvVecmZ6TtiIdA4j7shQwFHpqA=s64",
      "userId": "06271884207723677071"
     },
     "user_tz": 360
    },
    "id": "a1UMdgNME_nf",
    "outputId": "3af38682-32a7-473c-fa1f-cd600510f8d8"
   },
   "outputs": [
    {
     "name": "stdout",
     "output_type": "stream",
     "text": [
      "Desviación absoluta media:  8.046780026124935\n"
     ]
    }
   ],
   "source": [
    "dam = pd.Series(df['Estatura'].values.flatten()).mad()\n",
    "print('Desviación absoluta media: ', dam)"
   ]
  },
  {
   "cell_type": "markdown",
   "metadata": {
    "id": "CIdt4QaEFFcU"
   },
   "source": [
    "### Estimaciones basadas en percentiles"
   ]
  },
  {
   "cell_type": "markdown",
   "metadata": {
    "id": "Iuxu9HYEFIkQ"
   },
   "source": [
    "Un enfoque diferente que se puede emplear para estimar la dispersión se basa en observar la separación de los datos clasificados. Las estadísticas basadas en datos ordenados, o clasificados, se denominan estadísticas de orden. La medida más básica es el rango: la diferencia entre el número más grande y el más pequeño. Es útil conocer los valores mínimos y máximos en sí mismos y para identificar los valores atípicos, pero el rango es extremadamente sensible a los valores atípicos y no es muy útil como medida general de dispersión.\n",
    "\n",
    "Para evitar la sensibilidad a valores atípicos, podemos mirar el rango de los datos después de eliminar los valores de cada extremo. Formalmente, este tipo de estimaciones se basan en diferencias entre percentiles. En un conjunto de datos, el $n$-ésimo percentil es un valor tal que, al menos, el $n$ por ciento de los valores toman este valor o menos $(100 - n)$ por ciento de los valores toman este valor o más. Por ejemplo, si queremos conocer el percentil 80, ordenamos los dartos. Luego, comenzando con el valor más pequeño, continuamos el 80 por ciento del camino hasta el valor más grande. Ten en cuenta que la mediana es lo mismo que el percentil 50. El percentil es, esencialmente, lo mismo que un cuantil, con cuantiles indexados por fracciones (el cuantil .8 es el percentil 80).\n",
    "\n",
    "Una medida común de variabilidad es la diferencia entre el percentil 25 y el percentil 75, también llamado rango intercuartílico (o IQR). Por ejemplo, queremos conocer el IQR del conjunto de datos [3, 1, 5, 3, 6, 7, 2, 9]. Ordenamos los datos para obtener [1, 2, 3, 3, 5, 6, 7, 9]. El percentil 25 está en 2.5, el percentil 75 está en 6.5, por lo que el rango intercuartílico es 6.5 - 2.5 = 4."
   ]
  },
  {
   "cell_type": "code",
   "execution_count": 71,
   "metadata": {
    "colab": {
     "base_uri": "https://localhost:8080/"
    },
    "executionInfo": {
     "elapsed": 276,
     "status": "ok",
     "timestamp": 1646665763632,
     "user": {
      "displayName": "Pedro Oscar Pérez Murueta",
      "photoUrl": "https://lh3.googleusercontent.com/a-/AOh14GjAp4grs-Dbvo16yvVecmZ6TtiIdA4j7shQwFHpqA=s64",
      "userId": "06271884207723677071"
     },
     "user_tz": 360
    },
    "id": "KZMCs571FLrQ",
    "outputId": "95e9660a-f893-4532-c812-be85f5f5e3bf"
   },
   "outputs": [
    {
     "data": {
      "text/plain": [
       "0.25    161.304276\n",
       "0.50    168.447898\n",
       "0.75    175.702625\n",
       "Name: Estatura, dtype: float64"
      ]
     },
     "execution_count": 71,
     "metadata": {},
     "output_type": "execute_result"
    }
   ],
   "source": [
    "df['Estatura'].quantile([0.25,0.50, 0.75])"
   ]
  },
  {
   "cell_type": "markdown",
   "metadata": {
    "id": "gsTq3raX_Nxy"
   },
   "source": [
    "El método de *métrica* puede ser cualquiera de los estadísticos que vimos anteriormente (min, max, sum, count, mean, median, std, var)."
   ]
  },
  {
   "cell_type": "code",
   "execution_count": 74,
   "metadata": {
    "colab": {
     "base_uri": "https://localhost:8080/",
     "height": 457
    },
    "executionInfo": {
     "elapsed": 270,
     "status": "ok",
     "timestamp": 1646666802087,
     "user": {
      "displayName": "Pedro Oscar Pérez Murueta",
      "photoUrl": "https://lh3.googleusercontent.com/a-/AOh14GjAp4grs-Dbvo16yvVecmZ6TtiIdA4j7shQwFHpqA=s64",
      "userId": "06271884207723677071"
     },
     "user_tz": 360
    },
    "id": "mnJMcRss_O1U",
    "outputId": "eac3f185-fe86-42af-fa61-b23303a88ed3"
   },
   "outputs": [
    {
     "data": {
      "text/html": [
       "<div>\n",
       "<style scoped>\n",
       "    .dataframe tbody tr th:only-of-type {\n",
       "        vertical-align: middle;\n",
       "    }\n",
       "\n",
       "    .dataframe tbody tr th {\n",
       "        vertical-align: top;\n",
       "    }\n",
       "\n",
       "    .dataframe thead th {\n",
       "        text-align: right;\n",
       "    }\n",
       "</style>\n",
       "<table border=\"1\" class=\"dataframe\">\n",
       "  <thead>\n",
       "    <tr style=\"text-align: right;\">\n",
       "      <th></th>\n",
       "      <th>Estatura</th>\n",
       "    </tr>\n",
       "    <tr>\n",
       "      <th>Genero</th>\n",
       "      <th></th>\n",
       "    </tr>\n",
       "  </thead>\n",
       "  <tbody>\n",
       "    <tr>\n",
       "      <th>Female</th>\n",
       "      <td>186.409548</td>\n",
       "    </tr>\n",
       "    <tr>\n",
       "      <th>Male</th>\n",
       "      <td>200.656806</td>\n",
       "    </tr>\n",
       "  </tbody>\n",
       "</table>\n",
       "</div>"
      ],
      "text/plain": [
       "          Estatura\n",
       "Genero            \n",
       "Female  186.409548\n",
       "Male    200.656806"
      ]
     },
     "execution_count": 74,
     "metadata": {},
     "output_type": "execute_result"
    }
   ],
   "source": [
    "# Calcular la estatura máxima por grupo de género.\n",
    "df.groupby(['Genero']).max()[['Estatura']]"
   ]
  },
  {
   "cell_type": "code",
   "execution_count": 75,
   "metadata": {
    "colab": {
     "base_uri": "https://localhost:8080/",
     "height": 206
    },
    "executionInfo": {
     "elapsed": 258,
     "status": "ok",
     "timestamp": 1646666862375,
     "user": {
      "displayName": "Pedro Oscar Pérez Murueta",
      "photoUrl": "https://lh3.googleusercontent.com/a-/AOh14GjAp4grs-Dbvo16yvVecmZ6TtiIdA4j7shQwFHpqA=s64",
      "userId": "06271884207723677071"
     },
     "user_tz": 360
    },
    "id": "3lrqlB-M_W6Y",
    "outputId": "beb1cd66-a256-4b45-b380-9c56cedf33cb"
   },
   "outputs": [
    {
     "data": {
      "text/html": [
       "<div>\n",
       "<style scoped>\n",
       "    .dataframe tbody tr th:only-of-type {\n",
       "        vertical-align: middle;\n",
       "    }\n",
       "\n",
       "    .dataframe tbody tr th {\n",
       "        vertical-align: top;\n",
       "    }\n",
       "\n",
       "    .dataframe thead th {\n",
       "        text-align: right;\n",
       "    }\n",
       "</style>\n",
       "<table border=\"1\" class=\"dataframe\">\n",
       "  <thead>\n",
       "    <tr style=\"text-align: right;\">\n",
       "      <th></th>\n",
       "      <th>Estatura</th>\n",
       "    </tr>\n",
       "    <tr>\n",
       "      <th>Genero</th>\n",
       "      <th></th>\n",
       "    </tr>\n",
       "  </thead>\n",
       "  <tbody>\n",
       "    <tr>\n",
       "      <th>Female</th>\n",
       "      <td>137.828359</td>\n",
       "    </tr>\n",
       "    <tr>\n",
       "      <th>Male</th>\n",
       "      <td>148.353539</td>\n",
       "    </tr>\n",
       "  </tbody>\n",
       "</table>\n",
       "</div>"
      ],
      "text/plain": [
       "          Estatura\n",
       "Genero            \n",
       "Female  137.828359\n",
       "Male    148.353539"
      ]
     },
     "execution_count": 75,
     "metadata": {},
     "output_type": "execute_result"
    }
   ],
   "source": [
    "# Calcular la estatura minima por grupo de género.\n",
    "df.groupby(['Genero']).min()[['Estatura']]"
   ]
  },
  {
   "cell_type": "code",
   "execution_count": 77,
   "metadata": {
    "colab": {
     "base_uri": "https://localhost:8080/",
     "height": 269
    },
    "executionInfo": {
     "elapsed": 247,
     "status": "ok",
     "timestamp": 1646666916800,
     "user": {
      "displayName": "Pedro Oscar Pérez Murueta",
      "photoUrl": "https://lh3.googleusercontent.com/a-/AOh14GjAp4grs-Dbvo16yvVecmZ6TtiIdA4j7shQwFHpqA=s64",
      "userId": "06271884207723677071"
     },
     "user_tz": 360
    },
    "id": "BBxecRd7_qML",
    "outputId": "4aa67d0f-f626-49a4-8acc-535b27957ebb"
   },
   "outputs": [
    {
     "data": {
      "text/html": [
       "<div>\n",
       "<style scoped>\n",
       "    .dataframe tbody tr th:only-of-type {\n",
       "        vertical-align: middle;\n",
       "    }\n",
       "\n",
       "    .dataframe tbody tr th {\n",
       "        vertical-align: top;\n",
       "    }\n",
       "\n",
       "    .dataframe thead th {\n",
       "        text-align: right;\n",
       "    }\n",
       "</style>\n",
       "<table border=\"1\" class=\"dataframe\">\n",
       "  <thead>\n",
       "    <tr style=\"text-align: right;\">\n",
       "      <th></th>\n",
       "      <th>Estatura</th>\n",
       "    </tr>\n",
       "    <tr>\n",
       "      <th>Genero</th>\n",
       "      <th></th>\n",
       "    </tr>\n",
       "  </thead>\n",
       "  <tbody>\n",
       "    <tr>\n",
       "      <th>Female</th>\n",
       "      <td>161.820285</td>\n",
       "    </tr>\n",
       "    <tr>\n",
       "      <th>Male</th>\n",
       "      <td>175.326919</td>\n",
       "    </tr>\n",
       "  </tbody>\n",
       "</table>\n",
       "</div>"
      ],
      "text/plain": [
       "          Estatura\n",
       "Genero            \n",
       "Female  161.820285\n",
       "Male    175.326919"
      ]
     },
     "execution_count": 77,
     "metadata": {},
     "output_type": "execute_result"
    }
   ],
   "source": [
    "# Calcular la estaura promedio por grupo de genero.\n",
    "\n",
    "df.groupby(['Genero']).mean()[['Estatura']]"
   ]
  },
  {
   "cell_type": "code",
   "execution_count": 79,
   "metadata": {},
   "outputs": [],
   "source": [
    "value = df.values"
   ]
  },
  {
   "cell_type": "code",
   "execution_count": 80,
   "metadata": {},
   "outputs": [],
   "source": [
    "dhombres = df.values[:5000]\n",
    "dmujeres = df.values[5000:]\n",
    "peso_h = dhombres[:,2]\n",
    "peso_m = dmujeres[:,2]\n",
    "altura_h = dhombres[:,1]\n",
    "altura_m = dmujeres[:,1]"
   ]
  },
  {
   "cell_type": "code",
   "execution_count": 81,
   "metadata": {},
   "outputs": [
    {
     "data": {
      "text/plain": [
       "(array([  22.,  321., 1492., 2084.,  950.,  119.,   12.]),\n",
       " array([51.319517909090905, 61.5199568116883, 71.7203957142857,\n",
       "        81.9208346168831, 92.1212735194805, 102.3217124220779,\n",
       "        112.5221513246753, 122.7225902272727], dtype=object),\n",
       " <BarContainer object of 7 artists>)"
      ]
     },
     "execution_count": 81,
     "metadata": {},
     "output_type": "execute_result"
    },
    {
     "data": {
      "image/png": "[encoded data removed]",
      "text/plain": [
       "<Figure size 432x288 with 1 Axes>"
      ]
     },
     "metadata": {
      "needs_background": "light"
     },
     "output_type": "display_data"
    }
   ],
   "source": [
    "plt.hist(peso_h,7) #el numero son los bins del histograma"
   ]
  },
  {
   "cell_type": "code",
   "execution_count": null,
   "metadata": {},
   "outputs": [],
   "source": []
  }
 ],
 "metadata": {
  "colab": {
   "authorship_tag": "ABX9TyPp7BjZ7IEj+uzd212hw+yc",
   "collapsed_sections": [],
   "name": "06-1-estadistica-basica.ipynb",
   "provenance": []
  },
  "kernelspec": {
   "display_name": "Python 3 (ipykernel)",
   "language": "python",
   "name": "python3"
  },
  "language_info": {
   "codemirror_mode": {
    "name": "ipython",
    "version": 3
   },
   "file_extension": ".py",
   "mimetype": "text/x-python",
   "name": "python",
   "nbconvert_exporter": "python",
   "pygments_lexer": "ipython3",
   "version": "3.9.7"
  }
 },
 "nbformat": 4,
 "nbformat_minor": 1
}
